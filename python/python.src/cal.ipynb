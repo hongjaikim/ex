{
 "cells": [
  {
   "cell_type": "code",
   "execution_count": null,
   "id": "36262b0e",
   "metadata": {},
   "outputs": [],
   "source": [
    "# 3 + 4 -> 7 계산기 프로그램\n",
    "# 반복해서 작성\n",
    "# 처음 문자에 'q'가 입력되면 프로그램 종료\n",
    "# 1. 문자열 입력 -> 리스트에 저장\n",
    "# 2. 리스트의 자료를 가져 옴\n",
    "# 3. 리스트의 처음 자료가 'q'이면 프로그램 종료\n",
    "# 4. 계속 입력 -> 리스트에 저장\n",
    " \n",
    " \n"
   ]
  },
  {
   "cell_type": "code",
   "execution_count": 57,
   "id": "66523c22",
   "metadata": {
    "scrolled": true
   },
   "outputs": [
    {
     "name": "stdout",
     "output_type": "stream",
     "text": [
      "계산식을 입력하세요.(ex: 숫자 연산자 숫자): 10 + 20\n",
      "10 + 20 = 30입니다.\n",
      "계산식을 입력하세요.(ex: 숫자 연산자 숫자): 100 * 130\n",
      "100 * 130 = 13000입니다.\n",
      "계산식을 입력하세요.(ex: 숫자 연산자 숫자): q\n",
      "프로그램 종료!\n"
     ]
    }
   ],
   "source": [
    "while True:\n",
    "    asd = input(\"계산식을 입력하세요.(ex: 숫자 연산자 숫자): \").split()\n",
    "    if asd[0] == 'q':\n",
    "        break\n",
    "        \n",
    "    if len(asd) != 3 or not asd[0].isnumeric or not asd[2].isnumeric or \\\n",
    "    not asd[1] in \"+-*/\" :\n",
    "        asd = input(\"계산식을 다시 입력하세요.(ex: 숫자 공백 연산자 공백 숫자): \")\n",
    "        continue\n",
    "        \n",
    "    if asd[1] == '+':\n",
    "        res = int(asd[0]) + int(asd[2])\n",
    "    elif asd[1] == '*':\n",
    "        res = int(asd[0]) * int(asd[2])\n",
    "    elif asd[1] == '/':\n",
    "        res = int(asd[0]) / int(asd[2])\n",
    "    else:\n",
    "        res = int(asd[0]) - int(asd[2])\n",
    "        \n",
    "    print(f\"{asd[0]} {asd[1]} {asd[2]} = {res}입니다.\")\n",
    "    continue\n",
    "           \n",
    "print('프로그램 종료!')    "
   ]
  },
  {
   "cell_type": "code",
   "execution_count": 9,
   "id": "008d2ada",
   "metadata": {},
   "outputs": [],
   "source": [
    "def cal_func():\n",
    "    while True:\n",
    "        asd = input(\"계산식을 입력하세요.(ex: 숫자 연산자 숫자): \").split()\n",
    "        if asd[0] == 'q':\n",
    "            break\n",
    "\n",
    "        if len(asd) != 3 or not asd[0].isnumeric or not asd[2].isnumeric or \\\n",
    "        not asd[1] in \"+-*/\" :\n",
    "            asd = input(\"계산식을 다시 입력하세요.(ex: 숫자 공백 연산자 공백 숫자): \")\n",
    "            continue\n",
    "\n",
    "        if asd[1] == '+':\n",
    "            res = int(asd[0]) + int(asd[2])\n",
    "        elif asd[1] == '*':\n",
    "            res = int(asd[0]) * int(asd[2])\n",
    "        elif asd[1] == '/':\n",
    "            res = int(asd[0]) / int(asd[2])\n",
    "        else:\n",
    "            res = int(asd[0]) - int(asd[2])\n",
    "\n",
    "        print(f\"{asd[0]} {asd[1]} {asd[2]} = {res}입니다.\")\n",
    "        continue\n",
    "\n",
    "    print('프로그램 종료!')    "
   ]
  },
  {
   "cell_type": "code",
   "execution_count": 10,
   "id": "5c5286e7",
   "metadata": {
    "scrolled": true
   },
   "outputs": [
    {
     "name": "stdout",
     "output_type": "stream",
     "text": [
      "계산식을 입력하세요.(ex: 숫자 연산자 숫자): 10 * 20\n",
      "10 * 20 = 200입니다.\n",
      "계산식을 입력하세요.(ex: 숫자 연산자 숫자): q\n",
      "프로그램 종료!\n"
     ]
    }
   ],
   "source": [
    "cal_func()"
   ]
  },
  {
   "cell_type": "code",
   "execution_count": null,
   "id": "7d09d36d",
   "metadata": {},
   "outputs": [],
   "source": []
  }
 ],
 "metadata": {
  "kernelspec": {
   "display_name": "Python 3 (ipykernel)",
   "language": "python",
   "name": "python3"
  },
  "language_info": {
   "codemirror_mode": {
    "name": "ipython",
    "version": 3
   },
   "file_extension": ".py",
   "mimetype": "text/x-python",
   "name": "python",
   "nbconvert_exporter": "python",
   "pygments_lexer": "ipython3",
   "version": "3.9.12"
  }
 },
 "nbformat": 4,
 "nbformat_minor": 5
}
