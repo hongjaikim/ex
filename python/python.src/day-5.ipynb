{
 "cells": [
  {
   "cell_type": "code",
   "execution_count": 3,
   "id": "fc0866d0",
   "metadata": {},
   "outputs": [
    {
     "name": "stdout",
     "output_type": "stream",
     "text": [
      "start !!!\n",
      "hello !!!\n",
      "end !!!\n"
     ]
    }
   ],
   "source": [
    "# 함수의 데코레이터 사용\n",
    "def test(func):\n",
    "    def wrapper():\n",
    "        print(\"start !!!\")\n",
    "        func()\n",
    "        print(\"end !!!\")\n",
    "    return wrapper\n",
    "\n",
    "# @데코레이션을 붙여 함수 생성\n",
    "@test\n",
    "def hello():\n",
    "    print(\"hello !!!\")\n",
    "\n",
    "# 함수 호출\n",
    "hello()"
   ]
  },
  {
   "cell_type": "markdown",
   "id": "a6bac1e5",
   "metadata": {},
   "source": [
    "# CH8 클래스"
   ]
  },
  {
   "cell_type": "code",
   "execution_count": 43,
   "id": "11e763da",
   "metadata": {},
   "outputs": [
    {
     "name": "stdout",
     "output_type": "stream",
     "text": [
      "이름\t총점\t평균\n",
      "윤인성\t368\t92.0\n",
      "연하진\t384\t96.0\n",
      "구지연\t356\t89.0\n",
      "나선주\t378\t94.5\n",
      "윤아린\t389\t97.25\n",
      "윤명월\t336\t84.0\n"
     ]
    }
   ],
   "source": [
    "# 학생 리스트를 선언합니다.\n",
    "students = [\n",
    "    { \"name\": \"윤인성\", \"korean\": 87, \"math\": 98, \"english\": 88, \"science\": 95 },\n",
    "    { \"name\": \"연하진\", \"korean\": 92, \"math\": 98, \"english\": 96, \"science\": 98 },\n",
    "    { \"name\": \"구지연\", \"korean\": 76, \"math\": 96, \"english\": 94, \"science\": 90 },\n",
    "    { \"name\": \"나선주\", \"korean\": 98, \"math\": 92, \"english\": 96, \"science\": 92 },\n",
    "    { \"name\": \"윤아린\", \"korean\": 95, \"math\": 98, \"english\": 98, \"science\": 98 },\n",
    "    { \"name\": \"윤명월\", \"korean\": 64, \"math\": 88, \"english\": 92, \"science\": 92 }\n",
    "]\n",
    "\n",
    "# 학생을 한 명씩 반복합니다.\n",
    "print(\"이름\", \"총점\", \"평균\", sep=\"\\t\")\n",
    "for student in students:\n",
    "    # 점수의 총합과 평균을 구합니다.\n",
    "    score_sum = student[\"korean\"] + student[\"math\"] +\\\n",
    "        student[\"english\"] + student[\"science\"]\n",
    "    score_average = score_sum / 4\n",
    "    # 출력합니다.\n",
    "    print(student[\"name\"], score_sum, score_average, sep=\"\\t\")"
   ]
  },
  {
   "cell_type": "code",
   "execution_count": 44,
   "id": "3cdf40ce",
   "metadata": {},
   "outputs": [
    {
     "name": "stdout",
     "output_type": "stream",
     "text": [
      "이름\t총점\t평균\n",
      "윤인성\t368\t92.0\n",
      "연하진\t384\t96.0\n"
     ]
    }
   ],
   "source": [
    "# 객체를 생성하는 함수를 작성\n",
    "def create_student(name, korean, math, english, science):\n",
    "    return {\"name\": name, \"korean\": korean, \"math\": math, \"english\": english, \"science\": science}\n",
    "\n",
    "students = [create_student(\"윤인성\",  87,  98,  88,  95),\n",
    "           create_student(\"연하진\",  92,  98,  96,  98)\n",
    "           ]\n",
    "\n",
    "# 학생을 한 명씩 반복합니다.\n",
    "print(\"이름\", \"총점\", \"평균\", sep=\"\\t\")\n",
    "for student in students:\n",
    "    # 점수의 총합과 평균을 구합니다.\n",
    "    score_sum = student[\"korean\"] + student[\"math\"] +\\\n",
    "        student[\"english\"] + student[\"science\"]\n",
    "    score_average = score_sum / 4\n",
    "    # 출력합니다.\n",
    "    print(student[\"name\"], score_sum, score_average, sep=\"\\t\")"
   ]
  },
  {
   "cell_type": "code",
   "execution_count": 49,
   "id": "07ff3ce9",
   "metadata": {},
   "outputs": [],
   "source": [
    "# 객체를 생성하는 함수를 작성\n",
    "def create_student(name, korean, math, english, science):\n",
    "    return {\"name\": name, \"korean\": korean, \n",
    "            \"math\": math, \"english\": english, \"science\": science}\n",
    "\n",
    "# 학생을 처리하는 함수 선언\n",
    "def student_get_sum(student):\n",
    "    return student['korean'] + student['math'] \\\n",
    "    + student['english'] + student['science']\n",
    "\n",
    "def student_get_avg(student):\n",
    "    return student_get_sum(student)/4\n",
    "\n",
    "def student_to_string(student):\n",
    "    return \"{}\\t{}\\t{}\".format(student[\"name\"],student_get_sum(student),\n",
    "                              student_get_avg(student))"
   ]
  },
  {
   "cell_type": "code",
   "execution_count": 50,
   "id": "dcccb0e2",
   "metadata": {},
   "outputs": [
    {
     "name": "stdout",
     "output_type": "stream",
     "text": [
      "이름\t총점\t평균\n",
      "윤인성\t368\t92.0\n",
      "연하진\t384\t96.0\n",
      "구지연\t356\t89.0\n"
     ]
    }
   ],
   "source": [
    "students = [\n",
    "    create_student(\"윤인성\",  87, 98,  88,  95),\n",
    "    create_student(\"연하진\",  92,  98,  96, 98),\n",
    "    create_student(\"구지연\",  76,  96,  94,  90)\n",
    "]\n",
    "\n",
    "# 학생을 한명씩 자료 출력\n",
    "print(\"이름\", \"총점\", \"평균\", sep=\"\\t\")\n",
    "for student in students:\n",
    "    print(student_to_string(student))"
   ]
  },
  {
   "cell_type": "code",
   "execution_count": 21,
   "id": "c31fa847",
   "metadata": {},
   "outputs": [
    {
     "name": "stdout",
     "output_type": "stream",
     "text": [
      "홍길동\n"
     ]
    }
   ],
   "source": [
    "# 클래스 생성 class 클래스명:\n",
    "class Student:                   #클래스 정의\n",
    "    def __init__(self,name):\n",
    "        self.name = name\n",
    "#     def 함수명(self,...):\n",
    "#         self.\n",
    "\n",
    "# Student 클래스의 오브젝트 생성\n",
    "a = Student(\"홍길동\")     # 클래스 생성은 클래스명(), 생성자\n",
    "print(a.name)\n",
    "\n"
   ]
  },
  {
   "cell_type": "code",
   "execution_count": 53,
   "id": "8c780272",
   "metadata": {},
   "outputs": [],
   "source": [
    "class Student:\n",
    "    def __init__(self,name,korean,math,english,science):\n",
    "        self.name = name\n",
    "        self.korean = korean\n",
    "        self.math = math\n",
    "        self.english = english\n",
    "        self.science = science\n",
    "    def get_sum(self):\n",
    "        return self.korean + self.math + self.english +self.science\n",
    "    def get_avg(self):\n",
    "        return self.get_sum() / 4\n",
    "    def to_string(self):\n",
    "        return \"{}\\t{}\\t{}\".format(self.name, self.get_sum() , self.get_avg())"
   ]
  },
  {
   "cell_type": "code",
   "execution_count": 54,
   "id": "8dc9daa3",
   "metadata": {},
   "outputs": [
    {
     "name": "stdout",
     "output_type": "stream",
     "text": [
      "이름\t총점\t평균\n",
      "윤인성\t368\t92.0\n",
      "연하진\t384\t96.0\n",
      "구지연\t356\t89.0\n"
     ]
    }
   ],
   "source": [
    "students = [\n",
    "    Student(\"윤인성\",  87, 98,  88,  95),\n",
    "    Student(\"연하진\",  92,  98,  96, 98),\n",
    "    Student(\"구지연\",  76,  96,  94,  90)\n",
    "]\n",
    "\n",
    "# 학생을 한명씩 자료 출력\n",
    "print(\"이름\", \"총점\", \"평균\", sep=\"\\t\")\n",
    "for student in students:\n",
    "    print(student.to_string())"
   ]
  },
  {
   "cell_type": "code",
   "execution_count": 90,
   "id": "2e3e9cb3",
   "metadata": {},
   "outputs": [],
   "source": [
    "# 키보드에서 이름, 국어, 영어 성적을 입력받아 자료에 저장한 후 \n",
    "# 이름에 q가 입력되면 입력종료\n",
    "# 저장된 각 자료의 이름, 총점, 평균을 출력하고 \n",
    "# 전체 입력된 인원수를 출력\n",
    "\n",
    "class Student:\n",
    "    def __init__(self,name,korean, english):\n",
    "        self.name = name\n",
    "        self.korean = korean       \n",
    "        self.english = english\n",
    "        \n",
    "    def get_sum(self):\n",
    "        return self.korean  + self.english\n",
    "    def get_avg(self):\n",
    "        return self.get_sum() / 2\n",
    "    def to_string(self):\n",
    "        return \"{}\\t{}\\t{}\".format(self.name, self.get_sum() , self.get_avg())\n",
    "    \n",
    "    def to_str(self):\n",
    "        return \"{},{},{}\\n\".format(self.name, self.korean , self.english)\n",
    "    \n"
   ]
  },
  {
   "cell_type": "code",
   "execution_count": 70,
   "id": "b222caa8",
   "metadata": {},
   "outputs": [
    {
     "name": "stdout",
     "output_type": "stream",
     "text": [
      "이름을 입력하세요 : ㅂㅈㄷ\n",
      "국어 영어 성적을 입력하세요 : 123\n",
      "국어 영어 성적을 다시 입력하세요 : ㅂㅈㄷ\n",
      "국어 영어 성적을 다시 입력하세요 : ㅁㄴㅇ\n",
      "국어 영어 성적을 다시 입력하세요 : ㅂㅈㄷ\n",
      "국어 영어 성적을 다시 입력하세요 : 10 20\n",
      "이름을 입력하세요 : ㅂ\n",
      "국어 영어 성적을 입력하세요 : 20 30\n",
      "이름을 입력하세요 : q\n",
      "종료!\n",
      "이름\t총점\t평균\n",
      "ㅂㅈㄷ\t30\t15.0\n",
      "ㅂ\t50\t25.0\n",
      "총 인원수 : 2명\n"
     ]
    }
   ],
   "source": [
    "students = []\n",
    "while True:\n",
    "    name = input(\"이름을 입력하세요 : \")\n",
    "    if name == 'q':\n",
    "        print('종료!')\n",
    "        break\n",
    "    scores = input(\"국어 영어 성적을 입력하세요 : \").split()\n",
    "    while True:\n",
    "        if len(scores) != 2 or not scores[0].isnumeric() or not scores[1].isnumeric():\n",
    "            scores = input(\"국어 영어 성적을 다시 입력하세요 : \").split()\n",
    "            continue\n",
    "        else:\n",
    "            break\n",
    "    ko = int(scores[0])\n",
    "    en = int(scores[1])\n",
    "    \n",
    "    students.append(Student(name,ko,en))\n",
    "    \n",
    "print(\"이름\", \"총점\", \"평균\", sep=\"\\t\")\n",
    "for student in students:\n",
    "    print(student.to_string())\n",
    "print(f'총 인원수 : {len(students)}명')            "
   ]
  },
  {
   "cell_type": "code",
   "execution_count": 71,
   "id": "dbe59502",
   "metadata": {
    "scrolled": true
   },
   "outputs": [
    {
     "name": "stdout",
     "output_type": "stream",
     "text": [
      "ㅂㅈㄷ\t30\t15.0\n",
      "ㅂ\t50\t25.0\n"
     ]
    }
   ],
   "source": [
    "for i in range(len(students)):\n",
    "    print(students[i].to_string())"
   ]
  },
  {
   "cell_type": "code",
   "execution_count": 96,
   "id": "23895a41",
   "metadata": {},
   "outputs": [
    {
     "name": "stdout",
     "output_type": "stream",
     "text": [
      "이름 입력 : asd\n",
      "국어 영어 성적 입력 : 12 23\n",
      "이름 입력 : zxc\n",
      "국어 영어 성적 입력 : 23 34\n",
      "이름 입력 : q\n",
      "입력 종료\n"
     ]
    }
   ],
   "source": [
    "file = open(\"students.txt\", \"a+\")\n",
    "while True:\n",
    "    name = input(\"이름 입력 : \")\n",
    "    if name in 'qQ':   # 이름에 q 또는 Q가 입력되면 입력 종료\n",
    "        print(\"입력 종료\")\n",
    "        break\n",
    "    scores = input(\"국어 영어 성적 입력 : \").split()\n",
    "    if len(scores) != 2:\n",
    "        print(\"국어 영어 성적을 입력하세요 \")\n",
    "        continue\n",
    "    \n",
    "    ko = int(scores[0])\n",
    "    en = int(scores[1])\n",
    "    # 학생 자료 파일에 추가\n",
    "    student = Student(name,ko, en)\n",
    "    file.write(student.to_str())\n",
    "#     students.append(Student(name,korean, english ))"
   ]
  },
  {
   "cell_type": "code",
   "execution_count": 99,
   "id": "8a0e136a",
   "metadata": {},
   "outputs": [
    {
     "ename": "ValueError",
     "evalue": "I/O operation on closed file.",
     "output_type": "error",
     "traceback": [
      "\u001b[1;31m---------------------------------------------------------------------------\u001b[0m",
      "\u001b[1;31mValueError\u001b[0m                                Traceback (most recent call last)",
      "Input \u001b[1;32mIn [99]\u001b[0m, in \u001b[0;36m<cell line: 1>\u001b[1;34m()\u001b[0m\n\u001b[1;32m----> 1\u001b[0m \u001b[43mfile\u001b[49m\u001b[38;5;241;43m.\u001b[39;49m\u001b[43mseek\u001b[49m\u001b[43m(\u001b[49m\u001b[38;5;241;43m0\u001b[39;49m\u001b[43m)\u001b[49m\n\u001b[0;32m      2\u001b[0m file_students \u001b[38;5;241m=\u001b[39m []\n\u001b[0;32m      3\u001b[0m \u001b[38;5;28;01mfor\u001b[39;00m line \u001b[38;5;129;01min\u001b[39;00m file\u001b[38;5;241m.\u001b[39mreadlines():\n\u001b[0;32m      4\u001b[0m \u001b[38;5;66;03m#     in_data = line.strip('\\n').split(',')\u001b[39;00m\n\u001b[0;32m      5\u001b[0m \u001b[38;5;66;03m#     name = in_data[0]\u001b[39;00m\n\u001b[0;32m      6\u001b[0m \u001b[38;5;66;03m#     korean = in_data[1]\u001b[39;00m\n\u001b[0;32m      7\u001b[0m \u001b[38;5;66;03m#     english = in_data[2]    \u001b[39;00m\n",
      "\u001b[1;31mValueError\u001b[0m: I/O operation on closed file."
     ]
    }
   ],
   "source": [
    "file.seek(0)\n",
    "file_students = []\n",
    "for line in file.readlines():\n",
    "#     in_data = line.strip('\\n').split(',')\n",
    "#     name = in_data[0]\n",
    "#     korean = in_data[1]\n",
    "#     english = in_data[2]    \n",
    "    (name, ko, en )= line.strip('\\n').split(',')\n",
    "    file_students.append(Student(name,ko,en))\n",
    "\n",
    "# 저장된 각 자료의 이름, 총점, 평균을 출력\n",
    "print(\"이름\", \"총점\", \"평균\", sep=\"\\t\")\n",
    "for student in file_students:\n",
    "    print(student.to_str())\n",
    "\n",
    "print(\"입력된 학생의 총 인원수 : \",len(file_students))\n",
    "file.close()"
   ]
  },
  {
   "cell_type": "markdown",
   "id": "39ebb9dc",
   "metadata": {},
   "source": [
    "## ch8-02 클래스의 추가적인 구문"
   ]
  },
  {
   "cell_type": "code",
   "execution_count": 105,
   "id": "6d6e42c8",
   "metadata": {},
   "outputs": [
    {
     "name": "stdout",
     "output_type": "stream",
     "text": [
      "isinstance(student,Human) :  True\n",
      "isinstance(student,Student) :  True\n",
      "type(student) == Human :  False\n",
      "isinstance(human,Human) :  True\n",
      "isinstance(human,Student) :  False\n"
     ]
    }
   ],
   "source": [
    "# 클래스의 상속이 있는 경우 인스턴스가 어느 클래스인지 확인\n",
    "# isinstance(인스턴스, 클래스) : type(인스턴스) == 클래스\n",
    "class Human:\n",
    "    def __init__(self):\n",
    "        pass\n",
    "class Student(Human):           # class 클래스명(클래스명_1) 클래스명_1의 내용을 상속받음\n",
    "    def __init__(self):\n",
    "        pass\n",
    "\n",
    "student = Student()\n",
    "\n",
    "print(\"isinstance(student,Human) : \",isinstance(student,Human)  )\n",
    "print(\"isinstance(student,Student) : \",isinstance(student,Student)  )\n",
    "print(\"type(student) == Human : \",type(student) == Human)\n",
    "\n",
    "human = Human()\n",
    "print(\"isinstance(human,Human) : \",isinstance(human,Human)  )\n",
    "print(\"isinstance(human,Student) : \",isinstance(human,Student)  )\n",
    "\n",
    "    \n",
    "    \n",
    "    \n",
    "    "
   ]
  },
  {
   "cell_type": "code",
   "execution_count": 108,
   "id": "85a659fc",
   "metadata": {},
   "outputs": [
    {
     "name": "stdout",
     "output_type": "stream",
     "text": [
      "공부를 합니다\n",
      "가르칩니다\n",
      "가르칩니다\n",
      "공부를 합니다\n",
      "공부를 합니다\n"
     ]
    }
   ],
   "source": [
    "# 클래스 상속\n",
    "\n",
    "class Student:\n",
    "    def study(self):\n",
    "        print(\"공부를 합니다\")\n",
    "\n",
    "class Teacher:\n",
    "    def teach(self):\n",
    "        print(\"가르칩니다\")\n",
    "        \n",
    "classroom = [Student(), Teacher(), Teacher(),Student(),Student()]\n",
    "\n",
    "for person in classroom:\n",
    "    if isinstance(person, Student):\n",
    "        person.study()\n",
    "    elif isinstance(person,Teacher):\n",
    "        person.teach()"
   ]
  },
  {
   "cell_type": "code",
   "execution_count": 112,
   "id": "c57cafac",
   "metadata": {},
   "outputs": [],
   "source": [
    "class Student:\n",
    "    def __init__(self,name,korean, english):\n",
    "        self.name = name\n",
    "        self.korean = korean       \n",
    "        self.english = english\n",
    "        \n",
    "    def get_sum(self):\n",
    "        return self.korean  + self.english\n",
    "    def get_avg(self):\n",
    "        return self.get_sum() / 2\n",
    "    def __str__(self):\n",
    "        return \"{}\\t{}\\t{}\".format(self.name, self.get_sum() , self.get_avg())\n",
    "    def __eq__(self,value):\n",
    "        return self.get_sum() == value.get_sum()\n",
    "    def __gt__(self,value):\n",
    "        return self.get_sum() > value.get_sum()"
   ]
  },
  {
   "cell_type": "code",
   "execution_count": 122,
   "id": "630f7db0",
   "metadata": {},
   "outputs": [
    {
     "name": "stdout",
     "output_type": "stream",
     "text": [
      "test\t189\t94.5 test\t178\t89.0\n",
      "두 학생의 성적은 같다 :  False\n",
      "student의 성적이 크다 :  True\n"
     ]
    }
   ],
   "source": [
    "student = Student('test',99,90)\n",
    "student2 = Student('test',88,90)\n",
    "print(str(student),str(student2))\n",
    "print(\"두 학생의 성적은 같다 : \",student == student2)\n",
    "print(\"student의 성적이 크다 : \",student > student2)"
   ]
  },
  {
   "cell_type": "code",
   "execution_count": 133,
   "id": "0a8b2040",
   "metadata": {},
   "outputs": [],
   "source": [
    "#클래스 변수\n",
    "class Student:\n",
    "    count = 0            #클래스 변수 선언\n",
    "    def __init__(self,name,korean, english):\n",
    "        self.name = name\n",
    "        self.korean = korean       \n",
    "        self.english = english\n",
    "        \n",
    "        Student.count +=1\n",
    "        print(f\"{Student.count}번째 학생\")\n",
    "        "
   ]
  },
  {
   "cell_type": "code",
   "execution_count": 134,
   "id": "c687fefb",
   "metadata": {},
   "outputs": [
    {
     "name": "stdout",
     "output_type": "stream",
     "text": [
      "1번째 학생\n",
      "2번째 학생\n"
     ]
    }
   ],
   "source": [
    "students = [\n",
    "    Student('aa',90,80),\n",
    "    Student('bb',80,90)\n",
    "]"
   ]
  },
  {
   "cell_type": "code",
   "execution_count": 135,
   "id": "8b5685c0",
   "metadata": {},
   "outputs": [
    {
     "name": "stdout",
     "output_type": "stream",
     "text": [
      "2\n",
      "aa\n"
     ]
    }
   ],
   "source": [
    "print(Student.count)\n",
    "print(students[0].name)"
   ]
  },
  {
   "cell_type": "code",
   "execution_count": 136,
   "id": "e9ec8eff",
   "metadata": {
    "scrolled": true
   },
   "outputs": [
    {
     "name": "stdout",
     "output_type": "stream",
     "text": [
      "3번째 학생\n"
     ]
    }
   ],
   "source": [
    "students.append(Student('append',80,90))"
   ]
  },
  {
   "cell_type": "code",
   "execution_count": 138,
   "id": "00009e98",
   "metadata": {},
   "outputs": [],
   "source": [
    "# class 변수 , 클래스 함수 @classmethod -> 함수 정의\n",
    "class Student:\n",
    "    count = 0            #클래스 변수 선언\n",
    "    students = []\n",
    "    \n",
    "    @classmethod\n",
    "    def print(cls):\n",
    "        print('------ 학생 목록 ------')\n",
    "        print(\"이름\\t총점\\t평균\")\n",
    "#         for student in cls.students:\n",
    "        for student in Student.students: \n",
    "            print(str(student))\n",
    "        print('-----------------------')\n",
    "            \n",
    "    def __init__(self,name,korean, english):\n",
    "        self.name = name\n",
    "        self.korean = korean       \n",
    "        self.english = english\n",
    "        \n",
    "        Student.count +=1    \n",
    "        Student.students.append(self)\n",
    "#         print(f\"{Student.count}번째 학생\")\n",
    "    def get_sum(self):\n",
    "        return self.korean  + self.english\n",
    "    def get_avg(self):\n",
    "        return self.get_sum() / 2\n",
    "    def __str__(self):\n",
    "        return \"{}\\t{}\\t{}\".format(self.name, self.get_sum() , self.get_avg())"
   ]
  },
  {
   "cell_type": "code",
   "execution_count": 140,
   "id": "34d76e1e",
   "metadata": {},
   "outputs": [
    {
     "name": "stdout",
     "output_type": "stream",
     "text": [
      "이름을 입력하세요 : qq\n",
      "국어 영어 성적을 입력하세요 : 12 23\n",
      "이름을 입력하세요 : ww\n",
      "국어 영어 성적을 입력하세요 : 23 34\n",
      "이름을 입력하세요 : ee\n",
      "국어 영어 성적을 입력하세요 : 34 45\n",
      "이름을 입력하세요 : q\n",
      "종료!\n",
      "------ 학생 목록 ------\n",
      "이름\t총점\t평균\n",
      "aa\t165\t82.5\n",
      "bb\t187\t93.5\n",
      "qq\t35\t17.5\n",
      "ww\t57\t28.5\n",
      "ee\t79\t39.5\n",
      "-----------------------\n"
     ]
    }
   ],
   "source": [
    "students = []\n",
    "while True:\n",
    "    name = input(\"이름을 입력하세요 : \")\n",
    "    if name == 'q':\n",
    "        print('종료!')\n",
    "        break\n",
    "    scores = input(\"국어 영어 성적을 입력하세요 : \").split()\n",
    "    while True:\n",
    "        if len(scores) != 2 or not scores[0].isnumeric() or not scores[1].isnumeric():\n",
    "            scores = input(\"국어 영어 성적을 다시 입력하세요 : \").split()\n",
    "            continue\n",
    "        else:\n",
    "            break\n",
    "    ko = int(scores[0])\n",
    "    en = int(scores[1])\n",
    "    \n",
    "    Student(name,ko,en)\n",
    "\n",
    "Student.print()"
   ]
  },
  {
   "cell_type": "code",
   "execution_count": null,
   "id": "e7fb691c",
   "metadata": {},
   "outputs": [],
   "source": []
  },
  {
   "cell_type": "code",
   "execution_count": null,
   "id": "bc04c395",
   "metadata": {},
   "outputs": [],
   "source": []
  },
  {
   "cell_type": "code",
   "execution_count": null,
   "id": "48f4ed64",
   "metadata": {},
   "outputs": [],
   "source": []
  },
  {
   "cell_type": "code",
   "execution_count": null,
   "id": "a880dd3f",
   "metadata": {},
   "outputs": [],
   "source": []
  },
  {
   "cell_type": "code",
   "execution_count": null,
   "id": "320e9728",
   "metadata": {},
   "outputs": [],
   "source": []
  },
  {
   "cell_type": "code",
   "execution_count": null,
   "id": "812f2295",
   "metadata": {},
   "outputs": [],
   "source": []
  },
  {
   "cell_type": "code",
   "execution_count": null,
   "id": "8412b68a",
   "metadata": {},
   "outputs": [],
   "source": []
  }
 ],
 "metadata": {
  "kernelspec": {
   "display_name": "Python 3 (ipykernel)",
   "language": "python",
   "name": "python3"
  },
  "language_info": {
   "codemirror_mode": {
    "name": "ipython",
    "version": 3
   },
   "file_extension": ".py",
   "mimetype": "text/x-python",
   "name": "python",
   "nbconvert_exporter": "python",
   "pygments_lexer": "ipython3",
   "version": "3.9.12"
  }
 },
 "nbformat": 4,
 "nbformat_minor": 5
}
