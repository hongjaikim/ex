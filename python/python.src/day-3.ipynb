{
 "cells": [
  {
   "cell_type": "markdown",
   "id": "4f2c30bf",
   "metadata": {},
   "source": [
    "## CH 02 딕셔너리와 반복문"
   ]
  },
  {
   "cell_type": "code",
   "execution_count": 2,
   "id": "c698a05d",
   "metadata": {},
   "outputs": [
    {
     "name": "stdout",
     "output_type": "stream",
     "text": [
      "{'name': '홍길동', 'age': 30}\n",
      "<class 'dict'>\n"
     ]
    }
   ],
   "source": [
    "# 딕셔너리 선언 : {키:값, ... }, 리스트 [ 값, ...] , 괄호안에 변수가능\n",
    "dict_a = {'name' : '홍길동', 'age' : 30 }\n",
    "\n",
    "print(dict_a)\n",
    "print(type(dict_a))\n",
    "\n"
   ]
  },
  {
   "cell_type": "code",
   "execution_count": 10,
   "id": "76f4fcfb",
   "metadata": {},
   "outputs": [
    {
     "name": "stdout",
     "output_type": "stream",
     "text": [
      "{'name': '홍길동', 'age': 30, 'title': '딕셔너리'}\n",
      "{'age': 30, 'title': '딕셔너리'}\n"
     ]
    }
   ],
   "source": [
    "# 딕셔너리에 값 추가 / 제거 하기 : 딕셔너리[키] = 값 / del 딕셔너리[키]\n",
    "dict_a = {'name' : '홍길동', 'age' : 30 }\n",
    "dict_a['title'] = '딕셔너리'\n",
    "print(dict_a)\n",
    "del dict_a['name']\n",
    "print(dict_a)\n",
    "\n"
   ]
  },
  {
   "cell_type": "code",
   "execution_count": 24,
   "id": "797fb8d4",
   "metadata": {},
   "outputs": [
    {
     "name": "stdout",
     "output_type": "stream",
     "text": [
      "이름을 입력하세요: ㅂㅈㄷ\n",
      "성적을 입력하세요: 123\n",
      "이름을 입력하세요: wer\n",
      "성적을 입력하세요: 234\n",
      "이름을 입력하세요: ert\n",
      "성적을 입력하세요: 345\n",
      "이름을 입력하세요: rty\n",
      "성적을 입력하세요: 456\n",
      "이름을 입력하세요: q\n",
      "{'ㅂㅈㄷ': '123점', 'wer': '234점', 'ert': '345점', 'rty': '456점'}\n",
      "종료!\n",
      "검색하고자 하는 이름을 입력하세요: qwe\n",
      "존재하지 않는 이름입니다.\n",
      "검색하고자 하는 이름을 입력하세요: wer\n",
      "이름: wer, 성적: 234점\n",
      "검색하고자 하는 이름을 입력하세요: ert\n",
      "이름: ert, 성적: 345점\n",
      "검색하고자 하는 이름을 입력하세요: rty\n",
      "이름: rty, 성적: 456점\n",
      "검색하고자 하는 이름을 입력하세요: tyu\n",
      "존재하지 않는 이름입니다.\n",
      "검색하고자 하는 이름을 입력하세요: q\n",
      "종료!\n"
     ]
    }
   ],
   "source": [
    "# 키보드에서 이름과 성적을 입력 받아 이름을 키로 성적을 값으로 딕셔너리에 저장\n",
    "# 이름에 q가 입력되면 프로그램 종료\n",
    "# 저장된 자료를 출력\n",
    "name = \"\"\n",
    "dic = {}\n",
    "while True:\n",
    "    name = input(\"이름을 입력하세요: \")\n",
    "    if name == 'q' :\n",
    "       \n",
    "        break\n",
    "    else:\n",
    "        grade = input(\"성적을 입력하세요: \")\n",
    "        dic[name] = f\"{grade}점\"\n",
    "print(dic)\n",
    "print('종료!')\n",
    "\n",
    "# 검색하고자 하는 이름을 입력 받아 입력된 자료에 존재하면 이름과 성적 출력\n",
    "# 존재하지 않으면 존재하지 않는 이름이라고 출력\n",
    "\n",
    "while True :\n",
    "    input_name = input(\"검색하고자 하는 이름을 입력하세요: \")\n",
    "    if input_name in dic :\n",
    "        print(f\"이름: {input_name}, 성적: {dic[input_name]}\")\n",
    "    elif input_name == 'q':\n",
    "        print('종료!')\n",
    "        break\n",
    "    else :\n",
    "        print(\"존재하지 않는 이름입니다.\")\n",
    "\n"
   ]
  },
  {
   "cell_type": "code",
   "execution_count": null,
   "id": "c474734e",
   "metadata": {},
   "outputs": [],
   "source": [
    "# 키가 존재하는지 확인 : key in 딕셔너리\n",
    "# 키의 값이 존재하는지 확인하는 함수 : 딕셔너리.get(키) -> 값을 반환\n",
    "# 딕셔너리 안에 리스트가능\n"
   ]
  },
  {
   "cell_type": "code",
   "execution_count": 47,
   "id": "d3341879",
   "metadata": {},
   "outputs": [
    {
     "name": "stdout",
     "output_type": "stream",
     "text": [
      "ㅂㅈㄷ : 123점\n",
      "wer : 234점\n",
      "ert : 345점\n",
      "rty : 456점\n"
     ]
    }
   ],
   "source": [
    "# 딕셔너리의 키와 값을 동시에 가져오는 함수 : 딕셔너리.items()\n",
    "for a, b in dic.items():\n",
    "    print(f\"{a} : {b}\")"
   ]
  },
  {
   "cell_type": "code",
   "execution_count": 46,
   "id": "0c73b1a3",
   "metadata": {},
   "outputs": [
    {
     "name": "stdout",
     "output_type": "stream",
     "text": [
      "('ㅂㅈㄷ', '123점') : None\n",
      "('wer', '234점') : None\n",
      "('ert', '345점') : None\n",
      "('rty', '456점') : None\n"
     ]
    }
   ],
   "source": [
    "# for 반복문과 같이 사용 : for key in 딕셔너리:\n",
    "# for 문을 사용하여 딕셔너리의 자료 출력\n",
    "for i in dic:\n",
    "    print(f\"{i} : {dic.get(i)}\")\n",
    "\n"
   ]
  },
  {
   "cell_type": "code",
   "execution_count": 54,
   "id": "cd3d29aa",
   "metadata": {},
   "outputs": [
    {
     "name": "stdout",
     "output_type": "stream",
     "text": [
      "이름을 입력하세요: qwe\n",
      "국영수 성적 10 40 60\n",
      "이름을 입력하세요: wer\n",
      "국영수 성적 30 50 80\n",
      "이름을 입력하세요: ert\n",
      "국영수 성적 80 70 90\n",
      "이름을 입력하세요: q\n",
      "입력종료!\n"
     ]
    }
   ],
   "source": [
    "# 이름과 국어, 영어, 수학 성적을 입력 받아 딕셔너리에 저장한 후\n",
    "\n",
    "\n",
    "dic_grade = {}\n",
    "\n",
    "while True :\n",
    "    name = input(\"이름을 입력하세요: \")\n",
    "    if name == 'q':\n",
    "        print(\"입력종료!\")\n",
    "        break\n",
    "    else:\n",
    "#         list_grade = []\n",
    "#         ko = int(input(\"국어 성적을 입력하세요: \"))\n",
    "#         en = int(input(\"영어 성적을 입력하세요: \"))\n",
    "#         ma = int(input(\"수학 성적을 입력하세요: \"))\n",
    "#         list_grade.append(ko)\n",
    "#         list_grade.append(en)\n",
    "#         list_grade.append(ma)\n",
    "#         dic_grade[name] = list_grade\n",
    "        scores = input(\"국영수 성적 \").split()\n",
    "        dic_grade[name] = scores\n",
    "    \n",
    "\n"
   ]
  },
  {
   "cell_type": "code",
   "execution_count": 145,
   "id": "be2a2fc1",
   "metadata": {},
   "outputs": [
    {
     "name": "stdout",
     "output_type": "stream",
     "text": [
      "이름\t총점\t평균\n",
      "qwe      110\t 36.67\n",
      "wer      160\t 53.33\n",
      "ert      240\t 80.00\n",
      "dict_values([['10', '40', '60'], ['30', '50', '80'], ['80', '70', '90']])\n",
      "학생수 : 3\n",
      "40.00\t53.33\t76.67\t"
     ]
    }
   ],
   "source": [
    "# 이름별로 성적의 총합, 평균을 출력\n",
    "# 전체 학생의 인원수, 과목별 평균을 구하세요\n",
    "print(\"{}\\t{}\\t{}\".format('이름', '총점', '평균'))\n",
    "\n",
    "for key, scores in dic_grade.items():\n",
    "    total = 0\n",
    "    for score in scores:\n",
    "        total += int(score)\n",
    "    print(\"{:6}{:6d}\\t{:6.2f}\".format(key, total, total/len(scores)))\n",
    "\n",
    "cnt = len(dic_grade)\n",
    "scores = dic_grade.values()\n",
    "print(scores)\n",
    "tot_score = [0,0,0]\n",
    "\n",
    "for score in scores:\n",
    "    idx = 0\n",
    "    for sub_score in score:\n",
    "        tot_score[idx] += int(sub_score)\n",
    "        idx +=1\n",
    "\n",
    "# 각 과목별 평균\n",
    "print(\"학생수 : {}\".format(len(dic_grade)))\n",
    "for tot in tot_score:\n",
    "    print(\"{:3.2f}\".format(tot/3), end='\\t')"
   ]
  },
  {
   "cell_type": "code",
   "execution_count": 140,
   "id": "41e2c8d1",
   "metadata": {
    "scrolled": true
   },
   "outputs": [
    {
     "name": "stdout",
     "output_type": "stream",
     "text": [
      "[2760, 2470, 3200]\n"
     ]
    }
   ],
   "source": [
    "# enmerate함수 인덱스와 값을 반환\n",
    "for idx, sub_score in enumerate(score):\n",
    "    tot_score[idx] += int(sub_score)\n",
    "print(tot_score)"
   ]
  },
  {
   "cell_type": "code",
   "execution_count": 166,
   "id": "89ee5de1",
   "metadata": {},
   "outputs": [
    {
     "name": "stdout",
     "output_type": "stream",
     "text": [
      "이름을 입력하세요: qq\n",
      "국어 영어 성적을 입력하세요: 12 23\n",
      "이름을 입력하세요: ww\n",
      "국어 영어 성적을 입력하세요: 23 34\n",
      "이름을 입력하세요: ee\n",
      "국어 영어 성적을 입력하세요: 34 45\n",
      "이름을 입력하세요: rr\n",
      "국어 영어 성적을 입력하세요: 123\n",
      "국어 영어 성적을 다시 입력하세요\n",
      "국어 영어 성적을 입력하세요: 1234\n",
      "국어 영어 성적을 다시 입력하세요\n",
      "국어 영어 성적을 입력하세요: 78 89\n",
      "이름을 입력하세요: q\n",
      "입력종료!\n",
      "{'qq': ['12', '23'], 'ww': ['23', '34'], 'ee': ['34', '45'], 'rr': ['78', '89']}\n"
     ]
    }
   ],
   "source": [
    "# 1. 키보드에서 이름을 입력 받아 q가 입력되면 입력 종료\n",
    "# 아니면 국어 영어 점수를 입력 받아 저장\n",
    "# 입력받은 점수의 개수가 2가 아니거나 숫자가 아니면 다시 입력\n",
    "# 2. 입력 종료 후 검색하고자 하는 이름을 입력 받아 \n",
    "# 검색된 이름의 성적과, 총점, 평균 출력\n",
    "# 3. 총 입력된 학생의 인원수 출력\n",
    "# 4. 전체 학생의 성적의 합계를 기존에 자료에 추가\n",
    "# 5. 최고점을 받은 학생의 정보 출력\n",
    "\n",
    "dic_grade = {}\n",
    "scores = []\n",
    "\n",
    "while True :\n",
    "    name = input(\"이름을 입력하세요: \")\n",
    "    if name == 'q':\n",
    "        print(\"입력종료!\")\n",
    "        break\n",
    "    else:\n",
    "        while True:\n",
    "            scores = input(\"국어 영어 성적을 입력하세요: \").split()\n",
    "            if len(scores) !=2 :\n",
    "                print(\"국어 영어 성적을 다시 입력하세요\")\n",
    "                continue\n",
    "            else:\n",
    "                dic_grade[name] = scores\n",
    "                break\n",
    "            \n",
    "\n",
    "        \n",
    "print(dic_grade)\n",
    "\n",
    "\n",
    "\n",
    "\n"
   ]
  },
  {
   "cell_type": "code",
   "execution_count": null,
   "id": "d39668bc",
   "metadata": {},
   "outputs": [],
   "source": [
    "while True:\n",
    "    "
   ]
  },
  {
   "cell_type": "code",
   "execution_count": 172,
   "id": "61942845",
   "metadata": {
    "scrolled": true
   },
   "outputs": [
    {
     "name": "stdout",
     "output_type": "stream",
     "text": [
      "0\n",
      "1\n",
      "2\n",
      "3\n",
      "4\n",
      "4\n",
      "3\n",
      "2\n",
      "1\n",
      "0\n"
     ]
    }
   ],
   "source": [
    "# reversed\n",
    "for i in range(5):\n",
    "    print(i)\n",
    "\n",
    "for i in reversed(range(5)):\n",
    "    print(i)\n",
    "    \n",
    "    \n",
    "#제너레이터 함수"
   ]
  },
  {
   "cell_type": "code",
   "execution_count": 173,
   "id": "790bd2dc",
   "metadata": {},
   "outputs": [
    {
     "name": "stdout",
     "output_type": "stream",
     "text": [
      "55\n"
     ]
    }
   ],
   "source": [
    "# while 표현식 : -> 표현식이 True이면 실행\n",
    "i = 1\n",
    "total = 0\n",
    "while i < 11:\n",
    "    total += i\n",
    "    i += 1\n",
    "print(total)"
   ]
  },
  {
   "cell_type": "code",
   "execution_count": 174,
   "id": "2cf801c4",
   "metadata": {},
   "outputs": [
    {
     "name": "stdout",
     "output_type": "stream",
     "text": [
      "[1, 1]\n"
     ]
    }
   ],
   "source": [
    "list_test = [1,2,1,2]\n",
    "while 2 in list_test:\n",
    "    list_test.remove(2)\n",
    "print(list_test)\n",
    "\n",
    "\n"
   ]
  },
  {
   "cell_type": "code",
   "execution_count": 197,
   "id": "a2e6e976",
   "metadata": {},
   "outputs": [],
   "source": [
    "list_news = \" 위원회 224개, 위원수 3,178명과 충남도 211개 위원회, 3,242명입니다.\""
   ]
  },
  {
   "cell_type": "code",
   "execution_count": 198,
   "id": "c654328c",
   "metadata": {},
   "outputs": [
    {
     "data": {
      "text/plain": [
       "[' ',\n",
       " '위',\n",
       " '원',\n",
       " '회',\n",
       " ' ',\n",
       " '2',\n",
       " '2',\n",
       " '4',\n",
       " '개',\n",
       " ',',\n",
       " ' ',\n",
       " '위',\n",
       " '원',\n",
       " '수',\n",
       " ' ',\n",
       " '3',\n",
       " ',',\n",
       " '1',\n",
       " '7',\n",
       " '8',\n",
       " '명',\n",
       " '과',\n",
       " ' ',\n",
       " '충',\n",
       " '남',\n",
       " '도',\n",
       " ' ',\n",
       " '2',\n",
       " '1',\n",
       " '1',\n",
       " '개',\n",
       " ' ',\n",
       " '위',\n",
       " '원',\n",
       " '회',\n",
       " ',',\n",
       " ' ',\n",
       " '3',\n",
       " ',',\n",
       " '2',\n",
       " '4',\n",
       " '2',\n",
       " '명',\n",
       " '입',\n",
       " '니',\n",
       " '다',\n",
       " '.']"
      ]
     },
     "execution_count": 198,
     "metadata": {},
     "output_type": "execute_result"
    }
   ],
   "source": [
    "# list_news 에서 숫자와 \\n을 제거\n",
    "list_news = list(list_news)\n",
    "while a in list_news:\n",
    "    if a.isnumeric():\n",
    "        list_news.remove(a)\n",
    "list_news\n",
    "    "
   ]
  },
  {
   "cell_type": "code",
   "execution_count": null,
   "id": "aaf4fb79",
   "metadata": {},
   "outputs": [],
   "source": [
    "# python 의 데이터 타입 : 문자, 숫자, 불리언\n",
    "# 자료의 집합 : list -> [], 딕셔너리 -> {}\n",
    "# list[인덱스], 딕셔너리[키]\n",
    "# list.append(요소), dict[키] = 값\n",
    "# list[인덱스] = 값, dict[키] = 값\n",
    "# list.pop(), list.remove(값), del list[인덱스], del dict[키]\n",
    "\n",
    "#반복문 for문과 같이 사용\n",
    "# for value in list : -> 리스트의 각 요소가 value로 저장됨\n",
    "# for key in dict : -> 딕셔너리의 키가 key로 저장됨\n",
    "\n",
    "#for idx, value in enumerate(리스트) -> 위치(idx)와 값(value)이 저장됨\n",
    "#for key, value in dict.items() -> 키(key)와 값(value)이 저장됨\n",
    "\n",
    "#dict.get(키) -> 값이 반환됨\n",
    "\n",
    "#while True: 조건일 경우 실행\n",
    "\n",
    "# 반복문 탈출 키워드 -> break: 반복문 탈출, continue: 반복문 조건식으로 이동\n"
   ]
  },
  {
   "cell_type": "code",
   "execution_count": 199,
   "id": "b71d36c4",
   "metadata": {},
   "outputs": [
    {
     "name": "stdout",
     "output_type": "stream",
     "text": [
      "0부터 10까지의 합은 55\n"
     ]
    }
   ],
   "source": [
    "# 반복문에서 누적합 등을 구하고자 할 경우 \n",
    "# 초기화는 반복문 시작전에 \n",
    "tot = 0\n",
    "for i in range(11):\n",
    "    tot += i\n",
    "print(f\"0부터 10까지의 합은 {tot}\")"
   ]
  },
  {
   "cell_type": "code",
   "execution_count": 204,
   "id": "00916173",
   "metadata": {},
   "outputs": [
    {
     "name": "stdout",
     "output_type": "stream",
     "text": [
      "3초동안 13452465번 실행\n"
     ]
    }
   ],
   "source": [
    "# time모듈과 반복문 사용하기\n",
    "\n",
    "import time\n",
    "\n",
    "cnt = 0\n",
    "t_time = time.time() + 3\n",
    "while time.time() < t_time:\n",
    "    cnt +=1\n",
    "print(f\"3초동안 {cnt}번 실행\")"
   ]
  },
  {
   "cell_type": "markdown",
   "id": "af07c1c9",
   "metadata": {},
   "source": [
    "## CH 4.4 문자열 리스트, 딕셔너리와 관련된 기본함수"
   ]
  },
  {
   "cell_type": "code",
   "execution_count": 205,
   "id": "c99d4529",
   "metadata": {},
   "outputs": [
    {
     "name": "stdout",
     "output_type": "stream",
     "text": [
      "10\n",
      "40\n",
      "70\n"
     ]
    }
   ],
   "source": [
    "# min(),max(),sum()\n",
    "list_a = [10,20,40]\n",
    "print(min(list_a))\n",
    "print(max(list_a))\n",
    "print(sum(list_a))\n"
   ]
  },
  {
   "cell_type": "code",
   "execution_count": 208,
   "id": "38d2cd90",
   "metadata": {},
   "outputs": [
    {
     "name": "stdout",
     "output_type": "stream",
     "text": [
      "asd\n",
      "zxc\n"
     ]
    }
   ],
   "source": [
    "list_str = ['asd','qwe','zxc']\n",
    "print(min(list_str))\n",
    "print(max(list_str))\n",
    "# print(sum(list_str))\n",
    "\n",
    "\n"
   ]
  },
  {
   "cell_type": "code",
   "execution_count": 211,
   "id": "0dd846da",
   "metadata": {},
   "outputs": [
    {
     "name": "stdout",
     "output_type": "stream",
     "text": [
      "[0, 4, 16, 36, 64, 100, 144, 196, 256, 324]\n",
      "[0, 4, 16, 36, 64, 100, 144, 196, 256, 324]\n"
     ]
    }
   ],
   "source": [
    "# 반복문을 사용한 리스트 생성\n",
    "array = []\n",
    "# 반복문을 사용하여 리스트 데이터 추가\n",
    "for i in range(0,20,2):\n",
    "    array.append(i*i)\n",
    "print(array)\n",
    "\n"
   ]
  },
  {
   "cell_type": "code",
   "execution_count": 1,
   "id": "f74a34ea",
   "metadata": {},
   "outputs": [
    {
     "name": "stdout",
     "output_type": "stream",
     "text": [
      "[0, 4, 16, 36, 64, 100, 144, 196, 256, 324]\n"
     ]
    }
   ],
   "source": [
    "#리스트 내포: 리스트 선언안에 for문장을 사용\n",
    "# [표현식 for 반복자 in 반복할 수 있는 자료]\n",
    "array_1 = [ i*i for i in range(0,20,2)]\n",
    "print(array_1)"
   ]
  },
  {
   "cell_type": "code",
   "execution_count": 3,
   "id": "77b9bf0e",
   "metadata": {},
   "outputs": [
    {
     "data": {
      "text/plain": [
       "[0, 16, 64, 144, 256]"
      ]
     },
     "execution_count": 3,
     "metadata": {},
     "output_type": "execute_result"
    }
   ],
   "source": [
    "#리스트 내포: 리스트 선언안에 for문장을 사용, 조건식과 같이 사용\n",
    "# [표현식 for 반복자 in 반복할 수 있는 자료 if 조건문]\n",
    "array_1 = [ i*i \n",
    "           for i in range(0,20) \n",
    "           if i % 4== 0]\n",
    "array_1"
   ]
  },
  {
   "cell_type": "code",
   "execution_count": null,
   "id": "bd058a4a",
   "metadata": {},
   "outputs": [],
   "source": [
    "# 문장이 길어질 때 () 하나의 문장으로 인식\n"
   ]
  },
  {
   "cell_type": "code",
   "execution_count": 219,
   "id": "324e318e",
   "metadata": {},
   "outputs": [],
   "source": [
    "#문자열.split() => space로 분리\n",
    "#리스트를 하나의 문자열로 전환\n",
    "list_str\n",
    "\n",
    "# 리스트를 하나의 문자열로 연결 문자를 '-'\n",
    "join_str = '-'.join(list_str)"
   ]
  },
  {
   "cell_type": "code",
   "execution_count": 220,
   "id": "597ca9dc",
   "metadata": {},
   "outputs": [
    {
     "data": {
      "text/plain": [
       "['asd', 'qwe', 'zxc']"
      ]
     },
     "execution_count": 220,
     "metadata": {},
     "output_type": "execute_result"
    }
   ],
   "source": [
    "spilt_list = join_str.split('-')\n",
    "spilt_list"
   ]
  },
  {
   "cell_type": "code",
   "execution_count": null,
   "id": "87a4686c",
   "metadata": {},
   "outputs": [],
   "source": []
  },
  {
   "cell_type": "code",
   "execution_count": null,
   "id": "5759babc",
   "metadata": {},
   "outputs": [],
   "source": []
  },
  {
   "cell_type": "code",
   "execution_count": null,
   "id": "ed0db709",
   "metadata": {},
   "outputs": [],
   "source": []
  },
  {
   "cell_type": "code",
   "execution_count": null,
   "id": "6ffbf2d3",
   "metadata": {},
   "outputs": [],
   "source": []
  },
  {
   "cell_type": "code",
   "execution_count": null,
   "id": "6545062c",
   "metadata": {},
   "outputs": [],
   "source": []
  },
  {
   "cell_type": "code",
   "execution_count": null,
   "id": "6b4d616c",
   "metadata": {},
   "outputs": [],
   "source": []
  }
 ],
 "metadata": {
  "kernelspec": {
   "display_name": "Python 3 (ipykernel)",
   "language": "python",
   "name": "python3"
  },
  "language_info": {
   "codemirror_mode": {
    "name": "ipython",
    "version": 3
   },
   "file_extension": ".py",
   "mimetype": "text/x-python",
   "name": "python",
   "nbconvert_exporter": "python",
   "pygments_lexer": "ipython3",
   "version": "3.9.12"
  }
 },
 "nbformat": 4,
 "nbformat_minor": 5
}
