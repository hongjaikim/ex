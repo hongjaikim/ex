{
 "cells": [
  {
   "cell_type": "code",
   "execution_count": 2,
   "id": "0d9abc9a",
   "metadata": {},
   "outputs": [
    {
     "name": "stdout",
     "output_type": "stream",
     "text": [
      "get_circum(5) :  31.41592\n",
      "get_circle_area(5) :  78.5398\n",
      "모듈의 __name__ :  __main__\n"
     ]
    }
   ],
   "source": [
    "# 모듈 작성\n",
    "PI = 3.141592\n",
    "\n",
    "def number_input():\n",
    "    output = input('숫자 입력 :')\n",
    "    return float(output)\n",
    "\n",
    "def get_circum(radius):\n",
    "    return radius * 2 * PI\n",
    "\n",
    "def get_circle_area(radius):\n",
    "    return PI * radius * radius\n",
    "if __name__ == '__main__':\n",
    "    print('get_circum(5) : ', get_circum(5))\n",
    "    print('get_circle_area(5) : ', get_circle_area(5))\n",
    "print(\"모듈의 __name__ : \",__name__)"
   ]
  }
 ],
 "metadata": {
  "kernelspec": {
   "display_name": "Python 3 (ipykernel)",
   "language": "python",
   "name": "python3"
  },
  "language_info": {
   "codemirror_mode": {
    "name": "ipython",
    "version": 3
   },
   "file_extension": ".py",
   "mimetype": "text/x-python",
   "name": "python",
   "nbconvert_exporter": "python",
   "pygments_lexer": "ipython3",
   "version": "3.9.12"
  }
 },
 "nbformat": 4,
 "nbformat_minor": 5
}
