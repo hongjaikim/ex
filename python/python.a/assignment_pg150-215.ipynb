{
 "cells": [
  {
   "cell_type": "code",
   "execution_count": 5,
   "id": "8732311f",
   "metadata": {},
   "outputs": [
    {
     "data": {
      "text/plain": [
       "'52'"
      ]
     },
     "execution_count": 5,
     "metadata": {},
     "output_type": "execute_result"
    }
   ],
   "source": [
    "# pg 150 확인문제1\n",
    "# 3\n",
    "\"{}{}\".format(52,273)\n",
    "\"{}{}\".format(52,type(273))\n",
    "# \"{}{}{}\".format(52,type(273))\n",
    "\"{}\".format(52,273)"
   ]
  },
  {
   "cell_type": "code",
   "execution_count": null,
   "id": "0ca7da89",
   "metadata": {},
   "outputs": [],
   "source": [
    "# pg 150 확인문제2 \n",
    "# 1-4,2-2,3-1,4-3"
   ]
  },
  {
   "cell_type": "code",
   "execution_count": 7,
   "id": "ff72c6ef",
   "metadata": {},
   "outputs": [
    {
     "name": "stdout",
     "output_type": "stream",
     "text": [
      "> 1번째 숫자: 100\n",
      "> 2번째 숫자: 200\n",
      "\n",
      "100 + 200 = 300\n"
     ]
    }
   ],
   "source": [
    "\n",
    "# pg 151 확인문제3\n",
    "a = input(\"> 1번째 숫자: \")\n",
    "b = input(\"> 2번째 숫자: \")\n",
    "print()\n",
    "\n",
    "print(\"{} + {} = {}\".format(int(a),int(b),int(a)+int(b)))\n",
    "\n"
   ]
  },
  {
   "cell_type": "code",
   "execution_count": 8,
   "id": "37fb00f6",
   "metadata": {},
   "outputs": [
    {
     "name": "stdout",
     "output_type": "stream",
     "text": [
      "A 지점 : hello\n",
      "B 지점 : HELLO\n"
     ]
    }
   ],
   "source": [
    "# pg 151 확인문제4\n",
    "# A 지점 : hello\n",
    "# B 지점 : HELLO\n",
    "\n",
    "string = \"hello\"\n",
    "\n",
    "# string.upper()를 실행하고, string 출력하기\n",
    "\n",
    "string.upper()\n",
    "print(\"A 지점 :\", string)\n",
    "\n",
    "# string.upper() 실행하기\n",
    "\n",
    "print(\"B 지점 :\",string.upper())\n",
    "\n"
   ]
  },
  {
   "cell_type": "code",
   "execution_count": null,
   "id": "27ab54d1",
   "metadata": {},
   "outputs": [],
   "source": []
  },
  {
   "cell_type": "code",
   "execution_count": 21,
   "id": "6ac9b717",
   "metadata": {},
   "outputs": [
    {
     "name": "stdout",
     "output_type": "stream",
     "text": [
      "구의 반지름을 입력해주세요: 5\n",
      "= 구의 부피는 523.5986666666666입니다.\n",
      "= 구의 겉넓이는 314.1592입니다.\n"
     ]
    }
   ],
   "source": [
    "# pg 152 도전문제1\n",
    "radius = int(input(\"구의 반지름을 입력해주세요: \"))\n",
    "\n",
    "print(f\"= 구의 부피는 {4/3*3.141592*(radius**3)}입니다.\")\n",
    "\n",
    "print(f\"= 구의 겉넓이는 {4*3.141592*(radius**2)}입니다.\")\n",
    "\n",
    "\n",
    "\n",
    "\n"
   ]
  },
  {
   "cell_type": "code",
   "execution_count": 26,
   "id": "0a9d983c",
   "metadata": {},
   "outputs": [
    {
     "name": "stdout",
     "output_type": "stream",
     "text": [
      "밑변의 길이를 입력해주세요: 3.0\n",
      "높이의 길이를 입력해주세요: 4.0\n",
      "= 빗변의 길이는 5.0입니다.\n"
     ]
    }
   ],
   "source": [
    "# pg 153 도전문제2\n",
    "\n",
    "base = float(input(\"밑변의 길이를 입력해주세요: \"))\n",
    "height = float(input(\"높이의 길이를 입력해주세요: \"))\n",
    "\n",
    "print(f\"= 빗변의 길이는 {(base ** 2 + height ** 2) ** (1/2)}입니다.\")\n",
    "\n"
   ]
  },
  {
   "cell_type": "code",
   "execution_count": null,
   "id": "2460c7b5",
   "metadata": {},
   "outputs": [],
   "source": []
  },
  {
   "cell_type": "code",
   "execution_count": null,
   "id": "f571f238",
   "metadata": {},
   "outputs": [],
   "source": [
    "# pg 174 확인문제1\n",
    "# F T F T T F\n",
    "# pg 174 확인문제2\n",
    "# 3\n",
    "# pg 175 확인문제3\n",
    "# or and or"
   ]
  },
  {
   "cell_type": "code",
   "execution_count": 98,
   "id": "ee1c15f2",
   "metadata": {},
   "outputs": [
    {
     "name": "stdout",
     "output_type": "stream",
     "text": [
      "> 1번째 숫자: 1\n",
      "> 2번째 숫자: 2\n",
      "\n",
      "두 번째 입력했던 2가 1보다 더 큽니다\n"
     ]
    }
   ],
   "source": [
    "# pg 175 확인문제4\n",
    "a = int(input(\"> 1번째 숫자: \"))\n",
    "b = int(input(\"> 2번째 숫자: \"))\n",
    "print()\n",
    "\n",
    "if a > b :\n",
    "    print(\"처음 입력했던 {}가 {}보다 더 큽니다\".format(a,b))\n",
    "elif b > a :\n",
    "    print(\"두 번째 입력했던 {}가 {}보다 더 큽니다\".format(b,a))\n",
    "else:\n",
    "    print(\"두 숫자가 같습니다\")\n"
   ]
  },
  {
   "cell_type": "code",
   "execution_count": null,
   "id": "f8036813",
   "metadata": {},
   "outputs": [],
   "source": []
  },
  {
   "cell_type": "code",
   "execution_count": 11,
   "id": "44706f37",
   "metadata": {},
   "outputs": [],
   "source": [
    "# pg186 확인문제 1번\n",
    "# 12, 5, \"\"\n",
    "\n",
    "# x = 2\n",
    "# y = 10\n",
    "\n",
    "# if x > 4 :\n",
    "#     if y > 2 :\n",
    "#         print(x*y)\n",
    "# else :\n",
    "#     print(x+y)\n",
    "    \n",
    "# x = 1\n",
    "# y = 4\n",
    "\n",
    "# if x > 4 :\n",
    "#     if y > 2 :\n",
    "#         print(x*y)\n",
    "# else :\n",
    "#     print(x+y)\n",
    "    \n",
    "# x = 10\n",
    "# y = 2\n",
    "\n",
    "# if x > 4 :\n",
    "#     if y > 2 :\n",
    "#         print(x*y)\n",
    "# else :\n",
    "#     print(x+y)"
   ]
  },
  {
   "cell_type": "code",
   "execution_count": 24,
   "id": "ef894ef0",
   "metadata": {},
   "outputs": [
    {
     "name": "stdout",
     "output_type": "stream",
     "text": [
      "조건에 맞습니다\n"
     ]
    }
   ],
   "source": [
    "# pg 187 확인문제 2번\n",
    "x = 11\n",
    "if x > 10 and x < 20 :\n",
    "    print(\"조건에 맞습니다\")"
   ]
  },
  {
   "cell_type": "code",
   "execution_count": 25,
   "id": "39cebe7c",
   "metadata": {},
   "outputs": [
    {
     "name": "stdout",
     "output_type": "stream",
     "text": [
      "태어난 해를 입력해 주세요> 1998\n",
      "범 띠입니다.\n"
     ]
    }
   ],
   "source": [
    "# pg 187 확인문제 3번\n",
    "str_input = input(\"태어난 해를 입력해 주세요> \")\n",
    "birth_year = int(str_input) % 12\n",
    "if birth_year == 0 :\n",
    "    print(\"원숭이 띠입니다.\")\n",
    "elif birth_year == 1 :\n",
    "    print(\"닭 띠입니다.\")\n",
    "elif birth_year == 2 :\n",
    "    print(\"개 띠입니다.\")\n",
    "elif birth_year == 3 :\n",
    "    print(\"돼지 띠입니다.\")\n",
    "elif birth_year == 4 :\n",
    "    print(\"쥐 띠입니다.\")\n",
    "elif birth_year == 5 :\n",
    "    print(\"소 띠입니다.\")\n",
    "elif birth_year == 6 :\n",
    "    print(\"범 띠입니다.\")\n",
    "elif birth_year == 7 :\n",
    "    print(\"토끼 띠입니다.\")\n",
    "elif birth_year == 8 :\n",
    "    print(\"용 띠입니다.\")\n",
    "elif birth_year == 9 :\n",
    "    print(\"뱀 띠입니다.\")\n",
    "elif birth_year == 10 :\n",
    "    print(\"말 띠입니다.\")\n",
    "elif birth_year == 11 :\n",
    "    print(\"양 띠입니다.\")"
   ]
  },
  {
   "cell_type": "code",
   "execution_count": null,
   "id": "2eda3747",
   "metadata": {},
   "outputs": [],
   "source": []
  },
  {
   "cell_type": "code",
   "execution_count": 59,
   "id": "a4466147",
   "metadata": {},
   "outputs": [
    {
     "name": "stdout",
     "output_type": "stream",
     "text": [
      "입력: 지금 몇 시에요?\n",
      "지금은 13시 입니다.\n"
     ]
    }
   ],
   "source": [
    "# pg 188 도전문제 1\n",
    "import datetime\n",
    "now = datetime.datetime.now()\n",
    "\n",
    "str_1 = input(\"입력: \")\n",
    "if str_1 == \"안녕\" or str_1 == \"안녕하세요.\"  :\n",
    "    print('안녕하세요.')\n",
    "elif str_1 == \"지금 몇 시야?\" or  str_1 == \"지금 몇 시에요?\" :\n",
    "    print(f\"지금은 {now.hour}시 입니다.\")\n",
    "else :\n",
    "    print(str_1)"
   ]
  },
  {
   "cell_type": "code",
   "execution_count": 61,
   "id": "686ac9d1",
   "metadata": {},
   "outputs": [
    {
     "name": "stdout",
     "output_type": "stream",
     "text": [
      "정수를 입력해주세요: 273\n",
      "273은(는) 2로 나누어 떨어지는 숫자가 아닙니다.\n",
      "273은(는) 3로 나누어 떨어지는 숫자입니다.\n",
      "273은(는) 4로 나누어 떨어지는 숫자가 아닙니다.\n",
      "273은(는) 5로 나누어 떨어지는 숫자가 아닙니다.\n"
     ]
    }
   ],
   "source": [
    "# pg 189 도전문제 2\n",
    "num_1 = int(input(\"정수를 입력해주세요: \"))\n",
    "if num_1 % 2 == 0 :\n",
    "    print(f\"{num_1}은(는) 2로 나누어 떨어지는 숫자입니다.\")\n",
    "else : \n",
    "    print(f\"{num_1}은(는) 2로 나누어 떨어지는 숫자가 아닙니다.\")\n",
    "\n",
    "if num_1 % 3 == 0 :\n",
    "    print(f\"{num_1}은(는) 3로 나누어 떨어지는 숫자입니다.\")\n",
    "else : \n",
    "    print(f\"{num_1}은(는) 3로 나누어 떨어지는 숫자가 아닙니다.\")\n",
    "    \n",
    "if num_1 % 4 == 0 :\n",
    "    print(f\"{num_1}은(는) 4로 나누어 떨어지는 숫자입니다.\")\n",
    "else : \n",
    "    print(f\"{num_1}은(는) 4로 나누어 떨어지는 숫자가 아닙니다.\")\n",
    "    \n",
    "if num_1 % 5 == 0 :\n",
    "    print(f\"{num_1}은(는) 5로 나누어 떨어지는 숫자입니다.\")\n",
    "else : \n",
    "    print(f\"{num_1}은(는) 5로 나누어 떨어지는 숫자가 아닙니다.\")\n",
    "    \n",
    "\n"
   ]
  },
  {
   "cell_type": "code",
   "execution_count": 93,
   "id": "30f2b3c0",
   "metadata": {},
   "outputs": [
    {
     "name": "stdout",
     "output_type": "stream",
     "text": [
      "정수를 입력하세요: 123215413253\n",
      "123215413253은(는) 3으로 나누어 떨어지는 숫자입니다.\n",
      "123215413253은(는) 4로 나누어 떨어지는 숫자가 아닙니다.\n",
      "123215413253은(는) 5로 나누어 떨어지는 숫자가 아닙니다.\n",
      "123215413253은(는) 6으로 나누어 떨어지는 숫자가 아닙니다.\n",
      "123215413253은(는) 9로 나누어 떨어지는 숫자가 아닙니다.\n",
      "123215413253은(는) 10으로 나누어 떨어지는 숫자가 아닙니다.\n"
     ]
    }
   ],
   "source": [
    "# pg189 추가문제(pg169)\n",
    "num = input(\"정수를 입력하세요: \")\n",
    "numl = len(num)\n",
    "\n",
    "# 3의 배수\n",
    "a=[]\n",
    "for i in str(num):\n",
    "    a.append(i)\n",
    "    \n",
    "cnt=0\n",
    "\n",
    "for b in a:\n",
    "    num_3 += int(a[cnt])\n",
    "    cnt += 1\n",
    "\n",
    "if num_3 % 3 == 0:\n",
    "    print(f\"{num}은(는) 3으로 나누어 떨어지는 숫자입니다.\")\n",
    "else:\n",
    "    print(f\"{num}은(는) 3으로 나누어 떨어지는 숫자가 아닙니다.\")\n",
    "    \n",
    "\n",
    "# 4의 배수\n",
    "if int(num[-2:]) % 4 == 0 :\n",
    "    print(f\"{num}은(는) 4로 나누어 떨어지는 숫자입니다.\")\n",
    "else :\n",
    "    print(f\"{num}은(는) 4로 나누어 떨어지는 숫자가 아닙니다.\")\n",
    "\n",
    "# 5의 배수\n",
    "if num[-1] in \"05\" :\n",
    "    print(f\"{num}은(는) 5로 나누어 떨어지는 숫자입니다.\")\n",
    "else :\n",
    "    print(f\"{num}은(는) 5로 나누어 떨어지는 숫자가 아닙니다.\")\n",
    "# 6의 배수\n",
    "\n",
    "a=[]\n",
    "for i in str(num):\n",
    "    a.append(i)\n",
    "    \n",
    "cnt=0\n",
    "\n",
    "for b in a:\n",
    "    num_3 += int(a[cnt])\n",
    "    cnt += 1\n",
    "\n",
    "if num_3 % 3 == 0 and num_3 % 2 ==0 :\n",
    "    print(f\"{num}은(는) 6으로 나누어 떨어지는 숫자입니다.\")\n",
    "else:\n",
    "    print(f\"{num}은(는) 6으로 나누어 떨어지는 숫자가 아닙니다.\")\n",
    "    \n",
    "\n",
    "# 9의 배수\n",
    "a=[]\n",
    "for i in str(num):\n",
    "    a.append(i)\n",
    "    \n",
    "cnt=0\n",
    "\n",
    "for b in a:\n",
    "    num_3 += int(a[cnt])\n",
    "    cnt += 1\n",
    "\n",
    "if num_3 % 9 == 0:\n",
    "    print(f\"{num}은(는) 9로 나누어 떨어지는 숫자입니다.\")\n",
    "else:\n",
    "    print(f\"{num}은(는) 9로 나누어 떨어지는 숫자가 아닙니다.\")\n",
    "    \n",
    "\n",
    "# 10의 배수\n",
    "if num[-1] == \"0\" :\n",
    "    print(f\"{num}은(는) 10으로 나누어 떨어지는 숫자입니다.\")\n",
    "else :\n",
    "    print(f\"{num}은(는) 10으로 나누어 떨어지는 숫자가 아닙니다.\")\n",
    "\n"
   ]
  },
  {
   "cell_type": "code",
   "execution_count": null,
   "id": "839a5aed",
   "metadata": {},
   "outputs": [],
   "source": []
  },
  {
   "cell_type": "code",
   "execution_count": 8,
   "id": "0563b0c7",
   "metadata": {},
   "outputs": [],
   "source": [
    "# pg 213 확인문제 1번\n",
    "list_a = [0,1,2,3,4,5,6,7]\n",
    "\n",
    "list_a.extend(list_a) #[0,1,2,3,4,5,6,7,0,1,2,3,4,5,6,7]\n",
    "list_a.append(10) # [0,1,2,3,4,5,6,7,10]\n",
    "list_a.insert(3,0) # [0,1,2,0,3,4,5,6,7]\n",
    "list_a.remove(3) # [0,1,2,4,5,6,7]\n",
    "list_a.pop(3) # [0,1,2,4,5,6,7]\n",
    "list_a.clear() # []\n"
   ]
  },
  {
   "cell_type": "code",
   "execution_count": 9,
   "id": "5c666b66",
   "metadata": {},
   "outputs": [
    {
     "name": "stdout",
     "output_type": "stream",
     "text": [
      "- 100 이상의 수:  273\n",
      "- 100 이상의 수:  103\n",
      "- 100 이상의 수:  800\n"
     ]
    }
   ],
   "source": [
    "# pg 214 확인문제 2번\n",
    "numbers = [273,103,5,32,65,9,72,800,99]\n",
    "\n",
    "for number in numbers:\n",
    "    if number >= 100 :\n",
    "        print(\"- 100 이상의 수: \",number)"
   ]
  },
  {
   "cell_type": "code",
   "execution_count": 15,
   "id": "22bb24fb",
   "metadata": {},
   "outputs": [
    {
     "name": "stdout",
     "output_type": "stream",
     "text": [
      "273 는 짝수입니다.\n",
      "103 는 홀수입니다.\n",
      "5 는 짝수입니다.\n",
      "32 는 짝수입니다.\n",
      "65 는 짝수입니다.\n",
      "9 는 짝수입니다.\n",
      "72 는 짝수입니다.\n",
      "800 는 짝수입니다.\n",
      "99 는 홀수입니다.\n"
     ]
    }
   ],
   "source": [
    "# pg 214 확인문제 3-1번\n",
    "numbers = [273,103,5,32,65,9,72,800,99]\n",
    "\n",
    "for num in numbers:\n",
    "    if num & 2 == 0 :\n",
    "        print(f\"{num} 는 짝수입니다.\")\n",
    "    else:\n",
    "        print(f\"{num} 는 홀수입니다.\")\n"
   ]
  },
  {
   "cell_type": "code",
   "execution_count": 21,
   "id": "a5522da1",
   "metadata": {},
   "outputs": [
    {
     "name": "stdout",
     "output_type": "stream",
     "text": [
      "273 는 3 자릿수입니다.\n",
      "103 는 3 자릿수입니다.\n",
      "5 는 1 자릿수입니다.\n",
      "32 는 2 자릿수입니다.\n",
      "65 는 2 자릿수입니다.\n",
      "9 는 1 자릿수입니다.\n",
      "72 는 2 자릿수입니다.\n",
      "800 는 3 자릿수입니다.\n",
      "99 는 2 자릿수입니다.\n"
     ]
    }
   ],
   "source": [
    "# pg 214 확인문제 3-2번\n",
    "numbers = [273,103,5,32,65,9,72,800,99]\n",
    "\n",
    "for num in numbers:\n",
    "    print(f\"{num} 는 {len(str(num))} 자릿수입니다.\")\n",
    "\n",
    "\n",
    "\n"
   ]
  },
  {
   "cell_type": "code",
   "execution_count": 24,
   "id": "06d8d5f3",
   "metadata": {},
   "outputs": [
    {
     "name": "stdout",
     "output_type": "stream",
     "text": [
      "[[1, 4, 7], [2, 5, 8], [3, 6, 9]]\n"
     ]
    }
   ],
   "source": [
    "# pg 215 확인문제 4번\n",
    "numbers = [1,2,3,4,5,6,7,8,9]\n",
    "output = [[],[],[]]\n",
    "\n",
    "for number in numbers:\n",
    "    output[number % 3 -1].append(number)\n",
    "\n",
    "print(output)"
   ]
  },
  {
   "cell_type": "code",
   "execution_count": 34,
   "id": "f38fada9",
   "metadata": {},
   "outputs": [
    {
     "name": "stdout",
     "output_type": "stream",
     "text": [
      "i = 0, j = 1\n",
      "i = 1, j = 3\n",
      "i = 2, j = 5\n",
      "i = 3, j = 7\n",
      "[1, 4, 3, 16, 5, 36, 7, 64, 9]\n"
     ]
    }
   ],
   "source": [
    "# pg 215 확인문제 5번\n",
    "numbers = [1,2,3,4,5,6,7,8,9]\n",
    "\n",
    "for i in range(0,len(numbers)//2):\n",
    "    # j 가 1,3,5,7이 나오려면\n",
    "    # 어떤 식을 사용해야 할까요?\n",
    "    \n",
    "    j = i*2+1\n",
    "    print(f\"i = {i}, j = {j}\")\n",
    "    numbers[j] = numbers[j]**2\n",
    "\n",
    "print(numbers)\n",
    "\n",
    "\n",
    "\n"
   ]
  },
  {
   "cell_type": "code",
   "execution_count": null,
   "id": "57e33f6b",
   "metadata": {},
   "outputs": [],
   "source": []
  }
 ],
 "metadata": {
  "kernelspec": {
   "display_name": "Python 3 (ipykernel)",
   "language": "python",
   "name": "python3"
  },
  "language_info": {
   "codemirror_mode": {
    "name": "ipython",
    "version": 3
   },
   "file_extension": ".py",
   "mimetype": "text/x-python",
   "name": "python",
   "nbconvert_exporter": "python",
   "pygments_lexer": "ipython3",
   "version": "3.9.12"
  }
 },
 "nbformat": 4,
 "nbformat_minor": 5
}
