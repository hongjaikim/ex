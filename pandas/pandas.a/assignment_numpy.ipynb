{
 "cells": [
  {
   "cell_type": "code",
   "execution_count": 21,
   "id": "c96dc0f9",
   "metadata": {},
   "outputs": [
    {
     "name": "stdout",
     "output_type": "stream",
     "text": [
      "[ 3  6  9 12 15 18]\n",
      "[ 1  5  9 13 17]\n",
      "[9]\n"
     ]
    }
   ],
   "source": [
    "# 다음 행렬과 같은 배열이 있다.\n",
    "# x = np.array([1, 2, 3, 4, 5, 6, 7, 8, 9, 10, 11, 12, 13, 14, 15, 16, 17, 18, 19, 20])\n",
    "\n",
    "# 이 배열에서 3의 배수를 찾아라.\n",
    "# 이 배열에서 4로 나누면 1이 남는 수를 찾아라.\n",
    "# 이 배열에서 3으로 나누면 나누어지고 4로 나누면 1이 남는 수를 찾아라.\n",
    "import numpy as np\n",
    "x = np.array([1, 2, 3, 4, 5, 6, 7, 8, 9, 10, 11, 12, 13, 14, 15, 16, 17, 18, 19, 20])\n",
    "print(x[x%3==0])\n",
    "print(x[x%4==1])\n",
    "print(x[(x%3==0) & (x%4==1)])"
   ]
  },
  {
   "cell_type": "code",
   "execution_count": 32,
   "id": "e89cdcd0",
   "metadata": {},
   "outputs": [
    {
     "data": {
      "text/plain": [
       "0      0\n",
       "1      1\n",
       "2      1\n",
       "3      1\n",
       "4      0\n",
       "      ..\n",
       "886    0\n",
       "887    1\n",
       "888    0\n",
       "889    1\n",
       "890    0\n",
       "Name: survived, Length: 891, dtype: int64"
      ]
     },
     "execution_count": 32,
     "metadata": {},
     "output_type": "execute_result"
    }
   ],
   "source": [
    "# < 실습 : ExCnTitanic.py >\n",
    "# 다음 명령으로 타이타닉호 승객 데이터를 데이터프레임으로 읽어온다. \n",
    "# 이 명령을 실행하려면 seaborn 패키지가 설치되어 있어야 한다.\n",
    "\n",
    "# import seaborn as sns \n",
    "# titanic = sns.load_dataset(\"titanic\")\n",
    "\n",
    "# 타이타닉호 승객 데이터의 데이터 값을 각 열마다 구해본다.\n",
    "import pandas as pd\n",
    "import seaborn as sns \n",
    "titanic = sns.load_dataset(\"titanic\")\n",
    "\n",
    "titanic['survived'] # ...\n",
    "\n"
   ]
  },
  {
   "cell_type": "code",
   "execution_count": 42,
   "id": "8888d8c0",
   "metadata": {
    "scrolled": true
   },
   "outputs": [
    {
     "name": "stdout",
     "output_type": "stream",
     "text": [
      "sex   \n",
      "male      577\n",
      "female    314\n",
      "dtype: int64\n",
      "\n",
      "age  \n",
      "24.00    30\n",
      "22.00    27\n",
      "18.00    26\n",
      "30.00    25\n",
      "28.00    25\n",
      "         ..\n",
      "20.50     1\n",
      "14.50     1\n",
      "12.00     1\n",
      "0.92      1\n",
      "80.00     1\n",
      "Length: 88, dtype: int64\n",
      "\n",
      "class \n",
      "Third     491\n",
      "First     216\n",
      "Second    184\n",
      "dtype: int64\n",
      "\n",
      "alive\n",
      "no       549\n",
      "yes      342\n",
      "dtype: int64\n"
     ]
    }
   ],
   "source": [
    "# 타이타닉호 승객중 성별(sex) 인원수, 나이별(age) 인원수,\n",
    "# 선실별(class) 인원수, 사망/생존(alive) 인원수를 구하라.\n",
    "\n",
    "print(titanic.loc[:,['sex']].value_counts())\n",
    "print()\n",
    "print(titanic.loc[:,['age']].value_counts())\n",
    "print()\n",
    "print(titanic.loc[:,['class']].value_counts())\n",
    "print()\n",
    "print(titanic.loc[:,['alive']].value_counts())"
   ]
  },
  {
   "cell_type": "code",
   "execution_count": 124,
   "id": "8ce1c3ff",
   "metadata": {},
   "outputs": [
    {
     "name": "stdout",
     "output_type": "stream",
     "text": [
      "생존자 그룹 \n",
      " 미성년자 : 13.31% 청년 : 26.98% 중년 : 29.86% 장년 : 28.06% 노년 : 1.80%\n",
      "사망자 그룹 \n",
      " 미성년자 : 7.58% 청년 : 33.89% 중년 : 26.78% 장년 : 27.73% 노년 : 4.03%\n"
     ]
    }
   ],
   "source": [
    "# # 연습 문제 \n",
    "\n",
    "# bins = [1, 15, 25, 35, 60, 99] \n",
    "# labels = [\"미성년자\", \"청년\", \"중년\", \"장년\", \"노년\"]\n",
    "\n",
    "# 타이타닉호 승객을 사망자와 생존자 그룹으로 나누고 각 그룹에 대해 '미성년자', '청년', '중년', '장년', '노년' 승객의 비율을 구한다. \n",
    "# 각 그룹 별로 비율의 전체 합은 1이 되어야 한다.\n",
    "\n",
    "titanic_y = titanic[titanic.loc[:,'alive'] == 'yes']\n",
    "titanic_n = titanic[titanic.loc[:,'alive'] == 'no']\n",
    "\n",
    "bins = [1, 15, 25, 35, 60, 99] \n",
    "labels = [\"미성년자\", \"청년\", \"중년\", \"장년\", \"노년\"]\n",
    "\n",
    "ages_y = pd.cut(titanic_y['age'],bins,labels=labels)\n",
    "ages_n = pd.cut(titanic_n['age'],bins,labels=labels)\n",
    "\n",
    "ay = ages_y.value_counts(labels)\n",
    "an = ages_n.value_counts(labels)\n",
    "\n",
    "print(\"생존자 그룹 \\n\",\n",
    "      \"미성년자 : {:3.2f}%\".format(ay['미성년자']*100),\n",
    "      \"청년 : {:3.2f}%\".format(ay['청년']*100),\n",
    "      \"중년 : {:3.2f}%\".format(ay['중년']*100),\n",
    "      \"장년 : {:3.2f}%\".format(ay['장년']*100),\n",
    "      \"노년 : {:3.2f}%\".format(ay['노년']*100))\n",
    "\n",
    "print(\"사망자 그룹 \\n\",\n",
    "      \"미성년자 : {:3.2f}%\".format(an['미성년자']*100),\n",
    "      \"청년 : {:3.2f}%\".format(an['청년']*100),\n",
    "      \"중년 : {:3.2f}%\".format(an['중년']*100),\n",
    "      \"장년 : {:3.2f}%\".format(an['장년']*100),\n",
    "      \"노년 : {:3.2f}%\".format(an['노년']*100))"
   ]
  },
  {
   "cell_type": "code",
   "execution_count": 116,
   "id": "4fe93f81",
   "metadata": {},
   "outputs": [],
   "source": []
  }
 ],
 "metadata": {
  "kernelspec": {
   "display_name": "Python 3 (ipykernel)",
   "language": "python",
   "name": "python3"
  },
  "language_info": {
   "codemirror_mode": {
    "name": "ipython",
    "version": 3
   },
   "file_extension": ".py",
   "mimetype": "text/x-python",
   "name": "python",
   "nbconvert_exporter": "python",
   "pygments_lexer": "ipython3",
   "version": "3.9.12"
  }
 },
 "nbformat": 4,
 "nbformat_minor": 5
}
