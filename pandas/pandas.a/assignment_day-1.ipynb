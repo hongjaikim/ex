{
 "cells": [
  {
   "cell_type": "code",
   "execution_count": 8,
   "id": "3793e94a",
   "metadata": {},
   "outputs": [
    {
     "name": "stdout",
     "output_type": "stream",
     "text": [
      "      mpg  weight\n",
      "0    18.0    3504\n",
      "1    15.0    3693\n",
      "2    18.0    3436\n",
      "3    16.0    3433\n",
      "4    17.0    3449\n",
      "..    ...     ...\n",
      "393  27.0    2790\n",
      "394  44.0    2130\n",
      "395  32.0    2295\n",
      "396  28.0    2625\n",
      "397  31.0    2720\n",
      "\n",
      "[398 rows x 2 columns]\n",
      "       mpg  weight\n",
      "0    118.0    3604\n",
      "1    115.0    3793\n",
      "2    118.0    3536\n",
      "3    116.0    3533\n",
      "4    117.0    3549\n",
      "..     ...     ...\n",
      "393  127.0    2890\n",
      "394  144.0    2230\n",
      "395  132.0    2395\n",
      "396  128.0    2725\n",
      "397  131.0    2820\n",
      "\n",
      "[398 rows x 2 columns]\n",
      "    mpg  weight\n",
      "0  18.0    3504\n",
      "1  15.0    3693\n",
      "2  18.0    3436\n",
      "3  16.0    3433\n",
      "4  17.0    3449\n",
      "5  15.0    4341\n",
      "6  14.0    4354\n",
      "7  14.0    4312\n",
      "8  14.0    4425\n",
      "9  15.0    3850\n",
      "     mpg  weight\n",
      "0   18.0    3504\n",
      "1   15.0    3693\n",
      "2   18.0    3436\n",
      "3   16.0    3433\n",
      "4   17.0    3449\n",
      "..   ...     ...\n",
      "95  12.0    4951\n",
      "96  13.0    3821\n",
      "97  18.0    3121\n",
      "98  16.0    3278\n",
      "99  18.0    2945\n",
      "\n",
      "[100 rows x 2 columns]\n"
     ]
    }
   ],
   "source": [
    "# mpg데이터셋을 로드해서 \n",
    "# 1. mpg, weight 컬럼을 추출해서 데이터프레임으로 생성 한 후\n",
    "# 2. 각 원소에 100을 더한 값을 출력\n",
    "# 3. 데이터프레임을 처음 10개의 정보만 출력\n",
    "# 4. 처음부터 100개의 행만 추출하여 mpg_sample 데이터프레임 생성\n",
    "import pandas as pd\n",
    "\n",
    "import seaborn as sns\n",
    "\n",
    "mpg = sns.load_dataset('mpg')\n",
    "df = mpg[['mpg','weight']]\n",
    "print(df)\n",
    "df_s = df + 100\n",
    "print(df_s)\n",
    "print(df.head(10))\n",
    "df_idx = df.head(100)\n",
    "print(df_idx)"
   ]
  }
 ],
 "metadata": {
  "kernelspec": {
   "display_name": "Python 3 (ipykernel)",
   "language": "python",
   "name": "python3"
  },
  "language_info": {
   "codemirror_mode": {
    "name": "ipython",
    "version": 3
   },
   "file_extension": ".py",
   "mimetype": "text/x-python",
   "name": "python",
   "nbconvert_exporter": "python",
   "pygments_lexer": "ipython3",
   "version": "3.9.12"
  }
 },
 "nbformat": 4,
 "nbformat_minor": 5
}
