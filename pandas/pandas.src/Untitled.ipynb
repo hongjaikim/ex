{
 "cells": [
  {
   "cell_type": "code",
   "execution_count": 92,
   "id": "c21bc015",
   "metadata": {},
   "outputs": [
    {
     "name": "stdout",
     "output_type": "stream",
     "text": [
      "3\n",
      "29\n",
      "38\n",
      "12\n",
      "57\n",
      "74\n",
      "40\n",
      "85\n",
      "61\n",
      "85\n",
      "8\n"
     ]
    }
   ],
   "source": [
    "a = []\n",
    "for i in range(9):\n",
    "    a.append(input())\n",
    "max_ = int(a[0])\n",
    "\n",
    "for i in range(9):\n",
    "    if int(a[i]) > max_:\n",
    "        max_ = int(a[i])\n",
    "        b=i+1\n",
    "print(max_)\n",
    "print(b)"
   ]
  },
  {
   "cell_type": "code",
   "execution_count": null,
   "id": "c43b8ff7",
   "metadata": {},
   "outputs": [],
   "source": []
  }
 ],
 "metadata": {
  "kernelspec": {
   "display_name": "Python 3 (ipykernel)",
   "language": "python",
   "name": "python3"
  },
  "language_info": {
   "codemirror_mode": {
    "name": "ipython",
    "version": 3
   },
   "file_extension": ".py",
   "mimetype": "text/x-python",
   "name": "python",
   "nbconvert_exporter": "python",
   "pygments_lexer": "ipython3",
   "version": "3.9.12"
  }
 },
 "nbformat": 4,
 "nbformat_minor": 5
}
