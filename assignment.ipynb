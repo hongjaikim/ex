{
 "cells": [
  {
   "cell_type": "code",
   "execution_count": 11,
   "id": "a5c07d0c",
   "metadata": {},
   "outputs": [],
   "source": [
    "# pg186 1번\n",
    "# 12, 5, \"\"\n",
    "\n",
    "# x = 2\n",
    "# y = 10\n",
    "\n",
    "# if x > 4 :\n",
    "#     if y > 2 :\n",
    "#         print(x*y)\n",
    "# else :\n",
    "#     print(x+y)\n",
    "    \n",
    "# x = 1\n",
    "# y = 4\n",
    "\n",
    "# if x > 4 :\n",
    "#     if y > 2 :\n",
    "#         print(x*y)\n",
    "# else :\n",
    "#     print(x+y)\n",
    "    \n",
    "# x = 10\n",
    "# y = 2\n",
    "\n",
    "# if x > 4 :\n",
    "#     if y > 2 :\n",
    "#         print(x*y)\n",
    "# else :\n",
    "#     print(x+y)"
   ]
  },
  {
   "cell_type": "code",
   "execution_count": 24,
   "id": "150954eb",
   "metadata": {},
   "outputs": [
    {
     "name": "stdout",
     "output_type": "stream",
     "text": [
      "조건에 맞습니다\n"
     ]
    }
   ],
   "source": [
    "# pg 187 2번\n",
    "x = 11\n",
    "if x > 10 and x < 20 :\n",
    "    print(\"조건에 맞습니다\")"
   ]
  },
  {
   "cell_type": "code",
   "execution_count": 25,
   "id": "8d221b2d",
   "metadata": {},
   "outputs": [
    {
     "name": "stdout",
     "output_type": "stream",
     "text": [
      "태어난 해를 입력해 주세요> 1998\n",
      "범 띠입니다.\n"
     ]
    }
   ],
   "source": [
    "# pg 187 3번\n",
    "str_input = input(\"태어난 해를 입력해 주세요> \")\n",
    "birth_year = int(str_input) % 12\n",
    "if birth_year == 0 :\n",
    "    print(\"원숭이 띠입니다.\")\n",
    "elif birth_year == 1 :\n",
    "    print(\"닭 띠입니다.\")\n",
    "elif birth_year == 2 :\n",
    "    print(\"개 띠입니다.\")\n",
    "elif birth_year == 3 :\n",
    "    print(\"돼지 띠입니다.\")\n",
    "elif birth_year == 4 :\n",
    "    print(\"쥐 띠입니다.\")\n",
    "elif birth_year == 5 :\n",
    "    print(\"소 띠입니다.\")\n",
    "elif birth_year == 6 :\n",
    "    print(\"범 띠입니다.\")\n",
    "elif birth_year == 7 :\n",
    "    print(\"토끼 띠입니다.\")\n",
    "elif birth_year == 8 :\n",
    "    print(\"용 띠입니다.\")\n",
    "elif birth_year == 9 :\n",
    "    print(\"뱀 띠입니다.\")\n",
    "elif birth_year == 10 :\n",
    "    print(\"말 띠입니다.\")\n",
    "elif birth_year == 11 :\n",
    "    print(\"양 띠입니다.\")"
   ]
  },
  {
   "cell_type": "code",
   "execution_count": 59,
   "id": "63093f86",
   "metadata": {},
   "outputs": [
    {
     "name": "stdout",
     "output_type": "stream",
     "text": [
      "입력: 지금 몇 시에요?\n",
      "지금은 13시 입니다.\n"
     ]
    }
   ],
   "source": [
    "# pg 188 도전문제 1\n",
    "import datetime\n",
    "now = datetime.datetime.now()\n",
    "\n",
    "str_1 = input(\"입력: \")\n",
    "if str_1 == \"안녕\" or str_1 == \"안녕하세요.\"  :\n",
    "    print('안녕하세요.')\n",
    "elif str_1 == \"지금 몇 시야?\" or  str_1 == \"지금 몇 시에요?\" :\n",
    "    print(f\"지금은 {now.hour}시 입니다.\")\n",
    "else :\n",
    "    print(str_1)"
   ]
  },
  {
   "cell_type": "code",
   "execution_count": 61,
   "id": "ac7caa1d",
   "metadata": {},
   "outputs": [
    {
     "name": "stdout",
     "output_type": "stream",
     "text": [
      "정수를 입력해주세요: 273\n",
      "273은(는) 2로 나누어 떨어지는 숫자가 아닙니다.\n",
      "273은(는) 3로 나누어 떨어지는 숫자입니다.\n",
      "273은(는) 4로 나누어 떨어지는 숫자가 아닙니다.\n",
      "273은(는) 5로 나누어 떨어지는 숫자가 아닙니다.\n"
     ]
    }
   ],
   "source": [
    "# pg 189 도전문제 2\n",
    "num_1 = int(input(\"정수를 입력해주세요: \"))\n",
    "if num_1 % 2 == 0 :\n",
    "    print(f\"{num_1}은(는) 2로 나누어 떨어지는 숫자입니다.\")\n",
    "else : \n",
    "    print(f\"{num_1}은(는) 2로 나누어 떨어지는 숫자가 아닙니다.\")\n",
    "\n",
    "if num_1 % 3 == 0 :\n",
    "    print(f\"{num_1}은(는) 3로 나누어 떨어지는 숫자입니다.\")\n",
    "else : \n",
    "    print(f\"{num_1}은(는) 3로 나누어 떨어지는 숫자가 아닙니다.\")\n",
    "    \n",
    "if num_1 % 4 == 0 :\n",
    "    print(f\"{num_1}은(는) 4로 나누어 떨어지는 숫자입니다.\")\n",
    "else : \n",
    "    print(f\"{num_1}은(는) 4로 나누어 떨어지는 숫자가 아닙니다.\")\n",
    "    \n",
    "if num_1 % 5 == 0 :\n",
    "    print(f\"{num_1}은(는) 5로 나누어 떨어지는 숫자입니다.\")\n",
    "else : \n",
    "    print(f\"{num_1}은(는) 5로 나누어 떨어지는 숫자가 아닙니다.\")\n",
    "    \n",
    "\n"
   ]
  },
  {
   "cell_type": "code",
   "execution_count": 93,
   "id": "abbdd282",
   "metadata": {},
   "outputs": [
    {
     "name": "stdout",
     "output_type": "stream",
     "text": [
      "정수를 입력하세요: 123215413253\n",
      "123215413253은(는) 3으로 나누어 떨어지는 숫자입니다.\n",
      "123215413253은(는) 4로 나누어 떨어지는 숫자가 아닙니다.\n",
      "123215413253은(는) 5로 나누어 떨어지는 숫자가 아닙니다.\n",
      "123215413253은(는) 6으로 나누어 떨어지는 숫자가 아닙니다.\n",
      "123215413253은(는) 9로 나누어 떨어지는 숫자가 아닙니다.\n",
      "123215413253은(는) 10으로 나누어 떨어지는 숫자가 아닙니다.\n"
     ]
    }
   ],
   "source": [
    "# pg189 추가문제(pg169)\n",
    "num = input(\"정수를 입력하세요: \")\n",
    "numl = len(num)\n",
    "\n",
    "# 3의 배수\n",
    "a=[]\n",
    "for i in str(num):\n",
    "    a.append(i)\n",
    "    \n",
    "cnt=0\n",
    "\n",
    "for b in a:\n",
    "    num_3 += int(a[cnt])\n",
    "    cnt += 1\n",
    "\n",
    "if num_3 % 3 == 0:\n",
    "    print(f\"{num}은(는) 3으로 나누어 떨어지는 숫자입니다.\")\n",
    "else:\n",
    "    print(f\"{num}은(는) 3으로 나누어 떨어지는 숫자가 아닙니다.\")\n",
    "    \n",
    "\n",
    "# 4의 배수\n",
    "if int(num[-2:]) % 4 == 0 :\n",
    "    print(f\"{num}은(는) 4로 나누어 떨어지는 숫자입니다.\")\n",
    "else :\n",
    "    print(f\"{num}은(는) 4로 나누어 떨어지는 숫자가 아닙니다.\")\n",
    "\n",
    "# 5의 배수\n",
    "if num[-1] in \"05\" :\n",
    "    print(f\"{num}은(는) 5로 나누어 떨어지는 숫자입니다.\")\n",
    "else :\n",
    "    print(f\"{num}은(는) 5로 나누어 떨어지는 숫자가 아닙니다.\")\n",
    "# 6의 배수\n",
    "\n",
    "a=[]\n",
    "for i in str(num):\n",
    "    a.append(i)\n",
    "    \n",
    "cnt=0\n",
    "\n",
    "for b in a:\n",
    "    num_3 += int(a[cnt])\n",
    "    cnt += 1\n",
    "\n",
    "if num_3 % 3 == 0 and num_3 % 2 ==0 :\n",
    "    print(f\"{num}은(는) 6으로 나누어 떨어지는 숫자입니다.\")\n",
    "else:\n",
    "    print(f\"{num}은(는) 6으로 나누어 떨어지는 숫자가 아닙니다.\")\n",
    "    \n",
    "\n",
    "# 9의 배수\n",
    "a=[]\n",
    "for i in str(num):\n",
    "    a.append(i)\n",
    "    \n",
    "cnt=0\n",
    "\n",
    "for b in a:\n",
    "    num_3 += int(a[cnt])\n",
    "    cnt += 1\n",
    "\n",
    "if num_3 % 9 == 0:\n",
    "    print(f\"{num}은(는) 9로 나누어 떨어지는 숫자입니다.\")\n",
    "else:\n",
    "    print(f\"{num}은(는) 9로 나누어 떨어지는 숫자가 아닙니다.\")\n",
    "    \n",
    "\n",
    "# 10의 배수\n",
    "if num[-1] == \"0\" :\n",
    "    print(f\"{num}은(는) 10으로 나누어 떨어지는 숫자입니다.\")\n",
    "else :\n",
    "    print(f\"{num}은(는) 10으로 나누어 떨어지는 숫자가 아닙니다.\")\n",
    "\n"
   ]
  },
  {
   "cell_type": "code",
   "execution_count": null,
   "id": "4e37a2d2",
   "metadata": {},
   "outputs": [],
   "source": []
  },
  {
   "cell_type": "code",
   "execution_count": null,
   "id": "092e95fb",
   "metadata": {},
   "outputs": [],
   "source": []
  },
  {
   "cell_type": "code",
   "execution_count": null,
   "id": "a4abd263",
   "metadata": {},
   "outputs": [],
   "source": []
  },
  {
   "cell_type": "code",
   "execution_count": null,
   "id": "6296b9ba",
   "metadata": {},
   "outputs": [],
   "source": []
  },
  {
   "cell_type": "code",
   "execution_count": null,
   "id": "268b47ba",
   "metadata": {},
   "outputs": [],
   "source": []
  }
 ],
 "metadata": {
  "kernelspec": {
   "display_name": "Python 3 (ipykernel)",
   "language": "python",
   "name": "python3"
  },
  "language_info": {
   "codemirror_mode": {
    "name": "ipython",
    "version": 3
   },
   "file_extension": ".py",
   "mimetype": "text/x-python",
   "name": "python",
   "nbconvert_exporter": "python",
   "pygments_lexer": "ipython3",
   "version": "3.9.12"
  }
 },
 "nbformat": 4,
 "nbformat_minor": 5
}
