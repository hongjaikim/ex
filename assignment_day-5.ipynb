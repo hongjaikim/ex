{
 "cells": [
  {
   "cell_type": "code",
   "execution_count": null,
   "id": "fb13e1a5",
   "metadata": {},
   "outputs": [],
   "source": [
    "# 1 학생의 이름과 점수(국어, 영어, 수학 )를 입력 받아 저장한 후\n",
    "# 2 저장된 자료의 이름과 각 학생의 성적, 총점, 평균을 구하세요 평균 소수점 2자리\n",
    "# 3 가장 성적이 좋은 학생의 이름과 총점을 출력\n",
    "# 4 가장 성적이 좋은 학생의 이름과 총점을 출력\n",
    "# 5 전체 학생의 인원수와 전체 평균을 구하세요\n",
    "# 조건: class 사용, 모든 문제는 함수로 구현"
   ]
  },
  {
   "cell_type": "code",
   "execution_count": 37,
   "id": "d06c7a67",
   "metadata": {},
   "outputs": [],
   "source": [
    "class Student:\n",
    "    def __init__(self,name,ko,en,ma):\n",
    "        self.name = name\n",
    "        self.ko = ko\n",
    "        self.en = en\n",
    "        self.ma = ma\n",
    "    def t_sum(self):\n",
    "        return int(self.ko) + int(self.en) + int(self.ma)\n",
    "    def t_avg(self):\n",
    "        return self.t_sum() / 3\n",
    "    def t_str(self):\n",
    "        return \"{}\\t{}\\t{}\\t{}\\t{}\\t{:3.2f}\".format(self.name,self.ko,self.en,self.ma,self.t_sum(),self.t_avg())\n",
    "    def in_f(self):\n",
    "        \n",
    "        while True:\n",
    "            name = input(\"이름을 입력하세요: \")\n",
    "            if name == 'q':\n",
    "                print(\"종료!\")\n",
    "                break\n",
    "            g_ko = input(\"국어 성적을 입력하세요: \")\n",
    "            g_en = input(\"영어 성적을 입력하세요: \")\n",
    "            g_ma = input(\"수학 성적을 입력하세요: \")\n",
    "\n",
    "            while True:\n",
    "                if not g_ko.isnumeric() or not g_en.isnumeric() or not g_ma.isnumeric() :\n",
    "                    g_ko = input(\"국어 성적을 다시 입력하세요: \")\n",
    "                    g_en = input(\"영어 성적을 다시 입력하세요: \")\n",
    "                    g_ma = input(\"수학 성적을 다시 입력하세요: \")\n",
    "                    continue\n",
    "                else:\n",
    "                    break\n",
    "\n",
    "            students.append(Student(name,g_ko,g_en,g_ma)) \n",
    "    def pr_f(self):\n",
    "        print(\"이름\",'국어','영어','수학','총점','평균',sep='\\t')\n",
    "        for student in students:\n",
    "            print(student.t_str())\n",
    "\n",
    "    def __gt__(self,value):\n",
    "        return self.t_sum > self.t_sum\n",
    "    \n",
    "    def max_p(self):\n",
    "        ms = students[0]\n",
    "        for student in students:\n",
    "            if ms < student:\n",
    "                ms = student\n",
    "       \n",
    "        "
   ]
  },
  {
   "cell_type": "code",
   "execution_count": 38,
   "id": "ffb91636",
   "metadata": {
    "scrolled": true
   },
   "outputs": [
    {
     "name": "stdout",
     "output_type": "stream",
     "text": [
      "이름을 입력하세요: qq\n",
      "국어 성적을 입력하세요: 12\n",
      "영어 성적을 입력하세요: 23\n",
      "수학 성적을 입력하세요: 34\n",
      "이름을 입력하세요: ww\n",
      "국어 성적을 입력하세요: 23\n",
      "영어 성적을 입력하세요: 34\n",
      "수학 성적을 입력하세요: 45\n",
      "이름을 입력하세요: q\n",
      "종료!\n",
      "이름\t국어\t영어\t수학\t총점\t평균\n",
      "qq\t12\t23\t34\t69\t23.00\n",
      "ww\t23\t34\t45\t102\t34.00\n"
     ]
    },
    {
     "ename": "TypeError",
     "evalue": "'>' not supported between instances of 'method' and 'method'",
     "output_type": "error",
     "traceback": [
      "\u001b[1;31m---------------------------------------------------------------------------\u001b[0m",
      "\u001b[1;31mTypeError\u001b[0m                                 Traceback (most recent call last)",
      "Input \u001b[1;32mIn [38]\u001b[0m, in \u001b[0;36m<cell line: 4>\u001b[1;34m()\u001b[0m\n\u001b[0;32m      2\u001b[0m Student\u001b[38;5;241m.\u001b[39min_f(students)\n\u001b[0;32m      3\u001b[0m Student\u001b[38;5;241m.\u001b[39mpr_f(students)\n\u001b[1;32m----> 4\u001b[0m \u001b[43mStudent\u001b[49m\u001b[38;5;241;43m.\u001b[39;49m\u001b[43mmax_p\u001b[49m\u001b[43m(\u001b[49m\u001b[43mstudents\u001b[49m\u001b[43m)\u001b[49m\n",
      "Input \u001b[1;32mIn [37]\u001b[0m, in \u001b[0;36mStudent.max_p\u001b[1;34m(self)\u001b[0m\n\u001b[0;32m     43\u001b[0m ms \u001b[38;5;241m=\u001b[39m students[\u001b[38;5;241m0\u001b[39m]\n\u001b[0;32m     44\u001b[0m \u001b[38;5;28;01mfor\u001b[39;00m student \u001b[38;5;129;01min\u001b[39;00m students:\n\u001b[1;32m---> 45\u001b[0m     \u001b[38;5;28;01mif\u001b[39;00m \u001b[43mms\u001b[49m\u001b[43m \u001b[49m\u001b[38;5;241;43m<\u001b[39;49m\u001b[43m \u001b[49m\u001b[43mstudent\u001b[49m:\n\u001b[0;32m     46\u001b[0m         ms \u001b[38;5;241m=\u001b[39m student\n",
      "Input \u001b[1;32mIn [37]\u001b[0m, in \u001b[0;36mStudent.__gt__\u001b[1;34m(self, value)\u001b[0m\n\u001b[0;32m     39\u001b[0m \u001b[38;5;28;01mdef\u001b[39;00m \u001b[38;5;21m__gt__\u001b[39m(\u001b[38;5;28mself\u001b[39m,value):\n\u001b[1;32m---> 40\u001b[0m     \u001b[38;5;28;01mreturn\u001b[39;00m \u001b[38;5;28;43mself\u001b[39;49m\u001b[38;5;241;43m.\u001b[39;49m\u001b[43mt_sum\u001b[49m\u001b[43m \u001b[49m\u001b[38;5;241;43m>\u001b[39;49m\u001b[43m \u001b[49m\u001b[38;5;28;43mself\u001b[39;49m\u001b[38;5;241;43m.\u001b[39;49m\u001b[43mt_sum\u001b[49m\n",
      "\u001b[1;31mTypeError\u001b[0m: '>' not supported between instances of 'method' and 'method'"
     ]
    }
   ],
   "source": [
    "students = []\n",
    "Student.in_f(students)\n",
    "Student.pr_f(students)\n",
    "Student.max_p(students)\n",
    "\n",
    "    \n",
    "    \n",
    "    \n",
    "    \n",
    "    \n",
    "        "
   ]
  },
  {
   "cell_type": "code",
   "execution_count": null,
   "id": "6fc86e82",
   "metadata": {},
   "outputs": [],
   "source": []
  }
 ],
 "metadata": {
  "kernelspec": {
   "display_name": "Python 3 (ipykernel)",
   "language": "python",
   "name": "python3"
  },
  "language_info": {
   "codemirror_mode": {
    "name": "ipython",
    "version": 3
   },
   "file_extension": ".py",
   "mimetype": "text/x-python",
   "name": "python",
   "nbconvert_exporter": "python",
   "pygments_lexer": "ipython3",
   "version": "3.9.12"
  }
 },
 "nbformat": 4,
 "nbformat_minor": 5
}
