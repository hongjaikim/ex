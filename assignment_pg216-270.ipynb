{
 "cells": [
  {
   "cell_type": "code",
   "execution_count": 10,
   "id": "a19fda83",
   "metadata": {},
   "outputs": [
    {
     "name": "stdout",
     "output_type": "stream",
     "text": [
      "{}\n",
      "{'name': '구름'}\n",
      "{}\n"
     ]
    }
   ],
   "source": [
    "# pg 227 확인문제1\n",
    "dict_a = {}\n",
    "print(dict_a)\n",
    "dict_a['name'] = '구름'\n",
    "print(dict_a)\n",
    "del dict_a['name']\n",
    "print(dict_a)"
   ]
  },
  {
   "cell_type": "code",
   "execution_count": 18,
   "id": "e90c4ad4",
   "metadata": {},
   "outputs": [
    {
     "name": "stdout",
     "output_type": "stream",
     "text": [
      "# 우리 동네 애완 동물들\n",
      "구름 5살\n",
      "초코 3살\n",
      "아지 1살\n",
      "호랑이 1살\n"
     ]
    }
   ],
   "source": [
    "# pg 227 확인문제2\n",
    "pets = [\n",
    "    {\"name\" : \"구름\", 'age': 5},\n",
    "    {\"name\" : \"초코\", 'age': 3},\n",
    "    {\"name\" : \"아지\", 'age': 1},\n",
    "    {\"name\" : \"호랑이\", 'age': 1}\n",
    "]\n",
    "\n",
    "print(\"# 우리 동네 애완 동물들\")\n",
    "for i in range(0,4):\n",
    "    print(f\"{pets[i]['name']} {pets[i]['age']}살\")\n",
    "\n"
   ]
  },
  {
   "cell_type": "code",
   "execution_count": 35,
   "id": "cb3eca7f",
   "metadata": {},
   "outputs": [
    {
     "name": "stdout",
     "output_type": "stream",
     "text": [
      "{1: 3, 2: 4, 6: 1, 8: 2, 4: 3, 3: 3, 9: 3, 5: 2, 7: 2}\n"
     ]
    }
   ],
   "source": [
    "# pg 228 확인문제3\n",
    "numbers = [1,2,6,8,4,3,2,1,9,5,4,9,7,2,1,3,5,4,8,9,7,2,3]\n",
    "counter = {}\n",
    "\n",
    "for number in numbers:\n",
    "    if number in counter:\n",
    "        counter[number] += 1\n",
    "    else:\n",
    "        counter[number] = 1\n",
    "\n",
    "print(counter)\n",
    "\n",
    "\n"
   ]
  },
  {
   "cell_type": "code",
   "execution_count": 15,
   "id": "da9b91d7",
   "metadata": {},
   "outputs": [
    {
     "name": "stdout",
     "output_type": "stream",
     "text": [
      "name : 기사\n",
      "lever : 12\n",
      "sword : 불꽃의 검\n",
      "armer : 풀플레이트\n",
      "skill : 베기\n",
      "skill : 세게 베기\n",
      "skill : 아주 세게 베기\n"
     ]
    }
   ],
   "source": [
    "# pg 229 확인문제4\n",
    "character = {\n",
    "    \"name\": \"기사\",\n",
    "    \"lever\": 12,\n",
    "    \"items\": {\n",
    "        \"sword\": \"불꽃의 검\",\n",
    "        \"armer\": \"풀플레이트\"\n",
    "    },\n",
    "    \"skill\": [\"베기\", '세게 베기', '아주 세게 베기']\n",
    "}\n",
    "\n",
    "for key in character:\n",
    "    \n",
    "    if  type(character[key]) is dict :\n",
    "        for key2,value in character[key].items() :\n",
    "            print(f\"{key2} : {value}\")\n",
    "    elif type(character[key]) is list :\n",
    "        for i in range(0,3) :\n",
    "            print(f\"{key} : {character[key][i]}\")\n",
    "    else:\n",
    "        print(f\"{key} : {character[key]}\")\n",
    "    \n"
   ]
  },
  {
   "cell_type": "code",
   "execution_count": 27,
   "id": "471f684f",
   "metadata": {},
   "outputs": [
    {
     "data": {
      "text/plain": [
       "[3, 6, 9]"
      ]
     },
     "execution_count": 27,
     "metadata": {},
     "output_type": "execute_result"
    }
   ],
   "source": [
    "# pg 247 확인문제1번\n",
    "# [4,5]\n",
    "# [7,6,5,4,3,2,1]\n",
    "#range(3,10,3)\n"
   ]
  },
  {
   "cell_type": "code",
   "execution_count": 28,
   "id": "4b6ba86d",
   "metadata": {},
   "outputs": [
    {
     "name": "stdout",
     "output_type": "stream",
     "text": [
      "{'name': '기사', 'hp': 200, 'mp': 30, 'level': 5}\n"
     ]
    }
   ],
   "source": [
    "#pg 248 확인문제 2번\n",
    "key_list = [\"name\", \"hp\", \"mp\", \"level\"]\n",
    "value_list = [\"기사\", 200, 30, 5]\n",
    "character = {}\n",
    "\n",
    "for i in range(4):\n",
    "    character[key_list[i]] = value_list[i]\n",
    "\n",
    "print(character)"
   ]
  },
  {
   "cell_type": "code",
   "execution_count": 34,
   "id": "81b61d98",
   "metadata": {},
   "outputs": [
    {
     "name": "stdout",
     "output_type": "stream",
     "text": [
      "45을 더할 때 1000을 넘으며 그 때의 값은 1035입니다.\n"
     ]
    }
   ],
   "source": [
    "# pg 248 확인문제 3번\n",
    "limit = 1000\n",
    "i = 1\n",
    "\n",
    "sum_value = 0\n",
    "while True:\n",
    "    if sum_value < 1000:\n",
    "        sum_value += i\n",
    "        i += 1\n",
    "    else:\n",
    "        break\n",
    "print(f\"{i-1}을 더할 때 {limit}을 넘으며 그 때의 값은 {sum_value}입니다.\")"
   ]
  },
  {
   "cell_type": "code",
   "execution_count": 35,
   "id": "f0b1dadb",
   "metadata": {},
   "outputs": [
    {
     "name": "stdout",
     "output_type": "stream",
     "text": [
      "최대가 되는 경우: 50 * 50 = 2500\n"
     ]
    }
   ],
   "source": [
    "# pg 249 확인문제 4번\n",
    "\n",
    "max_value = 0\n",
    "a = 0\n",
    "b = 0\n",
    "\n",
    "for i in range(1,100):\n",
    "    j = 100 - i\n",
    "    \n",
    "    if i * j > max_value:\n",
    "        max_value = i * j\n",
    "        a = i\n",
    "        b = j\n",
    "\n",
    "print(\"최대가 되는 경우: {} * {} = {}\".format(a,b,max_value))\n"
   ]
  },
  {
   "cell_type": "code",
   "execution_count": 52,
   "id": "1f81c586",
   "metadata": {},
   "outputs": [
    {
     "name": "stdout",
     "output_type": "stream",
     "text": [
      "2 : 10\n",
      "5 : 101\n",
      "6 : 110\n",
      "11 : 1011\n",
      "13 : 1101\n",
      "14 : 1110\n",
      "23 : 10111\n",
      "27 : 11011\n",
      "29 : 11101\n",
      "30 : 11110\n",
      "47 : 101111\n",
      "55 : 110111\n",
      "59 : 111011\n",
      "61 : 111101\n",
      "62 : 111110\n",
      "95 : 1011111\n",
      "합계: 539\n"
     ]
    }
   ],
   "source": [
    "# pg 266 확인문제 1번\n",
    "# 2,3\n",
    "# 확인문제 2번\n",
    "output = [i for i in range(1,101) if \"{:b}\".format(i).count(\"0\") == 1]\n",
    "\n",
    "for i in output:\n",
    "    print(\"{} : {}\".format(i, \"{:b}\".format(i)))\n",
    "print(\"합계:\", sum(output))\n"
   ]
  },
  {
   "cell_type": "code",
   "execution_count": 64,
   "id": "5990a7b3",
   "metadata": {},
   "outputs": [
    {
     "name": "stdout",
     "output_type": "stream",
     "text": [
      "[1, 2, 3, 4, 1, 2, 3, 1, 4, 1, 2, 3]에서\n",
      "사용된 숫자의 종류는 4개입니다.\n",
      "참고: {1: 4, 2: 3, 3: 3, 4: 2}\n"
     ]
    }
   ],
   "source": [
    "#pg 268 도전문제1번\n",
    "lst = [1,2,3,4,1,2,3,1,4,1,2,3]\n",
    "dic = {}\n",
    "\n",
    "for i in lst:\n",
    "    if i in dic:\n",
    "        dic[i] += 1\n",
    "    else:\n",
    "        dic[i] = 1\n",
    "print(f\"{lst}에서\", f\"사용된 숫자의 종류는 {len(dic)}개입니다.\", \\\n",
    "      f\"참고: {dic}\",sep = '\\n')\n",
    "\n",
    "\n",
    "\n"
   ]
  },
  {
   "cell_type": "code",
   "execution_count": 11,
   "id": "37ac415e",
   "metadata": {},
   "outputs": [
    {
     "name": "stdout",
     "output_type": "stream",
     "text": [
      "염기 서열을 입력해주세요: ctacaatgtcagtatacccattgcattagccgg\n",
      "a의 개수: 9\n",
      "t의 개수: 9\n",
      "g의 개수: 6\n",
      "c의 개수: 9\n"
     ]
    }
   ],
   "source": [
    "#pg 268 도전문제 2번\n",
    "input_lst = list(input(\"염기 서열을 입력해주세요: \"))\n",
    "dic = {'a':0,'t':0,'g':0,'c':0}\n",
    "for i in input_lst:\n",
    "    if i in dic:\n",
    "        dic[i] += 1\n",
    "\n",
    "\n",
    "for i in dic.keys():\n",
    "    print(f\"{i}의 개수: {dic[i]}\")\n",
    "\n"
   ]
  },
  {
   "cell_type": "code",
   "execution_count": 22,
   "id": "8d480f1d",
   "metadata": {},
   "outputs": [
    {
     "name": "stdout",
     "output_type": "stream",
     "text": [
      "염기 서열을 입력해주세요: ctactacaatgtcagtatacccattgcattagccgg\n",
      "{'cta': 2, 'caa': 1, 'tgt': 1, 'cag': 1, 'tat': 1, 'acc': 1, 'cat': 1, 'tgc': 1, 'att': 1, 'agc': 1}\n"
     ]
    }
   ],
   "source": [
    "# pg 269 도전문제 3번\n",
    "\n",
    "input_lst = list(input(\"염기 서열을 입력해주세요: \"))\n",
    "dic = {}\n",
    "asd = \"\"\n",
    "for i in input_lst:\n",
    "    if len(asd) < 3:\n",
    "        asd += i\n",
    "    else:\n",
    "        if asd in dic:\n",
    "            dic[asd] += 1\n",
    "        else:\n",
    "            dic[asd] = 1\n",
    "        asd = \"\"\n",
    "        asd += i\n",
    "        \n",
    "    \n",
    "\n",
    "print(dic)\n",
    "\n",
    "\n",
    "\n"
   ]
  },
  {
   "cell_type": "code",
   "execution_count": 48,
   "id": "ab7429f2",
   "metadata": {},
   "outputs": [
    {
     "name": "stdout",
     "output_type": "stream",
     "text": [
      "[1, 2, [3, 4], 5, [6, 7], [8, 9]]를 평탄화하면\n",
      "[1, 2, 3, 4, 5, 6, 7, 8, 9]입니다.\n"
     ]
    }
   ],
   "source": [
    "# pg 270 도전문제 4번\n",
    "\n",
    "input_lst = [1,2,[3,4],5,[6,7],[8,9]]\n",
    "\n",
    "lst = []\n",
    "\n",
    "\n",
    "for i in input_lst:\n",
    "    if type(i) == list:\n",
    "        for a in i:\n",
    "            lst.append(a)\n",
    "    else:\n",
    "        lst.append(i)\n",
    "   \n",
    "        \n",
    "print(f\"{input_lst}를 평탄화하면\",f\"{lst}입니다.\",sep='\\n')\n",
    "\n",
    "\n"
   ]
  },
  {
   "cell_type": "code",
   "execution_count": null,
   "id": "5f028c21",
   "metadata": {},
   "outputs": [],
   "source": []
  },
  {
   "cell_type": "code",
   "execution_count": null,
   "id": "6399ed1c",
   "metadata": {},
   "outputs": [],
   "source": [
    "[1,2,[3,4],5,[6,7],[8,9]]"
   ]
  }
 ],
 "metadata": {
  "kernelspec": {
   "display_name": "Python 3 (ipykernel)",
   "language": "python",
   "name": "python3"
  },
  "language_info": {
   "codemirror_mode": {
    "name": "ipython",
    "version": 3
   },
   "file_extension": ".py",
   "mimetype": "text/x-python",
   "name": "python",
   "nbconvert_exporter": "python",
   "pygments_lexer": "ipython3",
   "version": "3.9.12"
  }
 },
 "nbformat": 4,
 "nbformat_minor": 5
}
