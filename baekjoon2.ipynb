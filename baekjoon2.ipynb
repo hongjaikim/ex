{
 "cells": [
  {
   "cell_type": "code",
   "execution_count": 12,
   "id": "7778c6a0",
   "metadata": {},
   "outputs": [
    {
     "name": "stdout",
     "output_type": "stream",
     "text": [
      "3\n",
      "0\n"
     ]
    }
   ],
   "source": [
    "n = int(input())\n",
    "b=0\n",
    "for i in range(1,n):\n",
    "    i_ = sum(map(int,list(str(i))))+i\n",
    "    if i_ == n:\n",
    "        print(i)\n",
    "        b=1\n",
    "        break\n",
    "if b!=1:\n",
    "    print(0)"
   ]
  },
  {
   "cell_type": "code",
   "execution_count": 6,
   "id": "e55871f4",
   "metadata": {},
   "outputs": [
    {
     "data": {
      "text/plain": [
       "216"
      ]
     },
     "execution_count": 6,
     "metadata": {},
     "output_type": "execute_result"
    }
   ],
   "source": [
    "sum(map(int,list(str(198))))+198\n"
   ]
  },
  {
   "cell_type": "code",
   "execution_count": null,
   "id": "6ebc0329",
   "metadata": {},
   "outputs": [],
   "source": []
  }
 ],
 "metadata": {
  "kernelspec": {
   "display_name": "Python 3 (ipykernel)",
   "language": "python",
   "name": "python3"
  },
  "language_info": {
   "codemirror_mode": {
    "name": "ipython",
    "version": 3
   },
   "file_extension": ".py",
   "mimetype": "text/x-python",
   "name": "python",
   "nbconvert_exporter": "python",
   "pygments_lexer": "ipython3",
   "version": "3.9.12"
  }
 },
 "nbformat": 4,
 "nbformat_minor": 5
}
