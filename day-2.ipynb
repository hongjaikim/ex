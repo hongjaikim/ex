{
 "cells": [
  {
   "cell_type": "code",
   "execution_count": 1,
   "id": "654cbc25",
   "metadata": {},
   "outputs": [
    {
     "name": "stdout",
     "output_type": "stream",
     "text": [
      "HELLO PYTHON PROGRAMING ~!\n",
      "hello python programing ~!\n"
     ]
    }
   ],
   "source": [
    "# 문자열 관련 함수 : 문자열오브젝트.upper(), 오브젝트.lower()\n",
    "asd = 'Hello Python Programing ~!'\n",
    "print(asd.upper())\n",
    "print(asd.lower())\n"
   ]
  },
  {
   "cell_type": "code",
   "execution_count": 5,
   "id": "cd15c740",
   "metadata": {},
   "outputs": [
    {
     "name": "stdout",
     "output_type": "stream",
     "text": [
      "strip() -> /Hello Python Programing ~!/\n",
      "rstrip() -> /    Hello Python Programing ~!/\n",
      "lstrip() -> /Hello Python Programing ~!     /\n"
     ]
    }
   ],
   "source": [
    "#문자열의 공백 제거 : 문자열.strip() 양쪽의 공백 제거\n",
    "# 문자열.lstrip(), 문자열.rstrip() 한쪽의 공백 제거\n",
    "asd1 = '    Hello Python Programing ~!     '\n",
    "print(\"strip() -> /{}/\".format(asd1.strip()))\n",
    "print(\"rstrip() -> /{}/\".format(asd1.rstrip()))\n",
    "print(\"lstrip() -> /{}/\".format(asd1.lstrip()))"
   ]
  },
  {
   "cell_type": "code",
   "execution_count": null,
   "id": "03f4d132",
   "metadata": {},
   "outputs": [],
   "source": [
    "# 문자열 구성 파악 is--() pg143"
   ]
  },
  {
   "cell_type": "code",
   "execution_count": 45,
   "id": "e664ce0f",
   "metadata": {},
   "outputs": [
    {
     "name": "stdout",
     "output_type": "stream",
     "text": [
      "Python\n"
     ]
    }
   ],
   "source": [
    "#문자열 찾기 .find(), .rfind() 위치 반환\n",
    "# find(문자열,시작위치,끝위치)\n",
    "asd = 'Hello Python Programing~!'\n",
    "# python만 출력\n",
    "print(asd[asd.find(\" \")+1:asd.rfind(\" \")])\n",
    "\n"
   ]
  },
  {
   "cell_type": "code",
   "execution_count": 51,
   "id": "8727fdda",
   "metadata": {},
   "outputs": [
    {
     "name": "stdout",
     "output_type": "stream",
     "text": [
      "True\n",
      "False\n"
     ]
    }
   ],
   "source": [
    "asd = \"hello hello python\"\n",
    "# 문자가 해당 문자열에 있는지 확인 : 문자 in 문자열\n",
    "print('hello' in asd)\n",
    "print('a' in asd)\n",
    "\n"
   ]
  },
  {
   "cell_type": "code",
   "execution_count": 256,
   "id": "f509f8b4",
   "metadata": {},
   "outputs": [
    {
     "data": {
      "text/plain": [
       "['hello', 'hello', 'python']"
      ]
     },
     "execution_count": 256,
     "metadata": {},
     "output_type": "execute_result"
    }
   ],
   "source": [
    "asd = \"hello hello python\"\n",
    "# 문자열.split('분리하고자 하는 문자') 공백은 생략 가능\n",
    "asd.split()"
   ]
  },
  {
   "cell_type": "code",
   "execution_count": 54,
   "id": "c5c6e429",
   "metadata": {},
   "outputs": [
    {
     "name": "stdout",
     "output_type": "stream",
     "text": [
      "['Hello', 'Python', 'Programing~!']\n",
      "Python\n"
     ]
    }
   ],
   "source": [
    "asd = 'Hello Python Programing~!'\n",
    "print(asd.split())\n",
    "print(asd.split()[1])"
   ]
  },
  {
   "cell_type": "code",
   "execution_count": 59,
   "id": "52ab36cd",
   "metadata": {},
   "outputs": [
    {
     "data": {
      "text/plain": [
       "['Hello', 'PYTHON', 'Programing~!']"
      ]
     },
     "execution_count": 59,
     "metadata": {},
     "output_type": "execute_result"
    }
   ],
   "source": [
    "asd = 'Hello Python Programing~!'\n",
    "asd = asd.split()\n",
    "asd[1] = asd[1].upper()\n",
    "asd"
   ]
  },
  {
   "cell_type": "code",
   "execution_count": 61,
   "id": "cad0c9c3",
   "metadata": {},
   "outputs": [
    {
     "data": {
      "text/plain": [
       "'3 + 4 = 7'"
      ]
     },
     "execution_count": 61,
     "metadata": {},
     "output_type": "execute_result"
    }
   ],
   "source": [
    "# 3.6버전 이후 가능 : f'문자열(표현식)문자열'\n",
    "f'3 + 4 = {3+4}'"
   ]
  },
  {
   "cell_type": "markdown",
   "id": "6b4e1ade",
   "metadata": {},
   "source": [
    "## CH 03 조건문"
   ]
  },
  {
   "cell_type": "markdown",
   "id": "8b92a9ca",
   "metadata": {},
   "source": [
    "### 1. 불 자료형과 if조건문"
   ]
  },
  {
   "cell_type": "code",
   "execution_count": 72,
   "id": "a835a12a",
   "metadata": {},
   "outputs": [
    {
     "name": "stdout",
     "output_type": "stream",
     "text": [
      "True\n"
     ]
    }
   ],
   "source": [
    "print('a'<'z'<'가'<'나')\n"
   ]
  },
  {
   "cell_type": "code",
   "execution_count": 77,
   "id": "86483f73",
   "metadata": {},
   "outputs": [
    {
     "name": "stdout",
     "output_type": "stream",
     "text": [
      "True\n"
     ]
    }
   ],
   "source": [
    "# True, False, and, or, nao, ==, !=, >, <, >=, <=\n",
    "if True:\n",
    "    print(\"True\")\n",
    "    \n",
    "if False:\n",
    "    print(\"False\")"
   ]
  },
  {
   "cell_type": "code",
   "execution_count": 83,
   "id": "22d55b1d",
   "metadata": {},
   "outputs": [
    {
     "name": "stdout",
     "output_type": "stream",
     "text": [
      "자료를 입력하세요!!\n",
      "입력 받은 자료는 문자도 숫자도 아닙니다\n"
     ]
    }
   ],
   "source": [
    "# 키보드에서 자료를 입력 받아 숫자이면 '입력 받은 자료는 숫자'\n",
    "# 문자이면 '입력 받은 자료는 문자' 출력\n",
    "asd = input(\"자료를 입력하세요\")\n",
    "if asd.isdigit():\n",
    "    print('입력 받은 자료는 숫자 {}'.format(asd))\n",
    "elif asd.isalpha():\n",
    "    print('입력 받은 자료는 문자 {}'.format(asd))\n",
    "else :\n",
    "    print('입력 받은 자료는 문자도 숫자도 아닙니다')"
   ]
  },
  {
   "cell_type": "code",
   "execution_count": 154,
   "id": "39a2ee53",
   "metadata": {},
   "outputs": [
    {
     "name": "stdout",
     "output_type": "stream",
     "text": [
      "2022년 6월 24시 54분 50초\n"
     ]
    }
   ],
   "source": [
    "# 날짜 / 시간 활용하기\n",
    "# datetime 모듈\n",
    "\n",
    "import datetime\n",
    "\n",
    "now = datetime.datetime.now()\n",
    "print('{}년 {}월 {}시 {}분 {}초'.format(now.year,now.month,now.day,now.minute,now.second))"
   ]
  },
  {
   "cell_type": "code",
   "execution_count": 167,
   "id": "341d0fff",
   "metadata": {},
   "outputs": [
    {
     "name": "stdout",
     "output_type": "stream",
     "text": [
      "정수를 입력하세요 : 123\n",
      "123는(은) 홀수입니다.\n"
     ]
    }
   ],
   "source": [
    "# 정수를 입력 받아 입렫된 숫자가 짝수인지 홀수인지 출력\n",
    "num = int(input(\"정수를 입력하세요 : \"))\n",
    "if num % 2 == 1 :\n",
    "    print(f\"{num}는(은) 홀수입니다.\")\n",
    "\n",
    "else:\n",
    "    print(f\"{num}는(은) 짝수입니다.\")\n"
   ]
  },
  {
   "cell_type": "code",
   "execution_count": 183,
   "id": "da0f6b07",
   "metadata": {},
   "outputs": [
    {
     "name": "stdout",
     "output_type": "stream",
     "text": [
      "자료를 입력하세요 : ½\n",
      "입력하신 문자½의 마지막 문자는 ½입니다\n"
     ]
    }
   ],
   "source": [
    "# 키보드에서 자료를 입력받아 정수이면 짝수인지 확인하고 짝수 출력\n",
    "# 정수가 아니면 마지막 문자 출력\n",
    "\n",
    "asd = input(\"자료를 입력하세요 : \")\n",
    "\n",
    "if asd.isdecimal() :\n",
    "    if int(asd) % 2 == 0 :\n",
    "        print(f\"입력하신 정수 {asd}는 짝수입니다\")\n",
    "    else :\n",
    "        print(f\"입력하신 정수 {asd}는 홀수입니다\")\n",
    "elif asd.isdigit() :\n",
    "    print(f\"입력하신 숫자는 {asd}입니다\")\n",
    "else :\n",
    "    print(f\"입력하신 문자{asd}의 마지막 문자는 {asd[-1]}입니다\")\n",
    "    \n",
    "    \n",
    "# if str.isdecimal():\n",
    "#     if str[-1] in '02468' :\n",
    "#         pass\n",
    "#     else :\n",
    "#        pass    \n",
    "# else:\n",
    "#       pass"
   ]
  },
  {
   "cell_type": "markdown",
   "id": "3b3fe1be",
   "metadata": {},
   "source": [
    "## CH 04 반복문"
   ]
  },
  {
   "cell_type": "markdown",
   "id": "b32c86b0",
   "metadata": {},
   "source": [
    "### 리스트와 반복문"
   ]
  },
  {
   "cell_type": "code",
   "execution_count": 184,
   "id": "73193b3f",
   "metadata": {},
   "outputs": [
    {
     "name": "stdout",
     "output_type": "stream",
     "text": [
      "[12, 'test', True, 345, 'python programing']\n"
     ]
    }
   ],
   "source": [
    "# 리스트 선언하기 : [요소,..]\n",
    "lst = [12, 'test', True, 345, 'python programing']\n",
    "print(lst)"
   ]
  },
  {
   "cell_type": "code",
   "execution_count": 192,
   "id": "86cae607",
   "metadata": {},
   "outputs": [
    {
     "name": "stdout",
     "output_type": "stream",
     "text": [
      "['test', True]\n",
      "[True, 345]\n",
      "python\n",
      "python\n"
     ]
    }
   ],
   "source": [
    "# 리스트의 요소 접근하는 방법 : 리스트[인덱스]\n",
    "lst = [12, 'test', True, 345, 'python programing']\n",
    "print(lst[1:3])\n",
    "print(lst[-3:-1])\n",
    "\n",
    "# python programing의 자료에서 python만 출력\n",
    "print(lst[-1].split()[0])\n",
    "print(lst[-1][:lst[-1].find(\" \")])"
   ]
  },
  {
   "cell_type": "code",
   "execution_count": 207,
   "id": "de71888a",
   "metadata": {},
   "outputs": [
    {
     "data": {
      "text/plain": [
       "'python programing'"
      ]
     },
     "execution_count": 207,
     "metadata": {},
     "output_type": "execute_result"
    }
   ],
   "source": [
    "lst[len(lst)-1]"
   ]
  },
  {
   "cell_type": "code",
   "execution_count": null,
   "id": "027e31bd",
   "metadata": {},
   "outputs": [],
   "source": [
    "# 리스트 연산 +, *, len()"
   ]
  },
  {
   "cell_type": "code",
   "execution_count": 216,
   "id": "69ab397b",
   "metadata": {},
   "outputs": [
    {
     "name": "stdout",
     "output_type": "stream",
     "text": [
      "[1, 2, 3, 4, 5, 6]\n",
      "[1, 2, 3, 'a']\n",
      "[1, 2, 3, 'a', [4, 5, 6]]\n",
      "[1, 'test', 2, 3, 'a', [4, 5, 6]]\n",
      "[4, 5, 6]\n",
      "5\n",
      "[1, 'test', 2, 3, 'a', [4, 5, 6], 4, 5, 6]\n"
     ]
    }
   ],
   "source": [
    "# 리스트 요소 추가 \n",
    "# 리스트명.append(요소) : 뒤에 요소추가\n",
    "# 리스트명.insert(위치, 요소) : 위치에 요소추가\n",
    "# 리스트에 각 요소를 리스트에 추가 : 리스트명.extend(리스트)\n",
    "list_1 = [1,2,3]\n",
    "list_2 = [4,5,6]\n",
    "print(list_1 + list_2)    #기존 자료에 영향 x\n",
    "\n",
    "list_1.append('a')     # 기존 자료에 추가\n",
    "print(list_1)\n",
    "\n",
    "list_1.append(list_2)   # 리스트 통째로 추가\n",
    "print(list_1)\n",
    "\n",
    "list_1.insert(1, 'test')\n",
    "print(list_1)\n",
    "print(list_1[-1])\n",
    "print(list_1[-1][1])\n",
    "\n",
    "list_1.extend(list_2)\n",
    "print(list_1)\n"
   ]
  },
  {
   "cell_type": "code",
   "execution_count": 219,
   "id": "b6e7c067",
   "metadata": {},
   "outputs": [
    {
     "name": "stdout",
     "output_type": "stream",
     "text": [
      "첫 번째 자료를 입력하세요: a\n",
      "두 번째 자료를 입력하세요: s\n",
      "세 번째 자료를 입력하세요: d\n",
      "네 번째 자료를 입력하세요: f\n",
      "다섯 번째 자료를 입력하세요: g\n",
      "['a', 's', 'd', 'f', 'g']\n",
      "수정할 위치를 입력하세요: 2\n",
      "수정할 자료를 입력하세요: r\n",
      "['a', 'r', 'd', 'f', 'g']\n"
     ]
    }
   ],
   "source": [
    "# 5개 자료를 입력받아 공백으로 분리해서 리스트로 만든 후 \n",
    "# 리스트의 내용을 출력\n",
    "# 다시 문자를 입력 받아 2번째 자료를 수정 하세요\n",
    "\n",
    "list_ = []\n",
    "\n",
    "str_ = input(\"첫 번째 자료를 입력하세요: \")\n",
    "list_.append(str_)\n",
    "str_ = input(\"두 번째 자료를 입력하세요: \")\n",
    "list_.append(str_)\n",
    "str_ = input(\"세 번째 자료를 입력하세요: \")\n",
    "list_.append(str_)\n",
    "str_ = input(\"네 번째 자료를 입력하세요: \")\n",
    "list_.append(str_)\n",
    "str_ = input(\"다섯 번째 자료를 입력하세요: \")\n",
    "list_.append(str_)\n",
    "\n",
    "print(list_)\n",
    "\n",
    "num = int(input(\"수정할 위치를 입력하세요: \"))\n",
    "list_[num-1] = input(\"수정할 자료를 입력하세요: \")\n",
    "\n",
    "print(list_)\n"
   ]
  },
  {
   "cell_type": "code",
   "execution_count": null,
   "id": "9b1100ef",
   "metadata": {},
   "outputs": [],
   "source": [
    "# 리스트 제거 : 인덱스 제거 -> del 리스트명[인덱스]\n",
    "# 마지막 요소 제거 : 리스트.pop()\n"
   ]
  },
  {
   "cell_type": "code",
   "execution_count": 220,
   "id": "8a8fe7f1",
   "metadata": {},
   "outputs": [
    {
     "name": "stdout",
     "output_type": "stream",
     "text": [
      "[2, 3]\n"
     ]
    }
   ],
   "source": [
    "list_1 = [1,2,3]\n",
    "del list_1[0]\n",
    "print(list_1)"
   ]
  },
  {
   "cell_type": "code",
   "execution_count": 223,
   "id": "11659487",
   "metadata": {},
   "outputs": [
    {
     "name": "stdout",
     "output_type": "stream",
     "text": [
      "[1, 3, 5, 7, 9]\n",
      "[3, 4, 5]\n",
      "[9, 8, 7, 6, 5, 4, 3, 2, 1]\n"
     ]
    }
   ],
   "source": [
    "# 리스트의 인덱스 슬라이싱 : 리스트명[start : stop : step]\n",
    "list_1 = [1,2,3,4,5,6,7,8,9]\n",
    "\n",
    "print(list_1[::2])\n",
    "print(list_1[2:5:1])\n",
    "print(list_1[::-1])"
   ]
  },
  {
   "cell_type": "code",
   "execution_count": 226,
   "id": "14e34410",
   "metadata": {},
   "outputs": [
    {
     "name": "stdout",
     "output_type": "stream",
     "text": [
      "[1, 3, 4, 5, 6, 7, 8, 9]\n",
      "[]\n"
     ]
    }
   ],
   "source": [
    "#리스트의 자료 제거 : del 리스트명[인덱스], 리스트명.pop(위치)\n",
    "#리스트의 값으로 제거 : 리스트명.remove(값)\n",
    "list_1 = [1,2,3,4,5,6,7,8,9]\n",
    "list_1.remove(2)\n",
    "print(list_1)\n",
    "\n",
    "#리스트의 내용을 모두 제거 : 리스트명.clear()\n",
    "list_1.clear()\n",
    "print(list_1)"
   ]
  },
  {
   "cell_type": "code",
   "execution_count": null,
   "id": "872ec6e3",
   "metadata": {},
   "outputs": [],
   "source": [
    "# 리스트의 자료를 추가 : append(요소), insert(위치, 요소), extend(리스트)\n",
    "# 수정 : 리스트[위치] = 값\n",
    "# 삭제 : del 리스트[위치], 리스트.pop(위치)\n",
    "# 값으로 삭제 : 리스트.remove(값) : 처음 나오는 값을 제거\n",
    "# 모든 요소 삭제 : 리스트.clear()\n",
    "# 정렬 : 리스트.sort()\n",
    "# 값 in 리스트"
   ]
  },
  {
   "cell_type": "code",
   "execution_count": 232,
   "id": "7d0a2ce3",
   "metadata": {},
   "outputs": [
    {
     "name": "stdout",
     "output_type": "stream",
     "text": [
      "[34, 56, 12, 78, 23]\n",
      "[12, 23, 34, 56, 78]\n",
      "False\n",
      "True\n"
     ]
    }
   ],
   "source": [
    "list_a = [34,56,12,78,23]\n",
    "print(list_a)\n",
    "\n",
    "list_a.sort()   #list_a.sort(reverse=True)\n",
    "print(list_a)\n",
    "\n",
    "print(20 in list_a)\n",
    "print(not 20 in list_a)"
   ]
  },
  {
   "cell_type": "code",
   "execution_count": 234,
   "id": "8565becb",
   "metadata": {},
   "outputs": [
    {
     "name": "stdout",
     "output_type": "stream",
     "text": [
      "h e l l o   f o r \n"
     ]
    }
   ],
   "source": [
    "# for 반복문 : 리스트와 함께 사용\n",
    "# for 반복자 in 반복할 수 있는 모든 자료 :\n",
    "\n",
    "for char in 'hello for' :\n",
    "    print(char, end=' ')\n",
    "print()"
   ]
  },
  {
   "cell_type": "code",
   "execution_count": 237,
   "id": "64c38a44",
   "metadata": {},
   "outputs": [
    {
     "name": "stdout",
     "output_type": "stream",
     "text": [
      "1회 결과 : 34\n",
      "2회 결과 : 56\n",
      "3회 결과 : 12\n",
      "4회 결과 : 78\n",
      "5회 결과 : 23\n"
     ]
    }
   ],
   "source": [
    "cnt = 0\n",
    "list_a = [34,56,12,78,23]\n",
    "\n",
    "for value in list_a :\n",
    "    cnt += 1\n",
    "    print(f'{cnt}회 결과 : {value}')"
   ]
  },
  {
   "cell_type": "code",
   "execution_count": 239,
   "id": "933787d0",
   "metadata": {},
   "outputs": [
    {
     "name": "stdout",
     "output_type": "stream",
     "text": [
      "1\t2\t3\t\n",
      "4\t5\t6\t\n",
      "7\t8\t9\t\n"
     ]
    }
   ],
   "source": [
    "list_array = [[1,2,3],[4,5,6],[7,8,9]]\n",
    "\n",
    "for items in list_array:\n",
    "    for item in items:\n",
    "        print(item, end='\\t')\n",
    "    print()\n"
   ]
  },
  {
   "cell_type": "code",
   "execution_count": 253,
   "id": "feaae5d4",
   "metadata": {},
   "outputs": [
    {
     "name": "stdout",
     "output_type": "stream",
     "text": [
      "2단\n",
      "2 x 1 = 2\t2 x 2 = 4\t2 x 3 = 6\n",
      "2 x 4 = 8\t2 x 5 = 10\t2 x 6 = 12\n",
      "2 x 7 = 14\t2 x 8 = 16\t2 x 9 = 18\n",
      "\n",
      "3단\n",
      "3 x 1 = 3\t3 x 2 = 6\t3 x 3 = 9\n",
      "3 x 4 = 12\t3 x 5 = 15\t3 x 6 = 18\n",
      "3 x 7 = 21\t3 x 8 = 24\t3 x 9 = 27\n",
      "\n",
      "4단\n",
      "4 x 1 = 4\t4 x 2 = 8\t4 x 3 = 12\n",
      "4 x 4 = 16\t4 x 5 = 20\t4 x 6 = 24\n",
      "4 x 7 = 28\t4 x 8 = 32\t4 x 9 = 36\n",
      "\n",
      "5단\n",
      "5 x 1 = 5\t5 x 2 = 10\t5 x 3 = 15\n",
      "5 x 4 = 20\t5 x 5 = 25\t5 x 6 = 30\n",
      "5 x 7 = 35\t5 x 8 = 40\t5 x 9 = 45\n",
      "\n",
      "6단\n",
      "6 x 1 = 6\t6 x 2 = 12\t6 x 3 = 18\n",
      "6 x 4 = 24\t6 x 5 = 30\t6 x 6 = 36\n",
      "6 x 7 = 42\t6 x 8 = 48\t6 x 9 = 54\n",
      "\n",
      "7단\n",
      "7 x 1 = 7\t7 x 2 = 14\t7 x 3 = 21\n",
      "7 x 4 = 28\t7 x 5 = 35\t7 x 6 = 42\n",
      "7 x 7 = 49\t7 x 8 = 56\t7 x 9 = 63\n",
      "\n",
      "8단\n",
      "8 x 1 = 8\t8 x 2 = 16\t8 x 3 = 24\n",
      "8 x 4 = 32\t8 x 5 = 40\t8 x 6 = 48\n",
      "8 x 7 = 56\t8 x 8 = 64\t8 x 9 = 72\n",
      "\n",
      "9단\n",
      "9 x 1 = 9\t9 x 2 = 18\t9 x 3 = 27\n",
      "9 x 4 = 36\t9 x 5 = 45\t9 x 6 = 54\n",
      "9 x 7 = 63\t9 x 8 = 72\t9 x 9 = 81\n",
      "\n"
     ]
    }
   ],
   "source": [
    "#구구단 출력\n",
    "\n",
    "list_99 = [2,3,4,5,6,7,8,9]\n",
    "list_999 = [1,2,3,4,5,6,7,8,9]\n",
    "cnt = 0\n",
    "for num in list_99:\n",
    "    print(f\"{num}단\")\n",
    "    for num2 in list_999:\n",
    "        if cnt<2 :\n",
    "            print(f\"{num} x {num2} = {num*num2}\",end= \"\\t\")\n",
    "            cnt += 1\n",
    "        else :\n",
    "            print(f\"{num} x {num2} = {num*num2}\")\n",
    "            cnt = 0\n",
    "    print()\n",
    "\n",
    "\n"
   ]
  },
  {
   "cell_type": "code",
   "execution_count": 254,
   "id": "52d9f77f",
   "metadata": {
    "scrolled": true
   },
   "outputs": [
    {
     "name": "stdout",
     "output_type": "stream",
     "text": [
      "1\n",
      "2\n",
      "4\n",
      "5\n"
     ]
    }
   ],
   "source": [
    "a_list = [1,2,3,4,5,6,7,8,9]\n",
    "for items in a_list:\n",
    "    if items == 7:\n",
    "        break\n",
    "    if items % 3 == 0:\n",
    "        continue\n",
    "    print(items)"
   ]
  },
  {
   "cell_type": "code",
   "execution_count": 255,
   "id": "cd2380da",
   "metadata": {},
   "outputs": [
    {
     "name": "stdout",
     "output_type": "stream",
     "text": [
      "[1, 2, 3, 4, 5, 6, 7, 8, 9]\n",
      "1 2 3 4 5 6 7 8 9\n"
     ]
    }
   ],
   "source": [
    "a_list = [1,2,3,4,5,6,7,8,9]\n",
    "print(a_list)\n",
    "print(*a_list)"
   ]
  },
  {
   "cell_type": "code",
   "execution_count": null,
   "id": "41a08ff9",
   "metadata": {},
   "outputs": [],
   "source": []
  },
  {
   "cell_type": "code",
   "execution_count": null,
   "id": "686a395e",
   "metadata": {},
   "outputs": [],
   "source": []
  },
  {
   "cell_type": "code",
   "execution_count": null,
   "id": "b303955f",
   "metadata": {},
   "outputs": [],
   "source": []
  },
  {
   "cell_type": "code",
   "execution_count": null,
   "id": "29e930b0",
   "metadata": {},
   "outputs": [],
   "source": []
  },
  {
   "cell_type": "code",
   "execution_count": null,
   "id": "9b0eff7a",
   "metadata": {},
   "outputs": [],
   "source": []
  },
  {
   "cell_type": "code",
   "execution_count": null,
   "id": "55404320",
   "metadata": {},
   "outputs": [],
   "source": []
  },
  {
   "cell_type": "code",
   "execution_count": null,
   "id": "22fe345c",
   "metadata": {},
   "outputs": [],
   "source": []
  }
 ],
 "metadata": {
  "kernelspec": {
   "display_name": "Python 3 (ipykernel)",
   "language": "python",
   "name": "python3"
  },
  "language_info": {
   "codemirror_mode": {
    "name": "ipython",
    "version": 3
   },
   "file_extension": ".py",
   "mimetype": "text/x-python",
   "name": "python",
   "nbconvert_exporter": "python",
   "pygments_lexer": "ipython3",
   "version": "3.9.12"
  }
 },
 "nbformat": 4,
 "nbformat_minor": 5
}
