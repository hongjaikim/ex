{
 "cells": [
  {
   "cell_type": "code",
   "execution_count": 2,
   "id": "46234590",
   "metadata": {},
   "outputs": [
    {
     "name": "stdout",
     "output_type": "stream",
     "text": [
      "a 모듈의 변수\n",
      "b 모듈의 변수\n"
     ]
    }
   ],
   "source": [
    "# main 프로그램 작성\n",
    "import a_module.a_1 as a\n",
    "import a_module.b_1 as b\n",
    "\n",
    "# 모듈 변수 출력\n",
    "print(a.variable_a)\n",
    "print(b.variable_b)"
   ]
  }
 ],
 "metadata": {
  "kernelspec": {
   "display_name": "Python 3 (ipykernel)",
   "language": "python",
   "name": "python3"
  },
  "language_info": {
   "codemirror_mode": {
    "name": "ipython",
    "version": 3
   },
   "file_extension": ".py",
   "mimetype": "text/x-python",
   "name": "python",
   "nbconvert_exporter": "python",
   "pygments_lexer": "ipython3",
   "version": "3.9.12"
  }
 },
 "nbformat": 4,
 "nbformat_minor": 5
}
