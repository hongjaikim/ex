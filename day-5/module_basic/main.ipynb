{
 "cells": [
  {
   "cell_type": "code",
   "execution_count": 1,
   "id": "7375932d",
   "metadata": {},
   "outputs": [
    {
     "name": "stdout",
     "output_type": "stream",
     "text": [
      "모듈의 __name__ :  test_module\n",
      "숫자 입력 :10\n",
      "62.83184\n",
      "314.1592\n"
     ]
    }
   ],
   "source": [
    "# main 프로그램\n",
    "import test_module as test\n",
    "\n",
    "radius = test.number_input()\n",
    "print(test.get_circum(radius))\n",
    "print(test.get_circle_area(radius))"
   ]
  },
  {
   "cell_type": "code",
   "execution_count": 2,
   "id": "22c1dacc",
   "metadata": {},
   "outputs": [
    {
     "name": "stdout",
     "output_type": "stream",
     "text": [
      "main의 __name__ 출력 :  __main__\n"
     ]
    }
   ],
   "source": [
    "print(\"main의 __name__ 출력 : \", __name__)"
   ]
  },
  {
   "cell_type": "code",
   "execution_count": 6,
   "id": "e1de2666",
   "metadata": {},
   "outputs": [
    {
     "name": "stdout",
     "output_type": "stream",
     "text": [
      "main의 __name__ 출력 :  __main__\n"
     ]
    }
   ],
   "source": [
    "import test_module\n",
    "print(\"main의 __name__ 출력 : \", __name__)"
   ]
  }
 ],
 "metadata": {
  "kernelspec": {
   "display_name": "Python 3 (ipykernel)",
   "language": "python",
   "name": "python3"
  },
  "language_info": {
   "codemirror_mode": {
    "name": "ipython",
    "version": 3
   },
   "file_extension": ".py",
   "mimetype": "text/x-python",
   "name": "python",
   "nbconvert_exporter": "python",
   "pygments_lexer": "ipython3",
   "version": "3.9.12"
  }
 },
 "nbformat": 4,
 "nbformat_minor": 5
}
