{
 "cells": [
  {
   "cell_type": "code",
   "execution_count": 1,
   "id": "febce6bc",
   "metadata": {},
   "outputs": [],
   "source": [
    "# 판다스의 자료구조 : 시리즈, 데이터프레임\n",
    "import pandas as pd\n"
   ]
  },
  {
   "cell_type": "code",
   "execution_count": 8,
   "id": "2d333d73",
   "metadata": {},
   "outputs": [
    {
     "name": "stdout",
     "output_type": "stream",
     "text": [
      "a    1\n",
      "b    2\n",
      "c    3\n",
      "dtype: int64\n",
      "<class 'pandas.core.series.Series'>\n"
     ]
    }
   ],
   "source": [
    "# 시리즈 생성 Series(딕셔너리 또는 리스트, index = [])\n",
    "sr = pd.Series({'a':1,'b':2,'c':3})\n",
    "print(sr)\n",
    "\n",
    "print(type(sr))"
   ]
  },
  {
   "cell_type": "code",
   "execution_count": 10,
   "id": "64129647",
   "metadata": {},
   "outputs": [
    {
     "name": "stdout",
     "output_type": "stream",
     "text": [
      "Index(['a', 'b', 'c'], dtype='object')\n",
      "[1 2 3]\n"
     ]
    }
   ],
   "source": [
    "#시리즈의 인덱스, 값\n",
    "print(sr.index)\n",
    "print(sr.values)"
   ]
  },
  {
   "cell_type": "code",
   "execution_count": 15,
   "id": "79a757d9",
   "metadata": {},
   "outputs": [
    {
     "name": "stdout",
     "output_type": "stream",
     "text": [
      "1 1\n",
      "\n",
      "a    1\n",
      "b    2\n",
      "c    3\n",
      "dtype: int64\n",
      "a    1\n",
      "b    2\n",
      "dtype: int64\n"
     ]
    }
   ],
   "source": [
    "#시리즈를 접근하는 방법 : sr[index], sr[숫자인덱스]\n",
    "print(sr['a'],sr[0])\n",
    "print()\n",
    "print(sr['a':'c'],sr[0:2],sep='\\n')   # 인덱스명으로 접근시 end도 포함('c'), 숫자는 end 미포함(2)"
   ]
  },
  {
   "cell_type": "code",
   "execution_count": 16,
   "id": "33a3a4b8",
   "metadata": {},
   "outputs": [
    {
     "name": "stdout",
     "output_type": "stream",
     "text": [
      "이름            명인\n",
      "생년월일    20-06-30\n",
      "성별             남\n",
      "학생여부        True\n",
      "dtype: object\n"
     ]
    }
   ],
   "source": [
    "# 리스트 또는 튜플을 시리즈로 만들면서 인덱스명 부여\n",
    "list_data = ['명인','20-06-30','남',True]\n",
    "sr1 = pd.Series(list_data,index=['이름','생년월일','성별','학생여부'])\n",
    "print(sr1)\n"
   ]
  },
  {
   "cell_type": "code",
   "execution_count": 19,
   "id": "5bdfa3eb",
   "metadata": {},
   "outputs": [
    {
     "data": {
      "text/plain": [
       "이름            명인\n",
       "생년월일    20-06-30\n",
       "dtype: object"
      ]
     },
     "execution_count": 19,
     "metadata": {},
     "output_type": "execute_result"
    }
   ],
   "source": [
    "sr1[ ['이름','생년월일'] ]"
   ]
  },
  {
   "cell_type": "code",
   "execution_count": 24,
   "id": "939fa949",
   "metadata": {},
   "outputs": [
    {
     "name": "stdout",
     "output_type": "stream",
     "text": [
      "object\n",
      "<class 'str'>\n",
      "int64\n",
      "<class 'numpy.int64'>\n"
     ]
    }
   ],
   "source": [
    "print(sr1.dtype)        #시리즈에 저장된 데이터 타입 숫자 ->int64 문자->o(object)\n",
    "print(type(sr1['이름']))\n",
    "print(sr.dtype)        \n",
    "print(type(sr['a']))"
   ]
  },
  {
   "cell_type": "code",
   "execution_count": null,
   "id": "d9bae47f",
   "metadata": {},
   "outputs": [],
   "source": []
  },
  {
   "cell_type": "code",
   "execution_count": null,
   "id": "238a58e5",
   "metadata": {},
   "outputs": [],
   "source": []
  }
 ],
 "metadata": {
  "kernelspec": {
   "display_name": "Python 3 (ipykernel)",
   "language": "python",
   "name": "python3"
  },
  "language_info": {
   "codemirror_mode": {
    "name": "ipython",
    "version": 3
   },
   "file_extension": ".py",
   "mimetype": "text/x-python",
   "name": "python",
   "nbconvert_exporter": "python",
   "pygments_lexer": "ipython3",
   "version": "3.9.12"
  }
 },
 "nbformat": 4,
 "nbformat_minor": 5
}
