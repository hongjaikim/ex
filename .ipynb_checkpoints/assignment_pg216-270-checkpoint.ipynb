{
 "cells": [
  {
   "cell_type": "code",
   "execution_count": 10,
   "id": "a19fda83",
   "metadata": {},
   "outputs": [
    {
     "name": "stdout",
     "output_type": "stream",
     "text": [
      "{}\n",
      "{'name': '구름'}\n",
      "{}\n"
     ]
    }
   ],
   "source": [
    "# pg 227 확인문제1\n",
    "dict_a = {}\n",
    "print(dict_a)\n",
    "dict_a['name'] = '구름'\n",
    "print(dict_a)\n",
    "del dict_a['name']\n",
    "print(dict_a)"
   ]
  },
  {
   "cell_type": "code",
   "execution_count": 18,
   "id": "e90c4ad4",
   "metadata": {},
   "outputs": [
    {
     "name": "stdout",
     "output_type": "stream",
     "text": [
      "# 우리 동네 애완 동물들\n",
      "구름 5살\n",
      "초코 3살\n",
      "아지 1살\n",
      "호랑이 1살\n"
     ]
    }
   ],
   "source": [
    "# pg 227 확인문제2\n",
    "pets = [\n",
    "    {\"name\" : \"구름\", 'age': 5},\n",
    "    {\"name\" : \"초코\", 'age': 3},\n",
    "    {\"name\" : \"아지\", 'age': 1},\n",
    "    {\"name\" : \"호랑이\", 'age': 1}\n",
    "]\n",
    "\n",
    "print(\"# 우리 동네 애완 동물들\")\n",
    "for i in range(0,4):\n",
    "    print(f\"{pets[i]['name']} {pets[i]['age']}살\")\n",
    "\n"
   ]
  },
  {
   "cell_type": "code",
   "execution_count": 35,
   "id": "cb3eca7f",
   "metadata": {},
   "outputs": [
    {
     "name": "stdout",
     "output_type": "stream",
     "text": [
      "{1: 3, 2: 4, 6: 1, 8: 2, 4: 3, 3: 3, 9: 3, 5: 2, 7: 2}\n"
     ]
    }
   ],
   "source": [
    "# pg 228 확인문제3\n",
    "numbers = [1,2,6,8,4,3,2,1,9,5,4,9,7,2,1,3,5,4,8,9,7,2,3]\n",
    "counter = {}\n",
    "\n",
    "for number in numbers:\n",
    "    if number in counter:\n",
    "        counter[number] += 1\n",
    "    else:\n",
    "        counter[number] = 1\n",
    "\n",
    "print(counter)\n",
    "\n",
    "\n"
   ]
  },
  {
   "cell_type": "code",
   "execution_count": 1,
   "id": "da9b91d7",
   "metadata": {},
   "outputs": [
    {
     "name": "stdout",
     "output_type": "stream",
     "text": [
      "name\n",
      "lever\n",
      "items\n",
      "skill\n"
     ]
    }
   ],
   "source": [
    "# pg 229 확인문제4\n",
    "character = {\n",
    "    \"name\": \"기사\",\n",
    "    \"lever\": 12,\n",
    "    \"items\": {\n",
    "        \"sword\": \"불꽃의 검\",\n",
    "        \"armer\": \"풀플레이트\"\n",
    "    },\n",
    "    \"skill\": [\"베기\", '세게 베기', '아주 세게 베기']\n",
    "}\n",
    "\n",
    "for key in character:\n",
    "    print(f\"{key} : {})\n",
    "\n",
    "\n",
    "\n"
   ]
  },
  {
   "cell_type": "code",
   "execution_count": null,
   "id": "471f684f",
   "metadata": {},
   "outputs": [],
   "source": []
  },
  {
   "cell_type": "code",
   "execution_count": null,
   "id": "5990a7b3",
   "metadata": {},
   "outputs": [],
   "source": []
  }
 ],
 "metadata": {
  "kernelspec": {
   "display_name": "Python 3 (ipykernel)",
   "language": "python",
   "name": "python3"
  },
  "language_info": {
   "codemirror_mode": {
    "name": "ipython",
    "version": 3
   },
   "file_extension": ".py",
   "mimetype": "text/x-python",
   "name": "python",
   "nbconvert_exporter": "python",
   "pygments_lexer": "ipython3",
   "version": "3.9.12"
  }
 },
 "nbformat": 4,
 "nbformat_minor": 5
}
