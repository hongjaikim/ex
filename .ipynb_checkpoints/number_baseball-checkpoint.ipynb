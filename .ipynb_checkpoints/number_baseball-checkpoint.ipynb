{
 "cells": [
  {
   "cell_type": "code",
   "execution_count": null,
   "id": "2c3f5dc9",
   "metadata": {},
   "outputs": [],
   "source": []
  },
  {
   "cell_type": "code",
   "execution_count": 3,
   "id": "deaf9c5f",
   "metadata": {
    "scrolled": true
   },
   "outputs": [
    {
     "name": "stdout",
     "output_type": "stream",
     "text": [
      "숫자야구 시작!\n",
      "난이도를 선택하세요(easy=1,normal=2,hard=3): 3\n",
      "주의! 숫자 4자리를 초과한 경우 앞에 4자리만 인식합니다.\n",
      "4자리 서로 다른 숫자를 입력하세요: 1323\n",
      "오류! 겹치지 않는 4자리 숫자를 입력하세요\n",
      "4자리 서로 다른 숫자를 입력하세요: 1233\n",
      "오류! 겹치지 않는 4자리 숫자를 입력하세요\n"
     ]
    },
    {
     "ename": "KeyboardInterrupt",
     "evalue": "Interrupted by user",
     "output_type": "error",
     "traceback": [
      "\u001b[1;31m---------------------------------------------------------------------------\u001b[0m",
      "\u001b[1;31mKeyboardInterrupt\u001b[0m                         Traceback (most recent call last)",
      "Input \u001b[1;32mIn [3]\u001b[0m, in \u001b[0;36m<cell line: 35>\u001b[1;34m()\u001b[0m\n\u001b[0;32m     38\u001b[0m     \u001b[38;5;28;01mbreak\u001b[39;00m\n\u001b[0;32m     39\u001b[0m \u001b[38;5;28;01melse\u001b[39;00m:\n\u001b[1;32m---> 40\u001b[0m     input_num \u001b[38;5;241m=\u001b[39m \u001b[38;5;28;43minput\u001b[39;49m\u001b[43m(\u001b[49m\u001b[38;5;124;43m\"\u001b[39;49m\u001b[38;5;124;43m4자리 서로 다른 숫자를 입력하세요: \u001b[39;49m\u001b[38;5;124;43m\"\u001b[39;49m\u001b[43m)\u001b[49m\n\u001b[0;32m     41\u001b[0m     \u001b[38;5;28;01mif\u001b[39;00m input_num\u001b[38;5;241m.\u001b[39mfind(input_num[\u001b[38;5;241m0\u001b[39m]) \u001b[38;5;241m!=\u001b[39m input_num\u001b[38;5;241m.\u001b[39mrfind(input_num[\u001b[38;5;241m0\u001b[39m]) \u001b[38;5;129;01mor\u001b[39;00m \\\n\u001b[0;32m     42\u001b[0m     input_num\u001b[38;5;241m.\u001b[39mfind(input_num[\u001b[38;5;241m1\u001b[39m]) \u001b[38;5;241m!=\u001b[39m input_num\u001b[38;5;241m.\u001b[39mrfind(input_num[\u001b[38;5;241m1\u001b[39m]) \u001b[38;5;129;01mor\u001b[39;00m \\\n\u001b[0;32m     43\u001b[0m     input_num\u001b[38;5;241m.\u001b[39mfind(input_num[\u001b[38;5;241m2\u001b[39m]) \u001b[38;5;241m!=\u001b[39m input_num\u001b[38;5;241m.\u001b[39mrfind(input_num[\u001b[38;5;241m2\u001b[39m]) \u001b[38;5;129;01mor\u001b[39;00m \\\n\u001b[0;32m     44\u001b[0m     input_num\u001b[38;5;241m.\u001b[39mfind(input_num[\u001b[38;5;241m3\u001b[39m]) \u001b[38;5;241m!=\u001b[39m input_num\u001b[38;5;241m.\u001b[39mrfind(input_num[\u001b[38;5;241m3\u001b[39m]) \u001b[38;5;129;01mor\u001b[39;00m \\\n\u001b[0;32m     45\u001b[0m     \u001b[38;5;28mlen\u001b[39m(input_num)\u001b[38;5;241m<\u001b[39m\u001b[38;5;241m4\u001b[39m:\n\u001b[0;32m     46\u001b[0m         \u001b[38;5;28mprint\u001b[39m(\u001b[38;5;124m\"\u001b[39m\u001b[38;5;124m오류! 겹치지 않는 4자리 숫자를 입력하세요\u001b[39m\u001b[38;5;124m\"\u001b[39m)\n",
      "File \u001b[1;32m~\\anaconda3\\lib\\site-packages\\ipykernel\\kernelbase.py:1075\u001b[0m, in \u001b[0;36mKernel.raw_input\u001b[1;34m(self, prompt)\u001b[0m\n\u001b[0;32m   1071\u001b[0m \u001b[38;5;28;01mif\u001b[39;00m \u001b[38;5;129;01mnot\u001b[39;00m \u001b[38;5;28mself\u001b[39m\u001b[38;5;241m.\u001b[39m_allow_stdin:\n\u001b[0;32m   1072\u001b[0m     \u001b[38;5;28;01mraise\u001b[39;00m StdinNotImplementedError(\n\u001b[0;32m   1073\u001b[0m         \u001b[38;5;124m\"\u001b[39m\u001b[38;5;124mraw_input was called, but this frontend does not support input requests.\u001b[39m\u001b[38;5;124m\"\u001b[39m\n\u001b[0;32m   1074\u001b[0m     )\n\u001b[1;32m-> 1075\u001b[0m \u001b[38;5;28;01mreturn\u001b[39;00m \u001b[38;5;28;43mself\u001b[39;49m\u001b[38;5;241;43m.\u001b[39;49m\u001b[43m_input_request\u001b[49m\u001b[43m(\u001b[49m\n\u001b[0;32m   1076\u001b[0m \u001b[43m    \u001b[49m\u001b[38;5;28;43mstr\u001b[39;49m\u001b[43m(\u001b[49m\u001b[43mprompt\u001b[49m\u001b[43m)\u001b[49m\u001b[43m,\u001b[49m\n\u001b[0;32m   1077\u001b[0m \u001b[43m    \u001b[49m\u001b[38;5;28;43mself\u001b[39;49m\u001b[38;5;241;43m.\u001b[39;49m\u001b[43m_parent_ident\u001b[49m\u001b[43m[\u001b[49m\u001b[38;5;124;43m\"\u001b[39;49m\u001b[38;5;124;43mshell\u001b[39;49m\u001b[38;5;124;43m\"\u001b[39;49m\u001b[43m]\u001b[49m\u001b[43m,\u001b[49m\n\u001b[0;32m   1078\u001b[0m \u001b[43m    \u001b[49m\u001b[38;5;28;43mself\u001b[39;49m\u001b[38;5;241;43m.\u001b[39;49m\u001b[43mget_parent\u001b[49m\u001b[43m(\u001b[49m\u001b[38;5;124;43m\"\u001b[39;49m\u001b[38;5;124;43mshell\u001b[39;49m\u001b[38;5;124;43m\"\u001b[39;49m\u001b[43m)\u001b[49m\u001b[43m,\u001b[49m\n\u001b[0;32m   1079\u001b[0m \u001b[43m    \u001b[49m\u001b[43mpassword\u001b[49m\u001b[38;5;241;43m=\u001b[39;49m\u001b[38;5;28;43;01mFalse\u001b[39;49;00m\u001b[43m,\u001b[49m\n\u001b[0;32m   1080\u001b[0m \u001b[43m\u001b[49m\u001b[43m)\u001b[49m\n",
      "File \u001b[1;32m~\\anaconda3\\lib\\site-packages\\ipykernel\\kernelbase.py:1120\u001b[0m, in \u001b[0;36mKernel._input_request\u001b[1;34m(self, prompt, ident, parent, password)\u001b[0m\n\u001b[0;32m   1117\u001b[0m             \u001b[38;5;28;01mbreak\u001b[39;00m\n\u001b[0;32m   1118\u001b[0m \u001b[38;5;28;01mexcept\u001b[39;00m \u001b[38;5;167;01mKeyboardInterrupt\u001b[39;00m:\n\u001b[0;32m   1119\u001b[0m     \u001b[38;5;66;03m# re-raise KeyboardInterrupt, to truncate traceback\u001b[39;00m\n\u001b[1;32m-> 1120\u001b[0m     \u001b[38;5;28;01mraise\u001b[39;00m \u001b[38;5;167;01mKeyboardInterrupt\u001b[39;00m(\u001b[38;5;124m\"\u001b[39m\u001b[38;5;124mInterrupted by user\u001b[39m\u001b[38;5;124m\"\u001b[39m) \u001b[38;5;28;01mfrom\u001b[39;00m \u001b[38;5;28mNone\u001b[39m\n\u001b[0;32m   1121\u001b[0m \u001b[38;5;28;01mexcept\u001b[39;00m \u001b[38;5;167;01mException\u001b[39;00m:\n\u001b[0;32m   1122\u001b[0m     \u001b[38;5;28mself\u001b[39m\u001b[38;5;241m.\u001b[39mlog\u001b[38;5;241m.\u001b[39mwarning(\u001b[38;5;124m\"\u001b[39m\u001b[38;5;124mInvalid Message:\u001b[39m\u001b[38;5;124m\"\u001b[39m, exc_info\u001b[38;5;241m=\u001b[39m\u001b[38;5;28;01mTrue\u001b[39;00m)\n",
      "\u001b[1;31mKeyboardInterrupt\u001b[0m: Interrupted by user"
     ]
    }
   ],
   "source": [
    "print(\"숫자야구 시작!\")\n",
    "\n",
    "#랜덤 4자리 숫자 만들기\n",
    "\n",
    "import random            \n",
    "\n",
    "num = \"\"\n",
    "\n",
    "while True :\n",
    "    asd = str(random.random())\n",
    "    if len(num) >= 4 :                 #4자리가 될때까지만 반복\n",
    "        break\n",
    "    else :\n",
    "        if asd[2] in num :\n",
    "            continue\n",
    "        else:\n",
    "            num += asd[2]\n",
    "\n",
    "input_num = \"1111\"\n",
    "\n",
    "\n",
    "\n",
    "input_num1= input(\"난이도를 선택하세요(easy=1,normal=2,hard=3): \")\n",
    "if input_num1 == \"3\" :\n",
    "    cnt = 6\n",
    "elif input_num1 == \"2\" :\n",
    "    cnt = 10\n",
    "else :\n",
    "    cnt = 15\n",
    "# 사용자에게 숫자를 입력받아 비교하여 결과출력\n",
    "print(\"주의! 숫자 4자리를 초과한 경우 앞에 4자리만 인식합니다.\")\n",
    "\n",
    "while True :               #정답이 될때까지 반복\n",
    "    if cnt == 0 :\n",
    "        print(f\"게임 실패 정답은 {num}입니다.\")\n",
    "        input_num = num\n",
    "        break\n",
    "    else:\n",
    "        input_num = input(\"4자리 서로 다른 숫자를 입력하세요: \")\n",
    "        if input_num.find(input_num[0]) != input_num.rfind(input_num[0]) or \\\n",
    "        input_num.find(input_num[1]) != input_num.rfind(input_num[1]) or \\\n",
    "        input_num.find(input_num[2]) != input_num.rfind(input_num[2]) or \\\n",
    "        input_num.find(input_num[3]) != input_num.rfind(input_num[3]) or \\\n",
    "        len(input_num)<4:\n",
    "            print(\"오류! 겹치지 않는 4자리 숫자를 입력하세요\")\n",
    "            continue\n",
    "        else:\n",
    "            if input_num[0:4] == num :      #정답인경우 종료\n",
    "                print(f\"{num}정답입니다!\")\n",
    "                print(\"게임 종료!\")\n",
    "                break\n",
    "            else :\n",
    "                strike = 0\n",
    "                ball = 0\n",
    "\n",
    "                for i in [0,1,2,3]:                  #입력한 숫자와 정답을\n",
    "                    if input_num[i] == num[i] :      #비교하여 SB계산 후 출력\n",
    "                        strike += 1\n",
    "                    elif input_num[i] in num :\n",
    "                        ball += 1\n",
    "                cnt -= 1\n",
    "                print(f\"{strike}S {ball}B 입니다\")\n",
    "                print(f\"남은 기회는 {cnt}회 입니다.\")\n",
    "                continue\n",
    "\n",
    "    \n",
    "    \n",
    "\n"
   ]
  },
  {
   "cell_type": "code",
   "execution_count": null,
   "id": "c5d50c2d",
   "metadata": {},
   "outputs": [],
   "source": []
  }
 ],
 "metadata": {
  "kernelspec": {
   "display_name": "Python 3 (ipykernel)",
   "language": "python",
   "name": "python3"
  },
  "language_info": {
   "codemirror_mode": {
    "name": "ipython",
    "version": 3
   },
   "file_extension": ".py",
   "mimetype": "text/x-python",
   "name": "python",
   "nbconvert_exporter": "python",
   "pygments_lexer": "ipython3",
   "version": "3.9.12"
  }
 },
 "nbformat": 4,
 "nbformat_minor": 5
}
