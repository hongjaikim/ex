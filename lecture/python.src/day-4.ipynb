{
 "cells": [
  {
   "cell_type": "code",
   "execution_count": 7,
   "id": "90b08131",
   "metadata": {},
   "outputs": [
    {
     "name": "stdout",
     "output_type": "stream",
     "text": [
      "reversed nums :  <list_reverseiterator object at 0x00000198BBBCE670>\n",
      "6\n",
      "5\n",
      "4\n",
      "3\n",
      "2\n",
      "1\n"
     ]
    },
    {
     "ename": "StopIteration",
     "evalue": "",
     "output_type": "error",
     "traceback": [
      "\u001b[1;31m---------------------------------------------------------------------------\u001b[0m",
      "\u001b[1;31mStopIteration\u001b[0m                             Traceback (most recent call last)",
      "Input \u001b[1;32mIn [7]\u001b[0m, in \u001b[0;36m<cell line: 13>\u001b[1;34m()\u001b[0m\n\u001b[0;32m     11\u001b[0m \u001b[38;5;28mprint\u001b[39m(\u001b[38;5;28mnext\u001b[39m(r_nums))\n\u001b[0;32m     12\u001b[0m \u001b[38;5;28mprint\u001b[39m(\u001b[38;5;28mnext\u001b[39m(r_nums))\n\u001b[1;32m---> 13\u001b[0m \u001b[38;5;28mprint\u001b[39m(\u001b[38;5;28;43mnext\u001b[39;49m\u001b[43m(\u001b[49m\u001b[43mr_nums\u001b[49m\u001b[43m)\u001b[49m)\n",
      "\u001b[1;31mStopIteration\u001b[0m: "
     ]
    }
   ],
   "source": [
    "nums = [1,2,3,4,5,6]\n",
    "\n",
    "r_nums = reversed(nums)\n",
    "\n",
    "print(\"reversed nums : \",r_nums)\n",
    "\n",
    "print(next(r_nums))\n",
    "print(next(r_nums))\n",
    "print(next(r_nums))\n",
    "print(next(r_nums))\n",
    "print(next(r_nums))\n",
    "print(next(r_nums))\n",
    "print(next(r_nums))"
   ]
  },
  {
   "cell_type": "markdown",
   "id": "43bc5638",
   "metadata": {},
   "source": [
    "# CH5 함수"
   ]
  },
  {
   "cell_type": "code",
   "execution_count": 9,
   "id": "22afc12b",
   "metadata": {},
   "outputs": [
    {
     "name": "stdout",
     "output_type": "stream",
     "text": [
      "test\n",
      "test\n",
      "test\n"
     ]
    }
   ],
   "source": [
    "# 1. 함수만들기 : def 함수명():\n",
    "#    코드\n",
    "\n",
    "def print_3_times():\n",
    "    print(\"hello\")\n",
    "    print(\"hello\")\n",
    "    print(\"hello\")\n",
    "    \n",
    "# 매개변수가 있는 함수 정의\n",
    "def print_n_times(value, n):\n",
    "    for i in range(n):\n",
    "        print(value)\n",
    "        \n",
    "print_n_times('test',3)\n",
    "    \n"
   ]
  },
  {
   "cell_type": "code",
   "execution_count": 11,
   "id": "eb1925b0",
   "metadata": {},
   "outputs": [
    {
     "name": "stdout",
     "output_type": "stream",
     "text": [
      "test\n",
      "hello\n",
      "python\n",
      "\n",
      "test\n",
      "hello\n",
      "python\n",
      "\n"
     ]
    }
   ],
   "source": [
    "# 가변매개변수 : 함수명(매개변수,*가변매개변수명)\n",
    "def print_n_var_times(n, *values):\n",
    "    for i in range(n):\n",
    "        for value in values:\n",
    "            print(value)\n",
    "        print()\n",
    "\n",
    "print_n_var_times(2,'test','hello','python')"
   ]
  },
  {
   "cell_type": "code",
   "execution_count": 13,
   "id": "18e2af0a",
   "metadata": {},
   "outputs": [
    {
     "name": "stdout",
     "output_type": "stream",
     "text": [
      "test\n",
      "test\n",
      "\n",
      "test\n",
      "test\n",
      "test\n",
      "\n"
     ]
    }
   ],
   "source": [
    "# 기본매개변수 : 함수명(매개변수, 기본매개변수=값)\n",
    "def print_n_times(value, n=2):\n",
    "    for i in range(n):\n",
    "        print(value)\n",
    "    print()\n",
    "\n",
    "print_n_times('test')\n",
    "print_n_times('test', n = 3)"
   ]
  },
  {
   "cell_type": "code",
   "execution_count": 17,
   "id": "83e2ede2",
   "metadata": {},
   "outputs": [
    {
     "name": "stdout",
     "output_type": "stream",
     "text": [
      "test\n",
      "hello\n",
      "python\n",
      "\n",
      "test\n",
      "hello\n",
      "python\n",
      "\n"
     ]
    }
   ],
   "source": [
    "# 기본 매개변수와 가변매개변수가 같이 오는 경우 : 가변, 기본 순서\n",
    "def print_n_times(*values,n=2):\n",
    "    for i in range(n):\n",
    "        for value in values:\n",
    "            print(value)\n",
    "        print()\n",
    "\n",
    "print_n_times('test','hello','python')\n"
   ]
  },
  {
   "cell_type": "code",
   "execution_count": 19,
   "id": "3faca583",
   "metadata": {},
   "outputs": [
    {
     "name": "stdout",
     "output_type": "stream",
     "text": [
      "60\n",
      "40\n"
     ]
    }
   ],
   "source": [
    "# 일반 매개변수, 가변 매개변수, 키워드 매개변수(기본) 순서로\n",
    "def test_func(a, b=10,c=20):\n",
    "    print(a+b+c)\n",
    "\n",
    "    \n",
    "test_func(a=10,b=20,c=30)\n",
    "test_func(a=10)\n",
    "test_func(c=100,b=20,a=100)\n"
   ]
  },
  {
   "cell_type": "code",
   "execution_count": 21,
   "id": "2dc4f26a",
   "metadata": {},
   "outputs": [
    {
     "name": "stdout",
     "output_type": "stream",
     "text": [
      "60 130\n"
     ]
    }
   ],
   "source": [
    "def test_func(a, b=10,c=20):\n",
    "    return(a+b+c)\n",
    "\n",
    "a = test_func(a=10,b=20,c=30)\n",
    "b = test_func(100)\n",
    "print(a,b)"
   ]
  },
  {
   "cell_type": "code",
   "execution_count": 26,
   "id": "c4eda087",
   "metadata": {},
   "outputs": [],
   "source": [
    "def test_f():\n",
    "    global atest\n",
    "    print(atest)\n",
    "    func_val = 'func var'"
   ]
  },
  {
   "cell_type": "code",
   "execution_count": 27,
   "id": "8247e921",
   "metadata": {},
   "outputs": [
    {
     "name": "stdout",
     "output_type": "stream",
     "text": [
      "test\n"
     ]
    },
    {
     "ename": "NameError",
     "evalue": "name 'func_val' is not defined",
     "output_type": "error",
     "traceback": [
      "\u001b[1;31m---------------------------------------------------------------------------\u001b[0m",
      "\u001b[1;31mNameError\u001b[0m                                 Traceback (most recent call last)",
      "Input \u001b[1;32mIn [27]\u001b[0m, in \u001b[0;36m<cell line: 3>\u001b[1;34m()\u001b[0m\n\u001b[0;32m      1\u001b[0m atest \u001b[38;5;241m=\u001b[39m \u001b[38;5;124m'\u001b[39m\u001b[38;5;124mtest\u001b[39m\u001b[38;5;124m'\u001b[39m\n\u001b[0;32m      2\u001b[0m test_f()\n\u001b[1;32m----> 3\u001b[0m \u001b[43mfunc_val\u001b[49m\n",
      "\u001b[1;31mNameError\u001b[0m: name 'func_val' is not defined"
     ]
    }
   ],
   "source": [
    "atest = 'test'\n",
    "test_f()\n",
    "func_val"
   ]
  },
  {
   "cell_type": "code",
   "execution_count": 28,
   "id": "faa3bd2f",
   "metadata": {},
   "outputs": [],
   "source": [
    "# start, stop, step을 이용하여 합을 구하는 함수 작성\n",
    "\n",
    "def sum_func(start=0, stop=100,step=1):\n",
    "    total = 0\n",
    "    for i in range(start,stop+1,step):\n",
    "        total+=i\n",
    "    return total"
   ]
  },
  {
   "cell_type": "code",
   "execution_count": 30,
   "id": "747292bc",
   "metadata": {},
   "outputs": [
    {
     "name": "stdout",
     "output_type": "stream",
     "text": [
      "0부터 100까지 합을 구함 : 5050\n",
      "0부터 100까지 짝수 합을 구함 : 2550\n",
      "0부터 100까지 홀수 합을 구함 : 2500\n",
      "0부터 50까지 홀수 합을 구함 : 625\n"
     ]
    }
   ],
   "source": [
    "print(\"0부터 100까지 합을 구함 :\", sum_func())\n",
    "print(\"0부터 100까지 짝수 합을 구함 :\", sum_func(step=2))\n",
    "print(\"0부터 100까지 홀수 합을 구함 :\", sum_func(start = 1,step=2))\n",
    "print(\"0부터 50까지 홀수 합을 구함 :\", sum_func(start=1,stop=50,step=2))"
   ]
  },
  {
   "cell_type": "code",
   "execution_count": 33,
   "id": "1e9b878f",
   "metadata": {},
   "outputs": [],
   "source": [
    "# 2. 함수의 활용 : 자기함수 호출: 재귀함수\n",
    "# factorial 함수 정의\n",
    "def factorial(n):\n",
    "    if n == 1:\n",
    "        return 1\n",
    "    else:\n",
    "        return n * factorial(n-1)"
   ]
  },
  {
   "cell_type": "code",
   "execution_count": 37,
   "id": "cdab4b0a",
   "metadata": {},
   "outputs": [
    {
     "data": {
      "text/plain": [
       "87178291200"
      ]
     },
     "execution_count": 37,
     "metadata": {},
     "output_type": "execute_result"
    }
   ],
   "source": [
    "factorial(14)"
   ]
  },
  {
   "cell_type": "code",
   "execution_count": 45,
   "id": "b48abea5",
   "metadata": {},
   "outputs": [],
   "source": [
    "# 피보나치를 구하는 함수 작성\n",
    "def fibonacci(n):\n",
    "    global cnt\n",
    "    cnt +=1\n",
    "    if n == 1 or n == 2 :\n",
    "        return 1\n",
    "    else:\n",
    "        return fibonacci(n-1) + fibonacci(n-2)\n",
    "    "
   ]
  },
  {
   "cell_type": "code",
   "execution_count": null,
   "id": "b7d7c530",
   "metadata": {},
   "outputs": [],
   "source": []
  },
  {
   "cell_type": "code",
   "execution_count": 142,
   "id": "b1d10259",
   "metadata": {},
   "outputs": [],
   "source": [
    "# 메모화 : 메모변수 생성\n",
    "dic_num = {1:1,2:1}\n",
    "\n",
    "def fibo_m(n):\n",
    "    global cnt\n",
    "    cnt +=1\n",
    "    if n in dic_num:\n",
    "        return dic_num[n]\n",
    "    else:\n",
    "        output = fibo_m(n-1) + fibo_m(n-2)\n",
    "        dic_num[n] = output\n",
    "        return output\n",
    "\n"
   ]
  },
  {
   "cell_type": "code",
   "execution_count": 146,
   "id": "fcce55ac",
   "metadata": {
    "scrolled": true
   },
   "outputs": [
    {
     "name": "stdout",
     "output_type": "stream",
     "text": [
      "1\n"
     ]
    }
   ],
   "source": [
    "\n",
    "cnt = 0\n",
    "fibo_m(50)\n",
    "print(cnt)"
   ]
  },
  {
   "cell_type": "code",
   "execution_count": 150,
   "id": "964623fb",
   "metadata": {},
   "outputs": [
    {
     "name": "stdout",
     "output_type": "stream",
     "text": [
      "10\n",
      "20\n"
     ]
    }
   ],
   "source": [
    "# 3. 함수 고급 : tuple -> (), lambda 함수\n",
    "(a,b) = (10,20)\n",
    "print(a)\n",
    "\n",
    "b, a = a,b\n",
    "print(a)"
   ]
  },
  {
   "cell_type": "code",
   "execution_count": 151,
   "id": "9ba1f23f",
   "metadata": {
    "scrolled": true
   },
   "outputs": [
    {
     "name": "stdout",
     "output_type": "stream",
     "text": [
      "10 20\n"
     ]
    }
   ],
   "source": [
    "def test():\n",
    "    return 10, 20\n",
    "a,b = test()\n",
    "print(a,b)"
   ]
  },
  {
   "cell_type": "code",
   "execution_count": 154,
   "id": "84a9c745",
   "metadata": {},
   "outputs": [
    {
     "name": "stdout",
     "output_type": "stream",
     "text": [
      "0번째의 값 1\n",
      "1번째의 값 2\n",
      "2번째의 값 3\n",
      "3번째의 값 4\n",
      "tuple의 값 :  10\n",
      "tuple의 값 :  20\n",
      "tuple의 값 :  30\n"
     ]
    }
   ],
   "source": [
    "# tuple -> a_tuple = (10,20,30) -> 자료의 수정 불가\n",
    "for i, value in enumerate([1,2,3,4]):\n",
    "    print(f\"{i}번째의 값 {value}\")\n",
    "    \n",
    "a_tuple = (10,20,30)\n",
    "for value in a_tuple:\n",
    "    print(\"tuple의 값 : \",value)\n",
    "# a_tuple[0] = 10   수정 불가\n",
    "    \n",
    "    \n",
    "    "
   ]
  },
  {
   "cell_type": "code",
   "execution_count": 158,
   "id": "19d8c54b",
   "metadata": {},
   "outputs": [
    {
     "name": "stdout",
     "output_type": "stream",
     "text": [
      "hello\n",
      "hello\n",
      "hello\n",
      "hello\n",
      "hello\n"
     ]
    }
   ],
   "source": [
    "# 람다 = lambda\n",
    "# 함수의 매개변수로 함수명 전달\n",
    "def call_10_times(func):\n",
    "    for i in range(5):\n",
    "        func()\n",
    "def print_hello():\n",
    "    print(\"hello\")\n",
    "    \n",
    "call_10_times(print_hello)"
   ]
  },
  {
   "cell_type": "code",
   "execution_count": 159,
   "id": "b322bd61",
   "metadata": {},
   "outputs": [],
   "source": [
    "def power(item):\n",
    "    return item * item\n",
    "def under_3(item):\n",
    "    return item < 3\n"
   ]
  },
  {
   "cell_type": "code",
   "execution_count": 164,
   "id": "e87d3667",
   "metadata": {},
   "outputs": [
    {
     "name": "stdout",
     "output_type": "stream",
     "text": [
      "[1, 4, 9, 16, 25]\n",
      "[1, 2]\n"
     ]
    }
   ],
   "source": [
    "# map(함수명, 리스트) -> 리스트의 각각의 값을 함수에 적용\n",
    "# filter(함수명, 리스트) -> 함수의 리턴값이 True인 자료만 추출\n",
    "input_list = [1,2,3,4,5]\n",
    "\n",
    "output = map(power,input_list)\n",
    "print(list(output))\n",
    "\n",
    "print(list(filter(under_3, input_list)))\n",
    "\n"
   ]
  },
  {
   "cell_type": "code",
   "execution_count": 165,
   "id": "95dd804d",
   "metadata": {},
   "outputs": [
    {
     "name": "stdout",
     "output_type": "stream",
     "text": [
      "[1, 4, 9, 16, 25]\n",
      "[1, 2]\n"
     ]
    }
   ],
   "source": [
    "# lambda 매개변수 : 리턴 값\n",
    "power = lambda x: x*x\n",
    "under_3 = lambda x: x<3\n",
    "\n",
    "input_list = [1,2,3,4,5]\n",
    "\n",
    "output = map(power,input_list)\n",
    "print(list(output))\n",
    "\n",
    "print(list(filter(under_3, input_list)))"
   ]
  },
  {
   "cell_type": "code",
   "execution_count": 167,
   "id": "2e93470b",
   "metadata": {},
   "outputs": [
    {
     "name": "stdout",
     "output_type": "stream",
     "text": [
      "[1, 4, 9, 16, 25]\n",
      "[1, 2]\n"
     ]
    }
   ],
   "source": [
    "# lambda 매개변수 : 리턴 값\n",
    "\n",
    "input_list = [1,2,3,4,5]\n",
    "\n",
    "output = map(lambda x: x*x,input_list)\n",
    "print(list(output))\n",
    "\n",
    "print(list(filter(lambda x: x<3, input_list)))"
   ]
  },
  {
   "cell_type": "code",
   "execution_count": 172,
   "id": "b3a78655",
   "metadata": {},
   "outputs": [
    {
     "name": "stderr",
     "output_type": "stream",
     "text": [
      "하위 디렉터리 또는 파일 dataset이(가) 이미 있습니다.\n"
     ]
    }
   ],
   "source": [
    "# 파일 처리 : open() , file.write() , file.close() , file.read()\n",
    "# 현재 경로에서 새로운 디렉토리 dataset 생성\n",
    "# dataset 안에 새로운 파일 test.txt 파일을 생성\n",
    "# test.txt 파일에 'hello python programing'을 작성하고 파일 close()\n",
    "\n",
    "!mkdir dataset\n",
    "\n",
    "\n"
   ]
  },
  {
   "cell_type": "code",
   "execution_count": 200,
   "id": "1dcf0f0d",
   "metadata": {},
   "outputs": [],
   "source": [
    "file = open('./dataset/test.txt','w')\n",
    "file.write('hello python programing')\n",
    "file.close()"
   ]
  },
  {
   "cell_type": "code",
   "execution_count": 208,
   "id": "521e3dd3",
   "metadata": {},
   "outputs": [
    {
     "name": "stdout",
     "output_type": "stream",
     "text": [
      "hello python programing\n"
     ]
    }
   ],
   "source": [
    "file = open('./dataset/test.txt','r+')\n",
    "contents = file.read()\n",
    "print(contents)\n",
    "file.write('\\nhello python programing read ')\n",
    "file.close()"
   ]
  },
  {
   "cell_type": "code",
   "execution_count": 209,
   "id": "47d10fc9",
   "metadata": {},
   "outputs": [
    {
     "name": "stdout",
     "output_type": "stream",
     "text": [
      "hello python programing\n",
      "hello python programing read \n"
     ]
    },
    {
     "ename": "ValueError",
     "evalue": "I/O operation on closed file.",
     "output_type": "error",
     "traceback": [
      "\u001b[1;31m---------------------------------------------------------------------------\u001b[0m",
      "\u001b[1;31mValueError\u001b[0m                                Traceback (most recent call last)",
      "Input \u001b[1;32mIn [209]\u001b[0m, in \u001b[0;36m<cell line: 5>\u001b[1;34m()\u001b[0m\n\u001b[0;32m      3\u001b[0m     contents \u001b[38;5;241m=\u001b[39m file\u001b[38;5;241m.\u001b[39mread()\n\u001b[0;32m      4\u001b[0m \u001b[38;5;28mprint\u001b[39m(contents)\n\u001b[1;32m----> 5\u001b[0m \u001b[43mfile\u001b[49m\u001b[38;5;241;43m.\u001b[39;49m\u001b[43mwrite\u001b[49m\u001b[43m(\u001b[49m\u001b[38;5;124;43m'\u001b[39;49m\u001b[38;5;124;43mtest\u001b[39;49m\u001b[38;5;124;43m'\u001b[39;49m\u001b[43m)\u001b[49m\n",
      "\u001b[1;31mValueError\u001b[0m: I/O operation on closed file."
     ]
    }
   ],
   "source": [
    "# file open with 와 같이 사용 -> with 종료시 자동으로 파일 close 됨\n",
    "with open('./dataset/test.txt','r+') as file:\n",
    "    contents = file.read()\n",
    "print(contents)\n",
    "file.write('test')"
   ]
  },
  {
   "cell_type": "code",
   "execution_count": 210,
   "id": "97ad5e1d",
   "metadata": {},
   "outputs": [
    {
     "data": {
      "text/plain": [
       "'C:\\\\Users\\\\HPE\\\\summary'"
      ]
     },
     "execution_count": 210,
     "metadata": {},
     "output_type": "execute_result"
    }
   ],
   "source": [
    "import os\n",
    "os.getcwd()               #현재 디렉토리의 전체 full 경로 보여줌\n",
    "\n",
    "pwd"
   ]
  },
  {
   "cell_type": "code",
   "execution_count": 214,
   "id": "15fa2079",
   "metadata": {
    "scrolled": true
   },
   "outputs": [
    {
     "name": "stdout",
     "output_type": "stream",
     "text": [
      "main start \n",
      "first\n",
      "1\n",
      "main 111 start \n",
      "second\n",
      "2\n",
      "main 222 start \n",
      "third\n",
      "3\n"
     ]
    }
   ],
   "source": [
    "#제너레이터 함수 작성 : 함수 내부에 yield 키워드를 사용\n",
    "def gen_test():\n",
    "    print('first')\n",
    "    yield 1\n",
    "    \n",
    "    print('second')\n",
    "    yield 2\n",
    "    \n",
    "    print('third')\n",
    "    yield 3\n",
    "    \n",
    "o_func = gen_test()\n",
    "print(\"main start \")\n",
    "a = next(o_func)\n",
    "print(a)\n",
    "    \n",
    "print(\"main 111 start \")\n",
    "a = next(o_func)\n",
    "print(a)\n",
    "    \n",
    "print(\"main 222 start \")\n",
    "a = next(o_func)\n",
    "print(a)\n",
    "    \n",
    "\n"
   ]
  },
  {
   "cell_type": "code",
   "execution_count": 226,
   "id": "5921fcf1",
   "metadata": {},
   "outputs": [
    {
     "name": "stdout",
     "output_type": "stream",
     "text": [
      "{'제목': '혼자 공부하는 파이썬', '가격': 18000}\n",
      "{'제목': '혼자 공부하는 파이썬 222', '가격': 26000}\n"
     ]
    }
   ],
   "source": [
    "books = [{\"제목\":'혼자 공부하는 파이썬',\"가격\":18000},\n",
    "        {\"제목\":'혼자 공부하는 파이썬 222',\"가격\":26000},\n",
    "        {\"제목\":'혼자 공부하는 자바',\"가격\":24000}]\n",
    "\n",
    "# 가격이 가장 저렴한 책의 정보 출력\n",
    "print(min(books, key=lambda book: book['가격']))\n",
    "\n",
    "# 가격이 가장 비싼 책의 정보 출력\n",
    "print(max(books, key=lambda book: book['가격']))\n"
   ]
  },
  {
   "cell_type": "code",
   "execution_count": 227,
   "id": "ef72fe00",
   "metadata": {},
   "outputs": [
    {
     "data": {
      "text/plain": [
       "{'제목': '혼자 공부하는 파이썬', '가격': 18000}"
      ]
     },
     "execution_count": 227,
     "metadata": {},
     "output_type": "execute_result"
    }
   ],
   "source": [
    "def 가격추출함수(book):\n",
    "    return book['가격']\n",
    "\n",
    "min(books, key=가격추출함수)"
   ]
  },
  {
   "cell_type": "code",
   "execution_count": 228,
   "id": "6e1b7711",
   "metadata": {},
   "outputs": [
    {
     "name": "stdout",
     "output_type": "stream",
     "text": [
      "{'제목': '혼자 공부하는 파이썬', '가격': 18000}\n",
      "{'제목': '혼자 공부하는 자바', '가격': 24000}\n",
      "{'제목': '혼자 공부하는 파이썬 222', '가격': 26000}\n"
     ]
    }
   ],
   "source": [
    "books.sort(key=lambda book: book['가격'] )\n",
    "for book in books:\n",
    "    print(book)"
   ]
  },
  {
   "cell_type": "code",
   "execution_count": null,
   "id": "eef06621",
   "metadata": {},
   "outputs": [],
   "source": [
    "\n",
    "      \n",
    "\n",
    "\n",
    "\n"
   ]
  },
  {
   "cell_type": "markdown",
   "id": "1ce396b8",
   "metadata": {},
   "source": [
    "# CH6 예외 처리"
   ]
  },
  {
   "cell_type": "code",
   "execution_count": 251,
   "id": "6020d60c",
   "metadata": {},
   "outputs": [
    {
     "name": "stdout",
     "output_type": "stream",
     "text": [
      "정수 입력 ㅁ\n",
      "정수가 입력되지 않음\n"
     ]
    }
   ],
   "source": [
    "# 실행 오류 : try ~ except ~ else ~ finally\n",
    "# 실행 오류가 발생할 수 있는 코드 작성\n",
    "try:\n",
    "    input_num = int(input(\"정수 입력 \"))\n",
    "    \n",
    "    print(\"원의 반지름: \", input_num)\n",
    "    print(\"원의 둘레: \", input_num * 2 * 3.141592)\n",
    "\n",
    "except:\n",
    "    print(\"정수가 입력되지 않음\")"
   ]
  },
  {
   "cell_type": "code",
   "execution_count": 255,
   "id": "9c15bfc0",
   "metadata": {},
   "outputs": [
    {
     "name": "stdout",
     "output_type": "stream",
     "text": [
      "정수 입력 10\n",
      "원의 반지름:  10\n",
      "원의 둘레:  62.83184\n",
      "program end !!\n"
     ]
    }
   ],
   "source": [
    "# 실행 오류가 발생할 수 있는 코드 작성\n",
    "# try ~ except -> 기본\n",
    "# try:\n",
    "#     예외 발생 코드\n",
    "# except:\n",
    "#     예외 발생시 실행 코드\n",
    "# else:\n",
    "#     정상 작동시 실행 코드\n",
    "    \n",
    "try:\n",
    "    input_num = int(input(\"정수 입력 \"))\n",
    "    \n",
    "except:\n",
    "    print(\"정수가 입력되지 않음\")\n",
    "\n",
    "else:\n",
    "    \n",
    "    print(\"원의 반지름: \", input_num)\n",
    "    print(\"원의 둘레: \", input_num * 2 * 3.141592)\n",
    "    \n",
    "finally:\n",
    "    print(\"program end !!\")    # 무조건 실행"
   ]
  },
  {
   "cell_type": "code",
   "execution_count": 261,
   "id": "6017afb8",
   "metadata": {},
   "outputs": [
    {
     "name": "stdout",
     "output_type": "stream",
     "text": [
      "이름 성적 입력: a a\n",
      "입력 자료 검증 : invalid literal for int() with base 10: 'a'\n",
      "try end!!\n"
     ]
    },
    {
     "data": {
      "text/plain": [
       "True"
      ]
     },
     "execution_count": 261,
     "metadata": {},
     "output_type": "execute_result"
    }
   ],
   "source": [
    "# file 처리시 예외 처리 응용\n",
    "try:\n",
    "    file = open('./dataset/try.txt','w')\n",
    "    input_data = input(\"이름 성적 입력: \").split()\n",
    "    score = int(input_data[1])\n",
    "    file.write(\"input_data\",str(score))\n",
    "    \n",
    "except Exception as e:\n",
    "    print(\"입력 자료 검증 :\",e)\n",
    "    \n",
    "finally:\n",
    "    print(\"try end!!\")\n",
    "    file.close()\n",
    "\n",
    "    \n",
    "    \n",
    "# file.write('\\nend\\n')\n",
    "file.closed"
   ]
  },
  {
   "cell_type": "code",
   "execution_count": 262,
   "id": "5b9df5d5",
   "metadata": {},
   "outputs": [
    {
     "name": "stdout",
     "output_type": "stream",
     "text": [
      "try 구문 실행 \n",
      "try end!!\n"
     ]
    }
   ],
   "source": [
    "def test_func():\n",
    "    try:\n",
    "        print(\"try 구문 실행 \")\n",
    "        return\n",
    "    except :\n",
    "        print(\"except 구문 실행\")\n",
    "    else:\n",
    "        print('else 구문 실행')\n",
    "    finally:\n",
    "        print(\"try end!!\")\n",
    "test_func()"
   ]
  },
  {
   "cell_type": "code",
   "execution_count": 263,
   "id": "16f2989f",
   "metadata": {},
   "outputs": [
    {
     "name": "stdout",
     "output_type": "stream",
     "text": [
      "try 구문 실행 \n",
      "try end!!\n"
     ]
    }
   ],
   "source": [
    "while True:\n",
    "    try:\n",
    "        print(\"try 구문 실행 \")\n",
    "        break\n",
    "    except :\n",
    "        print(\"except 구문 실행\")\n",
    "    else:\n",
    "        print('else 구문 실행')\n",
    "    finally:\n",
    "        print(\"try end!!\")"
   ]
  },
  {
   "cell_type": "code",
   "execution_count": null,
   "id": "be7bd1a4",
   "metadata": {},
   "outputs": [],
   "source": []
  },
  {
   "cell_type": "code",
   "execution_count": null,
   "id": "dba98a8c",
   "metadata": {},
   "outputs": [],
   "source": []
  },
  {
   "cell_type": "code",
   "execution_count": null,
   "id": "5beb702d",
   "metadata": {},
   "outputs": [],
   "source": []
  },
  {
   "cell_type": "code",
   "execution_count": null,
   "id": "1a5cdf46",
   "metadata": {},
   "outputs": [],
   "source": []
  },
  {
   "cell_type": "code",
   "execution_count": null,
   "id": "afaf3a24",
   "metadata": {},
   "outputs": [],
   "source": []
  },
  {
   "cell_type": "code",
   "execution_count": null,
   "id": "1900afc7",
   "metadata": {},
   "outputs": [],
   "source": []
  },
  {
   "cell_type": "code",
   "execution_count": null,
   "id": "de85899e",
   "metadata": {},
   "outputs": [],
   "source": []
  },
  {
   "cell_type": "code",
   "execution_count": null,
   "id": "6c45927a",
   "metadata": {},
   "outputs": [],
   "source": []
  }
 ],
 "metadata": {
  "kernelspec": {
   "display_name": "Python 3 (ipykernel)",
   "language": "python",
   "name": "python3"
  },
  "language_info": {
   "codemirror_mode": {
    "name": "ipython",
    "version": 3
   },
   "file_extension": ".py",
   "mimetype": "text/x-python",
   "name": "python",
   "nbconvert_exporter": "python",
   "pygments_lexer": "ipython3",
   "version": "3.9.12"
  }
 },
 "nbformat": 4,
 "nbformat_minor": 5
}
