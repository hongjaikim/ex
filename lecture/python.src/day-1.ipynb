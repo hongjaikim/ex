{
 "cells": [
  {
   "cell_type": "code",
   "execution_count": 2,
   "id": "8e0ff10f",
   "metadata": {
    "scrolled": true
   },
   "outputs": [
    {
     "name": "stdout",
     "output_type": "stream",
     "text": [
      "['False', 'None', 'True', '__peg_parser__', 'and', 'as', 'assert', 'async', 'await', 'break', 'class', 'continue', 'def', 'del', 'elif', 'else', 'except', 'finally', 'for', 'from', 'global', 'if', 'import', 'in', 'is', 'lambda', 'nonlocal', 'not', 'or', 'pass', 'raise', 'return', 'try', 'while', 'with', 'yield']\n"
     ]
    }
   ],
   "source": [
    "# 키워드 확인\n",
    "import keyword\n",
    "\n",
    "print(keyword.kwlist)"
   ]
  },
  {
   "cell_type": "code",
   "execution_count": 3,
   "id": "1f5edf9e",
   "metadata": {},
   "outputs": [],
   "source": [
    "keyword.kwlist = 10"
   ]
  },
  {
   "cell_type": "code",
   "execution_count": null,
   "id": "f96f9488",
   "metadata": {},
   "outputs": [],
   "source": []
  },
  {
   "cell_type": "code",
   "execution_count": 4,
   "id": "0adbe065",
   "metadata": {
    "scrolled": true
   },
   "outputs": [
    {
     "name": "stdout",
     "output_type": "stream",
     "text": [
      "test 20 + 30 = 50\n"
     ]
    }
   ],
   "source": [
    "print(\"test\", '20 + 30 =', 20+30)"
   ]
  },
  {
   "cell_type": "code",
   "execution_count": 5,
   "id": "9d64c803",
   "metadata": {},
   "outputs": [
    {
     "name": "stdout",
     "output_type": "stream",
     "text": [
      "test\t20 + 30 =\t50\n"
     ]
    }
   ],
   "source": [
    "print(\"test\", '20 + 30 =', 20+30, sep='\\t')"
   ]
  },
  {
   "cell_type": "code",
   "execution_count": null,
   "id": "09a35ceb",
   "metadata": {},
   "outputs": [],
   "source": []
  },
  {
   "cell_type": "code",
   "execution_count": null,
   "id": "0be80bdf",
   "metadata": {},
   "outputs": [],
   "source": []
  },
  {
   "cell_type": "code",
   "execution_count": 7,
   "id": "363c5447",
   "metadata": {},
   "outputs": [
    {
     "name": "stdout",
     "output_type": "stream",
     "text": [
      "# 하나만 출력합니다.\n",
      "Hello Python Programing\n",
      "\n",
      "# 여러 개를 출력합니다.\n",
      "10 20 30 40 50\n",
      "안녕하세요 저의 이름은 김홍재입니다!\n",
      "\n",
      "# 아무것도 출력하지 않습니다.\n",
      "--- 확인 전용선--- \n",
      "\n",
      "\n",
      "--- 확인 전용선 ---\n"
     ]
    }
   ],
   "source": [
    "# 하나만 출력합니다.\n",
    "print(\"# 하나만 출력합니다.\")\n",
    "print(\"Hello Python Programing\")\n",
    "print()\n",
    "\n",
    "# 여러 개를 출력합니다.\n",
    "print(\"# 여러 개를 출력합니다.\")\n",
    "print(10, 20, 30, 40, 50)\n",
    "print(\"안녕하세요\", \"저의\", \"이름은\", \"김홍재입니다!\")\n",
    "print()\n",
    "\n",
    "# 아무것도 입력하지 않으면 단순하게 줄바꿈합니다.\n",
    "print(\"# 아무것도 출력하지 않습니다.\")\n",
    "print(\"--- 확인 전용선--- \")\n",
    "print()\n",
    "print()\n",
    "print(\"--- 확인 전용선 ---\")\n",
    "\n",
    "\n"
   ]
  },
  {
   "cell_type": "code",
   "execution_count": null,
   "id": "3143f8cb",
   "metadata": {},
   "outputs": [],
   "source": []
  },
  {
   "cell_type": "code",
   "execution_count": null,
   "id": "7344dda3",
   "metadata": {},
   "outputs": [],
   "source": [
    "# 키워드 import keyword -> keyword.keylist 에서 확인\n",
    "# 식별자 : 문자 시작, _ 가능, 숫자 시작 안됨, 공백 안됨, 키워드 안됨\n",
    "# 식별자들 작성 규칙 : 캐멀(클래스), 스네이크( 변수, 함수), 함수는 ()\n"
   ]
  },
  {
   "cell_type": "markdown",
   "id": "3779a8a3",
   "metadata": {},
   "source": [
    "## chaptor 02 자료형\n",
    "### 01 자료형과 문자열"
   ]
  },
  {
   "cell_type": "code",
   "execution_count": 15,
   "id": "247a7af7",
   "metadata": {
    "scrolled": true
   },
   "outputs": [
    {
     "name": "stdout",
     "output_type": "stream",
     "text": [
      "문자열의 데이터 타입 :  <class 'str'>\n",
      "숫자의 데이터 타입 정수/소수 :  <class 'int'> / <class 'float'>\n",
      "불리언의 데이터 타입 :  <class 'bool'>\n"
     ]
    }
   ],
   "source": [
    "# python의 자료형은 : 문자열, 숫자, 불(T/F) 타입으로 세가지만 존재\n",
    "print('문자열의 데이터 타입 : ', type('문자열'))\n",
    "print('숫자의 데이터 타입 정수/소수 : ', type(10), \"/\", type(10.4))\n",
    "print('불리언의 데이터 타입 : ', type(True))\n"
   ]
  },
  {
   "cell_type": "code",
   "execution_count": null,
   "id": "acfe516b",
   "metadata": {},
   "outputs": [],
   "source": []
  },
  {
   "cell_type": "code",
   "execution_count": 19,
   "id": "abe911bd",
   "metadata": {},
   "outputs": [
    {
     "name": "stdout",
     "output_type": "stream",
     "text": [
      "' 안녕하세요 !! '\n",
      "\\ \\ \\ \n",
      "이름\t나이\t지역\n",
      "안녕\n",
      "안녕\n"
     ]
    }
   ],
   "source": [
    "# 이스케이프 문자를 활용하여 문자열 만들기 : \\\" -> 일반 문자 \"\n",
    "# \\t : 탭, \\n : 뉴라인\n",
    "print('\\' 안녕하세요 !! \\'')\n",
    "print(\"\\\\ \\\\ \\\\ \")\n",
    "print(\"이름\\t나이\\t지역\")\n",
    "print(\"안녕\\n안녕\")"
   ]
  },
  {
   "cell_type": "code",
   "execution_count": 20,
   "id": "7df869d0",
   "metadata": {},
   "outputs": [
    {
     "name": "stdout",
     "output_type": "stream",
     "text": [
      "1라인\n",
      "2라인\n",
      "\n",
      "1라인\n",
      "2라인\n"
     ]
    }
   ],
   "source": [
    "# 여러 라인의 문자를 출력하기\n",
    "print(\"1라인\\n2라인\")\n",
    "print()\n",
    "print('''1라인\n",
    "2라인''')"
   ]
  },
  {
   "cell_type": "code",
   "execution_count": 21,
   "id": "165023bc",
   "metadata": {},
   "outputs": [
    {
     "name": "stdout",
     "output_type": "stream",
     "text": [
      "' 안녕하세요 !! '           \n"
     ]
    }
   ],
   "source": [
    "# 명령어가 1라인 이상으로 길어질 때 \\\n",
    "print('\\' 안녕하세요 !! \\'           \\\n",
    "')"
   ]
  },
  {
   "cell_type": "code",
   "execution_count": null,
   "id": "bf2fb674",
   "metadata": {},
   "outputs": [],
   "source": [
    "# 문자열 연산자, 문자열 자르기, 문자열 길이 구하기\n",
    "# 문자열 + 문자열 -> 이어붙이기\n",
    "# 문자열 * 숫자 -> 숫자만큼 문자열 반복"
   ]
  },
  {
   "cell_type": "code",
   "execution_count": 22,
   "id": "77bb6aaa",
   "metadata": {},
   "outputs": [
    {
     "name": "stdout",
     "output_type": "stream",
     "text": [
      "안녕하세요\n"
     ]
    }
   ],
   "source": [
    "print(\"안녕\" + '하세요')"
   ]
  },
  {
   "cell_type": "code",
   "execution_count": 23,
   "id": "b33a5ebc",
   "metadata": {},
   "outputs": [
    {
     "name": "stdout",
     "output_type": "stream",
     "text": [
      "안녕하세요안녕하세요안녕하세요\n"
     ]
    }
   ],
   "source": [
    "print(3*'안녕하세요')"
   ]
  },
  {
   "cell_type": "code",
   "execution_count": null,
   "id": "2913dbbe",
   "metadata": {},
   "outputs": [],
   "source": []
  },
  {
   "cell_type": "code",
   "execution_count": 34,
   "id": "76274b46",
   "metadata": {},
   "outputs": [
    {
     "name": "stdout",
     "output_type": "stream",
     "text": [
      "5\n",
      "안 요\n",
      "안녕\n",
      "녕하\n",
      "세요\n"
     ]
    }
   ],
   "source": [
    "# 문자열 자르기 : 문자열[시작인덱스 : 마지막인덱스] -> 시작은 포함, 마지막은 미포함\n",
    "hello='안녕하세요'\n",
    "\n",
    "#전체 문자열 길이 : len(hello)\n",
    "print(len(hello))\n",
    "\n",
    "#처음 문자와 마지막 문자 출력\n",
    "print(hello[0], hello[-1])\n",
    "\n",
    "#처음 2글자 출력\n",
    "print(hello[:2])\n",
    "\n",
    "#2번째 문자와 3번째 문자 출력\n",
    "print(hello[1:3])\n",
    "\n",
    "#3번째 문자부터 끝까지 출력\n",
    "print(hello[3:])\n"
   ]
  },
  {
   "cell_type": "code",
   "execution_count": 35,
   "id": "bc66ae8b",
   "metadata": {},
   "outputs": [
    {
     "name": "stdout",
     "output_type": "stream",
     "text": [
      "요\n"
     ]
    }
   ],
   "source": [
    "# 문자열의 길이를 구해서 마지막 문자 출력\n",
    "\n",
    "hello=\"안녕하세요\"\n",
    "print(hello[len(hello)-1])"
   ]
  },
  {
   "cell_type": "markdown",
   "id": "82158a31",
   "metadata": {},
   "source": [
    "### 02 숫자"
   ]
  },
  {
   "cell_type": "code",
   "execution_count": null,
   "id": "282fbc9a",
   "metadata": {},
   "outputs": [],
   "source": [
    "###\n",
    "#숫자 연산자 // : 몫 (나머지 버림), % : 나머지, ** : 거듭제곱\n"
   ]
  },
  {
   "cell_type": "code",
   "execution_count": 36,
   "id": "68cd79fd",
   "metadata": {},
   "outputs": [],
   "source": [
    "# 시프트L : 라인넘버 표시"
   ]
  },
  {
   "cell_type": "code",
   "execution_count": null,
   "id": "3b9b913e",
   "metadata": {},
   "outputs": [],
   "source": []
  },
  {
   "cell_type": "markdown",
   "id": "45fab22e",
   "metadata": {},
   "source": [
    "### 3.변수의 활용"
   ]
  },
  {
   "cell_type": "code",
   "execution_count": 45,
   "id": "7ecff2ca",
   "metadata": {},
   "outputs": [
    {
     "data": {
      "text/plain": [
       "20"
      ]
     },
     "execution_count": 45,
     "metadata": {},
     "output_type": "execute_result"
    }
   ],
   "source": [
    "var_a = 10\n",
    "var_a\n",
    "\n",
    "var_b = 20\n",
    "var_b"
   ]
  },
  {
   "cell_type": "code",
   "execution_count": 49,
   "id": "53b41161",
   "metadata": {},
   "outputs": [],
   "source": [
    "# 복합 대입 연산자\n",
    "# += -= *= /= %= **= 활용\n",
    "# a += b -> a = a + b\n",
    "# 문자열도 가능\n",
    "# 사칙연산자랑 대입연산자 사이에 띄어쓰기 불가"
   ]
  },
  {
   "cell_type": "code",
   "execution_count": 52,
   "id": "26c24fd2",
   "metadata": {},
   "outputs": [],
   "source": [
    "# input() -> 사용자가 입력하는 함수 (문자로 인식)(괄호안에 설명문)\n"
   ]
  },
  {
   "cell_type": "code",
   "execution_count": 58,
   "id": "0c682953",
   "metadata": {
    "scrolled": true
   },
   "outputs": [
    {
     "name": "stdout",
     "output_type": "stream",
     "text": [
      "숫자를 입력하세요 : 123\n",
      "<class 'str'>\n",
      "<class 'int'>\n"
     ]
    }
   ],
   "source": [
    "# 숫자를 입력햇 변수에 저장 후 변수의 데이터 타입을 확인해 보세요\n",
    "asd = input(\"숫자를 입력하세요 : \")\n",
    "print(type(asd))\n",
    "print(type(int(asd)))"
   ]
  },
  {
   "cell_type": "code",
   "execution_count": 72,
   "id": "3e325128",
   "metadata": {},
   "outputs": [],
   "source": [
    "# 데이터 타입 변경 int(), float(), str()\n"
   ]
  },
  {
   "cell_type": "markdown",
   "id": "d9daf9fe",
   "metadata": {},
   "source": [
    "### 4. 숫자와 문자열의 다양한 기능"
   ]
  },
  {
   "cell_type": "code",
   "execution_count": 105,
   "id": "021a45a1",
   "metadata": {},
   "outputs": [
    {
     "data": {
      "text/plain": [
       "'1 + 2 = 3'"
      ]
     },
     "execution_count": 105,
     "metadata": {},
     "output_type": "execute_result"
    }
   ],
   "source": [
    "# 문자열.format()\n",
    "# 중괄호로 형식을 만들고 포맷으로 문자열로 간단하게 대입\n",
    "\"{} {}\".format(10,str)\n",
    "\"{} + {} = {}\".format(1,2,3)"
   ]
  },
  {
   "cell_type": "code",
   "execution_count": 106,
   "id": "c6c5aa14",
   "metadata": {},
   "outputs": [
    {
     "name": "stdout",
     "output_type": "stream",
     "text": [
      "52\n",
      "52\n",
      "   52\n",
      "00052\n",
      "-0052\n"
     ]
    }
   ],
   "source": [
    "#정수 출력에서 format() 함수 활용\n",
    "print(\"{}\".format(52))\n",
    "print(\"{:d}\".format(52))\n",
    "print(\"{:5d}\".format(52))\n",
    "print(\"{:05d}\".format(52))\n",
    "print(\"{:05d}\".format(-52))"
   ]
  },
  {
   "cell_type": "code",
   "execution_count": 116,
   "id": "67fde2a8",
   "metadata": {},
   "outputs": [
    {
     "name": "stdout",
     "output_type": "stream",
     "text": [
      "-52\n",
      "+52\n",
      " 52\n",
      "-52\n",
      "  -52\n",
      "  +52\n",
      "+  52\n",
      "-  52\n",
      "52.12\n",
      " 52.123450\n",
      "52\n"
     ]
    }
   ],
   "source": [
    "# 기호와 함께 출력\n",
    "print(\"{:+d}\".format(-52))\n",
    "print(\"{:+d}\".format(52))\n",
    "\n",
    "print(\"{: d}\".format(52))\n",
    "print(\"{: d}\".format(-52))\n",
    "\n",
    "print(\"{:+5d}\".format(-52))     # 부호와 함께 표현\n",
    "print(\"{:+5d}\".format(52))      \n",
    "\n",
    "print(\"{:=+5d}\".format(52))          #부호를 앞으로 밀기\n",
    "print(\"{:=+5d}\".format(-52))\n",
    "\n",
    "print(\"{:5.2f}\".format(52.12345))      #소수점 2자리 표현\n",
    "print(\"{:10f}\".format(52.12345))       #실수 표현\n",
    "\n",
    "print(\"{:g}\".format(52.0))       #의미없는 소수점 버리기\n"
   ]
  },
  {
   "cell_type": "code",
   "execution_count": 124,
   "id": "204702fe",
   "metadata": {},
   "outputs": [
    {
     "name": "stdout",
     "output_type": "stream",
     "text": [
      "첫 번째 수를 입력하세요123\n",
      "두 번째 수를 입력하세요321\n",
      "입력 받은 두 수는 123, 321\n",
      "입력 받은 두 수 123과 321의 합은 444\n",
      "입력 받은 두 수 123과 321의 곱은 39483\n",
      "입력 받은 두 수 123과 321의 차는 -198\n",
      "입력 받은 두 수 123과 321의 나눈 나머지는 123\n"
     ]
    }
   ],
   "source": [
    "# 두 개의 숫자를 입력 받아 두 수의 합과 곱, 차, 나머지 값을 다음의 형식으로 출력\n",
    "# 1. 입력 받은 두 수는 10, 20\n",
    "# 2. 입력 받은 두 수 10과 20의 합은 30\n",
    "# 3. 입력 받은 두 수 10과 20의 곱은 200\n",
    "# 4. 입력 받은 두 수 10과 20의 차는 -10\n",
    "# 5. 입력 받은 두 수 10과 20의 나눈 나머지는 10\n",
    "asd1 = int(input(\"첫 번째 수를 입력하세요\"))\n",
    "asd2 = int(input(\"두 번째 수를 입력하세요\"))\n",
    "qwe = \"입력 받은 두 수\"\n",
    "print(\"{}는 {}, {}\".format(qwe,asd1,asd2))\n",
    "print(\"{} {}과 {}의 합은 {}\".format(qwe,asd1,asd2,asd1+asd2))\n",
    "print(\"{} {}과 {}의 곱은 {}\".format(qwe,asd1,asd2,asd1*asd2))\n",
    "print(\"{} {}과 {}의 차는 {}\".format(qwe,asd1,asd2,asd1-asd2))\n",
    "print(\"{} {}과 {}의 나눈 나머지는 {}\".format(qwe,asd1,asd2,asd1%asd2))"
   ]
  },
  {
   "cell_type": "code",
   "execution_count": null,
   "id": "6b52f934",
   "metadata": {},
   "outputs": [],
   "source": []
  },
  {
   "cell_type": "code",
   "execution_count": null,
   "id": "a0733c75",
   "metadata": {},
   "outputs": [],
   "source": []
  },
  {
   "cell_type": "code",
   "execution_count": null,
   "id": "6b9c13d2",
   "metadata": {},
   "outputs": [],
   "source": []
  },
  {
   "cell_type": "code",
   "execution_count": null,
   "id": "dd0e6c08",
   "metadata": {},
   "outputs": [],
   "source": []
  },
  {
   "cell_type": "code",
   "execution_count": null,
   "id": "6311e995",
   "metadata": {},
   "outputs": [],
   "source": []
  }
 ],
 "metadata": {
  "kernelspec": {
   "display_name": "Python 3 (ipykernel)",
   "language": "python",
   "name": "python3"
  },
  "language_info": {
   "codemirror_mode": {
    "name": "ipython",
    "version": 3
   },
   "file_extension": ".py",
   "mimetype": "text/x-python",
   "name": "python",
   "nbconvert_exporter": "python",
   "pygments_lexer": "ipython3",
   "version": "3.9.12"
  }
 },
 "nbformat": 4,
 "nbformat_minor": 5
}
