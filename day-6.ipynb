{
 "cells": [
  {
   "cell_type": "code",
   "execution_count": 4,
   "id": "c59d44ff",
   "metadata": {},
   "outputs": [
    {
     "name": "stdout",
     "output_type": "stream",
     "text": [
      "생성\n",
      "생성\n",
      "파괴\n",
      "파괴\n"
     ]
    }
   ],
   "source": [
    "# 가비지 컬렉터 : 더 이상 사용하지 않는 클래스 변수를 제거(못쓰게 된, 자동으로)\n",
    "# __del__(self):\n",
    "\n",
    "class Test:\n",
    "    def __init__(self,name):\n",
    "        print(\"생성\")\n",
    "        self.name = name\n",
    "    def __del__(self):\n",
    "        print('파괴')\n",
    "        \n",
    "a = Test('a')\n",
    "Test('b')\n",
    "\n",
    "del a"
   ]
  },
  {
   "cell_type": "code",
   "execution_count": 11,
   "id": "64c8271a",
   "metadata": {
    "scrolled": true
   },
   "outputs": [
    {
     "name": "stdout",
     "output_type": "stream",
     "text": [
      "90\n",
      "100\n"
     ]
    }
   ],
   "source": [
    "# 프라이빗 변수와 게터/세터\n",
    "# 프라이빗 변수 : 외부에서 클래스 인스턴스의 값을 수정하지 못하도록 함\n",
    "class Test:\n",
    "    def __init__(self,score):\n",
    "        self.score = score\n",
    "    def get_score(self):\n",
    "        return self.score\n",
    "    def set_score(self,value):\n",
    "        self.score = value\n",
    "        \n",
    "a = Test(90)\n",
    "print(a.score)\n",
    "a.score = 100\n",
    "print(a.score)\n",
    "\n"
   ]
  },
  {
   "cell_type": "code",
   "execution_count": 26,
   "id": "f1bb474a",
   "metadata": {},
   "outputs": [
    {
     "name": "stdout",
     "output_type": "stream",
     "text": [
      "90\n",
      "90\n",
      "100\n"
     ]
    }
   ],
   "source": [
    "class Test:\n",
    "    def __init__(self,score):\n",
    "        self.__score = score                 #프라이빗 변수 선언, 외부에서 접근 불가\n",
    "    def get_score(self):                     #내부 함수에서만 접근 가능\n",
    "        return self.__score\n",
    "    def set_score(self,value):\n",
    "        self.__score = value\n",
    "        \n",
    "a = Test(90)\n",
    "print(a.get_score())\n",
    "a.score = 100\n",
    "print(a.get_score())\n",
    "a.set_score(100)\n",
    "print(a.get_score())"
   ]
  },
  {
   "cell_type": "code",
   "execution_count": 35,
   "id": "49df2e9a",
   "metadata": {},
   "outputs": [
    {
     "name": "stdout",
     "output_type": "stream",
     "text": [
      "100\n",
      "90\n"
     ]
    }
   ],
   "source": [
    "# @property, setter 함수를 활용 프라이빗 변수 적용\n",
    "class Test:\n",
    "    def __init__(self,score):\n",
    "        self.__score = score                 #프라이빗 변수 선언, 외부에서 접근 불가\n",
    "                                             #내부 함수에서만 접근 가능\n",
    "    @property  #getter 함수 정의\n",
    "    def score(self):                     \n",
    "        return self.__score\n",
    "    \n",
    "    @score.setter     # setter 함수 정의\n",
    "    def score(self,value):\n",
    "        self.__score = value\n",
    "        \n",
    "a = Test(100)\n",
    "print(a.score)\n",
    "a.score = 90\n",
    "print(a.score)\n",
    "\n",
    "        "
   ]
  },
  {
   "cell_type": "code",
   "execution_count": null,
   "id": "90d02d54",
   "metadata": {},
   "outputs": [],
   "source": []
  },
  {
   "cell_type": "code",
   "execution_count": null,
   "id": "4c61a47e",
   "metadata": {},
   "outputs": [],
   "source": []
  },
  {
   "cell_type": "code",
   "execution_count": null,
   "id": "e6f5ffeb",
   "metadata": {},
   "outputs": [],
   "source": []
  },
  {
   "cell_type": "code",
   "execution_count": null,
   "id": "9a10c8e8",
   "metadata": {},
   "outputs": [],
   "source": []
  },
  {
   "cell_type": "code",
   "execution_count": null,
   "id": "a65ee0da",
   "metadata": {},
   "outputs": [],
   "source": []
  },
  {
   "cell_type": "code",
   "execution_count": null,
   "id": "9d559ff6",
   "metadata": {},
   "outputs": [],
   "source": []
  }
 ],
 "metadata": {
  "kernelspec": {
   "display_name": "Python 3 (ipykernel)",
   "language": "python",
   "name": "python3"
  },
  "language_info": {
   "codemirror_mode": {
    "name": "ipython",
    "version": 3
   },
   "file_extension": ".py",
   "mimetype": "text/x-python",
   "name": "python",
   "nbconvert_exporter": "python",
   "pygments_lexer": "ipython3",
   "version": "3.9.12"
  }
 },
 "nbformat": 4,
 "nbformat_minor": 5
}
