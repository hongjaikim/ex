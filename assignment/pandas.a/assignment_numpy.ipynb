{
 "cells": [
  {
   "cell_type": "code",
   "execution_count": null,
   "id": "e89cdcd0",
   "metadata": {},
   "outputs": [],
   "source": [
    "# < 실습 : ExCnTitanic.py >\n",
    "# 다음 명령으로 타이타닉호 승객 데이터를 데이터프레임으로 읽어온다. \n",
    "# 이 명령을 실행하려면 seaborn 패키지가 설치되어 있어야 한다.\n",
    "\n",
    "# import seaborn as sns \n",
    "# titanic = sns.load_dataset(\"titanic\")\n",
    "\n",
    "# 타이타닉호 승객 데이터의 데이터 값을 각 열마다 구해본다.\n"
   ]
  },
  {
   "cell_type": "code",
   "execution_count": null,
   "id": "8888d8c0",
   "metadata": {},
   "outputs": [],
   "source": [
    "# 타이타닉호 승객중 성별(sex) 인원수, 나이별(age) \n",
    "#인원수, 선실별(class) 인원수, 사망/생존(alive) 인원수를 구하라.\n"
   ]
  },
  {
   "cell_type": "code",
   "execution_count": null,
   "id": "8ce1c3ff",
   "metadata": {},
   "outputs": [],
   "source": [
    "# # 연습 문제 \n",
    "\n",
    "# bins = [1, 15, 25, 35, 60, 99] \n",
    "# labels = [\"미성년자\", \"청년\", \"중년\", \"장년\", \"노년\"]\n",
    "\n",
    "# 타이타닉호 승객을 사망자와 생존자 그룹으로 나누고 각 그룹에 대해 '미성년자', '청년', '중년', '장년', '노년' 승객의 비율을 구한다. \n",
    "# 각 그룹 별로 비율의 전체 합은 1이 되어야 한다.\n"
   ]
  }
 ],
 "metadata": {
  "kernelspec": {
   "display_name": "Python 3 (ipykernel)",
   "language": "python",
   "name": "python3"
  },
  "language_info": {
   "codemirror_mode": {
    "name": "ipython",
    "version": 3
   },
   "file_extension": ".py",
   "mimetype": "text/x-python",
   "name": "python",
   "nbconvert_exporter": "python",
   "pygments_lexer": "ipython3",
   "version": "3.9.12"
  }
 },
 "nbformat": 4,
 "nbformat_minor": 5
}
