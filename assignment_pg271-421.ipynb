{
 "cells": [
  {
   "cell_type": "code",
   "execution_count": 1,
   "id": "83fafac8",
   "metadata": {},
   "outputs": [
    {
     "name": "stdout",
     "output_type": "stream",
     "text": [
      "21\n"
     ]
    }
   ],
   "source": [
    "#pg 290 확인문제 1-1번\n",
    "\n",
    "def f(x):\n",
    "    return 2*x+1\n",
    "print(f(10))\n"
   ]
  },
  {
   "cell_type": "code",
   "execution_count": 2,
   "id": "1d7d0281",
   "metadata": {},
   "outputs": [
    {
     "name": "stdout",
     "output_type": "stream",
     "text": [
      "121\n"
     ]
    }
   ],
   "source": [
    "#pg 290 확인문제 1-2번\n",
    "def f(x):\n",
    "    return x**2 + 2*x + 1\n",
    "print(f(10))"
   ]
  },
  {
   "cell_type": "code",
   "execution_count": 3,
   "id": "4f74532f",
   "metadata": {},
   "outputs": [
    {
     "name": "stdout",
     "output_type": "stream",
     "text": [
      "3150\n"
     ]
    }
   ],
   "source": [
    "# pg 291 확인문제 2번\n",
    "def mul(*values):\n",
    "    result = 1\n",
    "    for i in values:\n",
    "        result *= i\n",
    "    return result\n",
    "print(mul(5,7,9,10))\n",
    "    \n",
    "    "
   ]
  },
  {
   "cell_type": "code",
   "execution_count": 15,
   "id": "27addb62",
   "metadata": {},
   "outputs": [
    {
     "ename": "TypeError",
     "evalue": "function() missing 2 required keyword-only arguments: 'valueA' and 'valueB'",
     "output_type": "error",
     "traceback": [
      "\u001b[1;31m---------------------------------------------------------------------------\u001b[0m",
      "\u001b[1;31mTypeError\u001b[0m                                 Traceback (most recent call last)",
      "Input \u001b[1;32mIn [15]\u001b[0m, in \u001b[0;36m<cell line: 4>\u001b[1;34m()\u001b[0m\n\u001b[0;32m      2\u001b[0m \u001b[38;5;28;01mdef\u001b[39;00m \u001b[38;5;21mfunction\u001b[39m(\u001b[38;5;241m*\u001b[39mvalues,valueA ,valueB):\n\u001b[0;32m      3\u001b[0m     \u001b[38;5;28;01mpass\u001b[39;00m\n\u001b[1;32m----> 4\u001b[0m \u001b[43mfunction\u001b[49m\u001b[43m(\u001b[49m\u001b[38;5;241;43m1\u001b[39;49m\u001b[43m,\u001b[49m\u001b[38;5;241;43m2\u001b[39;49m\u001b[43m,\u001b[49m\u001b[38;5;241;43m3\u001b[39;49m\u001b[43m,\u001b[49m\u001b[38;5;241;43m4\u001b[39;49m\u001b[43m,\u001b[49m\u001b[38;5;241;43m5\u001b[39;49m\u001b[43m)\u001b[49m\n",
      "\u001b[1;31mTypeError\u001b[0m: function() missing 2 required keyword-only arguments: 'valueA' and 'valueB'"
     ]
    }
   ],
   "source": [
    "# pg 291 확인문제 3번\n",
    "def function(*values,valueA ,valueB):\n",
    "    pass\n",
    "function(1,2,3,4,5)"
   ]
  },
  {
   "cell_type": "code",
   "execution_count": 18,
   "id": "01dc5f65",
   "metadata": {},
   "outputs": [
    {
     "name": "stdout",
     "output_type": "stream",
     "text": [
      "437420\n"
     ]
    }
   ],
   "source": [
    "# pg314 확인문제 1번 (*이해안감*)\n",
    "min_hum = 2\n",
    "max_hum = 10\n",
    "all_hum = 100\n",
    "memo = {}\n",
    "\n",
    "def fun(l_hum,s_hum):\n",
    "    key = str([l_hum,s_hum])\n",
    "    \n",
    "    if key in memo:\n",
    "        return memo[key]\n",
    "    if l_hum < 0:\n",
    "        return 0\n",
    "    if l_hum == 0 :\n",
    "        return 1\n",
    "    \n",
    "    count = 0\n",
    "    for i in range(s_hum,max_hum+1):\n",
    "        count += fun(l_hum - i, i)\n",
    "        \n",
    "    memo[key] = count\n",
    "    \n",
    "    return count\n",
    "\n",
    "print(fun(all_hum,min_hum))"
   ]
  },
  {
   "cell_type": "code",
   "execution_count": 24,
   "id": "3bf26b6a",
   "metadata": {},
   "outputs": [
    {
     "name": "stdout",
     "output_type": "stream",
     "text": [
      "1::2::3::4::5::6\n"
     ]
    }
   ],
   "source": [
    "# pg 352 확인문제 1번\n",
    "numbers = [1,2,3,4,5,6]\n",
    "\n",
    "print(\"::\".join(map(str,numbers)))"
   ]
  },
  {
   "cell_type": "code",
   "execution_count": 30,
   "id": "0cec9b74",
   "metadata": {},
   "outputs": [
    {
     "name": "stdout",
     "output_type": "stream",
     "text": [
      "# 홀수만 추출하기\n",
      "[1, 3, 5, 7, 9]\n",
      "\n",
      "# 3 이상, 7 미만 추출하기\n",
      "[3, 4, 5, 6]\n",
      "\n",
      "# 제곱해서 50 미만 추출하기\n",
      "[1, 2, 3, 4, 5, 6, 7]\n",
      "\n"
     ]
    }
   ],
   "source": [
    "# pg 353 확인문제 2번\n",
    "numbers = list(range(1,10+1))\n",
    "\n",
    "print(\"# 홀수만 추출하기\")\n",
    "print(list(filter(lambda a: a % 2 == 1 , numbers)))\n",
    "print()\n",
    "\n",
    "print(\"# 3 이상, 7 미만 추출하기\")\n",
    "print(list(filter(lambda a: a>= 3 and a < 7 , numbers)))\n",
    "print()\n",
    "\n",
    "print(\"# 제곱해서 50 미만 추출하기\")\n",
    "print(list(filter(lambda a: a**2 < 50 , numbers)))\n",
    "print()"
   ]
  },
  {
   "cell_type": "code",
   "execution_count": 15,
   "id": "ea9a529f",
   "metadata": {},
   "outputs": [
    {
     "name": "stdout",
     "output_type": "stream",
     "text": [
      "원판의 개수를 입력하세요: 3\n",
      "A탑 -> B탑\n",
      "A탑 -> C탑\n",
      "B탑 -> C탑\n",
      "A탑 -> B탑\n",
      "C탑 -> A탑\n",
      "C탑 -> B탑\n",
      "A탑 -> B탑\n"
     ]
    }
   ],
   "source": [
    "#pg 354 도전문제 1번 (\"어려움\")\n",
    "def hanoi(num,st,ob,su):\n",
    "    if num == 1:\n",
    "        print(f\"{st}탑 -> {ob}탑\")\n",
    "    else:\n",
    "        hanoi(num-1,st,su,ob)\n",
    "        print(f\"{st}탑 -> {ob}탑\")\n",
    "        hanoi(num-1,su,ob,st)\n",
    "        \n",
    "n = int(input(\"원판의 개수를 입력하세요: \"))\n",
    "hanoi(n,\"A\",\"B\",\"C\")\n",
    "        \n",
    "        \n",
    "        "
   ]
  },
  {
   "cell_type": "code",
   "execution_count": null,
   "id": "0c67c01f",
   "metadata": {},
   "outputs": [],
   "source": [
    "# pg 379 확인문제 1번\n",
    "# syntax error = 시작전\n",
    "# exception = 시작후"
   ]
  },
  {
   "cell_type": "code",
   "execution_count": 34,
   "id": "930bb3de",
   "metadata": {},
   "outputs": [
    {
     "name": "stdout",
     "output_type": "stream",
     "text": [
      "# (1) 요소 내부에 있는 값 찾기\n",
      "- 52는 0 위치에 있습니다.\n",
      "\n",
      "# (2) 요소 내부에 없는 값 찾기\n",
      "-리스트 내부에 없는 값입니다.\n",
      "\n",
      "--- 정상적으로 종료되었습니다. ---\n",
      "\n",
      "# (1) 요소 내부에 있는 값 찾기\n",
      "- 52는 0 위치에 있습니다.\n",
      "\n",
      "# (2) 요소 내부에 없는 값 찾기\n",
      "-리스트 내부에 없는 값입니다.\n",
      "\n",
      "--- 정상적으로 종료되었습니다. ---\n"
     ]
    }
   ],
   "source": [
    "# pg 379 확인문제 2번\n",
    "numbers = [52,273,32,103,90,10,275]\n",
    "\n",
    "print(\"# (1) 요소 내부에 있는 값 찾기\")\n",
    "print(f\"- {52}는 {numbers.index(52)} 위치에 있습니다.\")\n",
    "print()\n",
    "\n",
    "print(\"# (2) 요소 내부에 없는 값 찾기\")\n",
    "number = 10000\n",
    "if number in numbers:\n",
    "    print(f\"- {number}는 {numbers.index(number)} 위치에 있습니다.\")\n",
    "else:\n",
    "    print(\"-리스트 내부에 없는 값입니다.\")\n",
    "print()\n",
    "\n",
    "print(\"--- 정상적으로 종료되었습니다. ---\")\n",
    "print()\n",
    "    \n",
    "    \n",
    "numbers = [52,273,32,103,90,10,275]\n",
    "\n",
    "print(\"# (1) 요소 내부에 있는 값 찾기\")\n",
    "print(f\"- {52}는 {numbers.index(52)} 위치에 있습니다.\")\n",
    "print()\n",
    "\n",
    "print(\"# (2) 요소 내부에 없는 값 찾기\")\n",
    "number = 10000\n",
    "try:\n",
    "    print(f\"- {number}는 {numbers.index(number)} 위치에 있습니다.\")\n",
    "except:\n",
    "    print(\"-리스트 내부에 없는 값입니다.\")\n",
    "print()\n",
    "\n",
    "print(\"--- 정상적으로 종료되었습니다. ---\")"
   ]
  },
  {
   "cell_type": "code",
   "execution_count": 37,
   "id": "69cd9fac",
   "metadata": {},
   "outputs": [
    {
     "ename": "TypeError",
     "evalue": "unsupported operand type(s) for +: 'int' and 'str'",
     "output_type": "error",
     "traceback": [
      "\u001b[1;31m---------------------------------------------------------------------------\u001b[0m",
      "\u001b[1;31mTypeError\u001b[0m                                 Traceback (most recent call last)",
      "Input \u001b[1;32mIn [37]\u001b[0m, in \u001b[0;36m<cell line: 2>\u001b[1;34m()\u001b[0m\n\u001b[0;32m      1\u001b[0m \u001b[38;5;66;03m# pg381 확인문제 3번\u001b[39;00m\n\u001b[1;32m----> 2\u001b[0m output \u001b[38;5;241m=\u001b[39m \u001b[38;5;241;43m10\u001b[39;49m\u001b[43m \u001b[49m\u001b[38;5;241;43m+\u001b[39;49m\u001b[43m \u001b[49m\u001b[38;5;124;43m\"\u001b[39;49m\u001b[38;5;124;43m개\u001b[39;49m\u001b[38;5;124;43m\"\u001b[39;49m\n",
      "\u001b[1;31mTypeError\u001b[0m: unsupported operand type(s) for +: 'int' and 'str'"
     ]
    }
   ],
   "source": [
    "# pg381 확인문제 3번\n",
    "output = 10 + \"개\""
   ]
  },
  {
   "cell_type": "code",
   "execution_count": 38,
   "id": "182d4d01",
   "metadata": {},
   "outputs": [
    {
     "ename": "ValueError",
     "evalue": "invalid literal for int() with base 10: '안녕하세요'",
     "output_type": "error",
     "traceback": [
      "\u001b[1;31m---------------------------------------------------------------------------\u001b[0m",
      "\u001b[1;31mValueError\u001b[0m                                Traceback (most recent call last)",
      "Input \u001b[1;32mIn [38]\u001b[0m, in \u001b[0;36m<cell line: 1>\u001b[1;34m()\u001b[0m\n\u001b[1;32m----> 1\u001b[0m \u001b[38;5;28;43mint\u001b[39;49m\u001b[43m(\u001b[49m\u001b[38;5;124;43m\"\u001b[39;49m\u001b[38;5;124;43m안녕하세요\u001b[39;49m\u001b[38;5;124;43m\"\u001b[39;49m\u001b[43m)\u001b[49m\n",
      "\u001b[1;31mValueError\u001b[0m: invalid literal for int() with base 10: '안녕하세요'"
     ]
    }
   ],
   "source": [
    "int(\"안녕하세요\")"
   ]
  },
  {
   "cell_type": "code",
   "execution_count": 39,
   "id": "fe5a422a",
   "metadata": {},
   "outputs": [
    {
     "ename": "SyntaxError",
     "evalue": "unmatched ')' (1078099324.py, line 1)",
     "output_type": "error",
     "traceback": [
      "\u001b[1;36m  Input \u001b[1;32mIn [39]\u001b[1;36m\u001b[0m\n\u001b[1;33m    cursor.close)\u001b[0m\n\u001b[1;37m                ^\u001b[0m\n\u001b[1;31mSyntaxError\u001b[0m\u001b[1;31m:\u001b[0m unmatched ')'\n"
     ]
    }
   ],
   "source": [
    "cursor.close)"
   ]
  },
  {
   "cell_type": "code",
   "execution_count": 40,
   "id": "575dfcf8",
   "metadata": {},
   "outputs": [
    {
     "ename": "IndexError",
     "evalue": "list index out of range",
     "output_type": "error",
     "traceback": [
      "\u001b[1;31m---------------------------------------------------------------------------\u001b[0m",
      "\u001b[1;31mIndexError\u001b[0m                                Traceback (most recent call last)",
      "Input \u001b[1;32mIn [40]\u001b[0m, in \u001b[0;36m<cell line: 1>\u001b[1;34m()\u001b[0m\n\u001b[1;32m----> 1\u001b[0m \u001b[43m[\u001b[49m\u001b[38;5;241;43m1\u001b[39;49m\u001b[43m,\u001b[49m\u001b[38;5;241;43m2\u001b[39;49m\u001b[43m,\u001b[49m\u001b[38;5;241;43m3\u001b[39;49m\u001b[43m,\u001b[49m\u001b[38;5;241;43m4\u001b[39;49m\u001b[43m,\u001b[49m\u001b[38;5;241;43m5\u001b[39;49m\u001b[43m]\u001b[49m\u001b[43m[\u001b[49m\u001b[38;5;241;43m10\u001b[39;49m\u001b[43m]\u001b[49m\n",
      "\u001b[1;31mIndexError\u001b[0m: list index out of range"
     ]
    }
   ],
   "source": [
    "[1,2,3,4,5][10]"
   ]
  },
  {
   "cell_type": "code",
   "execution_count": 42,
   "id": "3c268202",
   "metadata": {},
   "outputs": [
    {
     "ename": "NameError",
     "evalue": "name 'asd' is not defined",
     "output_type": "error",
     "traceback": [
      "\u001b[1;31m---------------------------------------------------------------------------\u001b[0m",
      "\u001b[1;31mNameError\u001b[0m                                 Traceback (most recent call last)",
      "Input \u001b[1;32mIn [42]\u001b[0m, in \u001b[0;36m<cell line: 2>\u001b[1;34m()\u001b[0m\n\u001b[0;32m      1\u001b[0m \u001b[38;5;66;03m#pg 395 확인문제 1번\u001b[39;00m\n\u001b[1;32m----> 2\u001b[0m \u001b[38;5;28;01mraise\u001b[39;00m \u001b[43masd\u001b[49m\n",
      "\u001b[1;31mNameError\u001b[0m: name 'asd' is not defined"
     ]
    }
   ],
   "source": [
    "#pg 395 확인문제 1번\n",
    "raise asd"
   ]
  },
  {
   "cell_type": "code",
   "execution_count": null,
   "id": "537d9241",
   "metadata": {},
   "outputs": [],
   "source": [
    "#pg 395 확인문제 2번"
   ]
  },
  {
   "cell_type": "code",
   "execution_count": 43,
   "id": "944e6fa2",
   "metadata": {},
   "outputs": [
    {
     "ename": "SyntaxError",
     "evalue": "invalid syntax (3945882539.py, line 2)",
     "output_type": "error",
     "traceback": [
      "\u001b[1;36m  Input \u001b[1;32mIn [43]\u001b[1;36m\u001b[0m\n\u001b[1;33m    import sin,cos,tan from math\u001b[0m\n\u001b[1;37m                       ^\u001b[0m\n\u001b[1;31mSyntaxError\u001b[0m\u001b[1;31m:\u001b[0m invalid syntax\n"
     ]
    }
   ],
   "source": [
    "# pg419 확인문제 1번\n",
    "import sin,cos,tan from math"
   ]
  },
  {
   "cell_type": "code",
   "execution_count": null,
   "id": "5a4b92e7",
   "metadata": {},
   "outputs": [],
   "source": [
    "# pg419 확인문제 2번"
   ]
  },
  {
   "cell_type": "code",
   "execution_count": 45,
   "id": "a584993f",
   "metadata": {},
   "outputs": [
    {
     "name": "stdout",
     "output_type": "stream",
     "text": [
      "os.listdir(): ['.git', '.ipynb_checkpoints', 'assignment_pg150-215.ipynb', 'assignment_pg216-270.ipynb', 'assignment_pg271-.ipynb', 'cal.ipynb', 'day-1.ipynb', 'day-1.py', 'day-2.ipynb', 'day-3.ipynb', 'day-4-module.ipynb', 'day-4.ipynb', 'naver_movie_rank.ipynb', 'naver_papago.ipynb', 'number_baseball.ipynb', 'sum_0621-0622.txt', 'sum_0623_0-140.txt', 'sum_0624_141-215.txt']\n",
      "\n",
      "# 폴더와 파일 구분하기\n",
      "폴더: .git\n",
      "폴더: .ipynb_checkpoints\n",
      "파일: assignment_pg150-215.ipynb\n",
      "파일: assignment_pg216-270.ipynb\n",
      "파일: assignment_pg271-.ipynb\n",
      "파일: cal.ipynb\n",
      "파일: day-1.ipynb\n",
      "파일: day-1.py\n",
      "파일: day-2.ipynb\n",
      "파일: day-3.ipynb\n",
      "파일: day-4-module.ipynb\n",
      "파일: day-4.ipynb\n",
      "파일: naver_movie_rank.ipynb\n",
      "파일: naver_papago.ipynb\n",
      "파일: number_baseball.ipynb\n",
      "파일: sum_0621-0622.txt\n",
      "파일: sum_0623_0-140.txt\n",
      "파일: sum_0624_141-215.txt\n"
     ]
    }
   ],
   "source": [
    "# pg420 확인문제 3번\n",
    "import os\n",
    "\n",
    "output = os.listdir(\".\")\n",
    "print(\"os.listdir():\",output)\n",
    "print()\n",
    "\n",
    "print(\"# 폴더와 파일 구분하기\")\n",
    "for path in output:\n",
    "    if os.path.isdir(path):\n",
    "        print(\"폴더:\",path)\n",
    "    else:\n",
    "        print(\"파일:\",path)\n",
    "\n"
   ]
  },
  {
   "cell_type": "code",
   "execution_count": 9,
   "id": "5716b9d5",
   "metadata": {},
   "outputs": [
    {
     "name": "stdout",
     "output_type": "stream",
     "text": [
      "파일: COMMIT_EDITMSG\n",
      "파일: config\n",
      "파일: description\n",
      "파일: FETCH_HEAD\n",
      "파일: fsmonitor--daemon\n",
      "파일: HEAD\n",
      "파일: hooks\n",
      "파일: index\n",
      "파일: info\n",
      "파일: logs\n",
      "파일: objects\n",
      "파일: ORIG_HEAD\n",
      "파일: packed-refs\n",
      "파일: refs\n",
      "파일: assignment_pg216-270-checkpoint.ipynb\n",
      "파일: assignment_pg271--checkpoint.ipynb\n",
      "파일: day-2-checkpoint.ipynb\n",
      "파일: number_baseball-checkpoint.ipynb\n",
      "파일: assignment_pg150-215.ipynb\n",
      "파일: assignment_pg216-270.ipynb\n",
      "파일: assignment_pg271-.ipynb\n",
      "파일: cal.ipynb\n",
      "파일: day-1.ipynb\n",
      "파일: day-1.py\n",
      "파일: day-2.ipynb\n",
      "파일: day-3.ipynb\n",
      "파일: day-4-module.ipynb\n",
      "파일: day-4.ipynb\n",
      "파일: naver_movie_rank.ipynb\n",
      "파일: naver_papago.ipynb\n",
      "파일: number_baseball.ipynb\n",
      "파일: sum_0621-0622.txt\n",
      "파일: sum_0623_0-140.txt\n",
      "파일: sum_0624_141-215.txt\n"
     ]
    }
   ],
   "source": [
    "# 추가 (\"??\")\n",
    "import os\n",
    "\n",
    "def read_folder(path):\n",
    "    output = os.listdir(path)\n",
    "    \n",
    "    for item in output:\n",
    "        if os.path.isdir(item):\n",
    "            read_folder(item)\n",
    "        else:\n",
    "            print(\"파일:\",item)\n",
    "\n",
    "read_folder(\".\")"
   ]
  },
  {
   "cell_type": "code",
   "execution_count": null,
   "id": "03e2a204",
   "metadata": {},
   "outputs": [],
   "source": []
  },
  {
   "cell_type": "code",
   "execution_count": null,
   "id": "c3c13b87",
   "metadata": {},
   "outputs": [],
   "source": []
  },
  {
   "cell_type": "code",
   "execution_count": null,
   "id": "f7c9b7c5",
   "metadata": {},
   "outputs": [],
   "source": []
  },
  {
   "cell_type": "code",
   "execution_count": null,
   "id": "7c5393b7",
   "metadata": {},
   "outputs": [],
   "source": []
  },
  {
   "cell_type": "code",
   "execution_count": null,
   "id": "875e53cc",
   "metadata": {},
   "outputs": [],
   "source": []
  }
 ],
 "metadata": {
  "kernelspec": {
   "display_name": "Python 3 (ipykernel)",
   "language": "python",
   "name": "python3"
  },
  "language_info": {
   "codemirror_mode": {
    "name": "ipython",
    "version": 3
   },
   "file_extension": ".py",
   "mimetype": "text/x-python",
   "name": "python",
   "nbconvert_exporter": "python",
   "pygments_lexer": "ipython3",
   "version": "3.9.12"
  }
 },
 "nbformat": 4,
 "nbformat_minor": 5
}
